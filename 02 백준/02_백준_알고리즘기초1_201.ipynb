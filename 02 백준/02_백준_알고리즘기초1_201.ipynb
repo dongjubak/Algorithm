{
 "cells": [
  {
   "attachments": {
    "e9062d60-22dc-4484-a3d5-8bdf981d60ea.png": {
     "image/png": "[encoded data removed]"
    }
   },
   "cell_type": "markdown",
   "id": "33619495-3885-41d6-bbb0-f2e4f7ccd5b6",
   "metadata": {},
   "source": [
    "![image.png](attachment:e9062d60-22dc-4484-a3d5-8bdf981d60ea.png)\n",
    "\n",
    "- https://code.plus/course/41"
   ]
  },
  {
   "cell_type": "markdown",
   "id": "cdcd4089-bf8e-4c26-a55a-0f93a2a2e73c",
   "metadata": {
    "jp-MarkdownHeadingCollapsed": true,
    "tags": []
   },
   "source": [
    "### 17413.단어 뒤집기 2\n",
    "\n",
    "- https://www.acmicpc.net/problem/17413\n",
    "- 실버3\n",
    "- 221001.토.\n",
    "- 시작 17:14\n",
    "- 끝 17:56"
   ]
  },
  {
   "cell_type": "code",
   "execution_count": null,
   "id": "f1665189-39e7-4648-afe0-fe451b60298c",
   "metadata": {
    "collapsed": true,
    "jupyter": {
     "outputs_hidden": true,
     "source_hidden": true
    },
    "tags": []
   },
   "outputs": [
    {
     "name": "stdin",
     "output_type": "stream",
     "text": [
      " <open>tag<close>\n"
     ]
    },
    {
     "data": {
      "text/plain": [
       "'<open>gat<close>'"
      ]
     },
     "execution_count": 5,
     "metadata": {},
     "output_type": "execute_result"
    }
   ],
   "source": [
    "# 중간과정\n",
    "\n",
    "array = input()\n",
    "\n",
    "result = []\n",
    "string = []\n",
    "chg = False\n",
    "\n",
    "for x in array:\n",
    "    if x == '<':\n",
    "        if string:\n",
    "            result += string[::-1]\n",
    "            string = []\n",
    "        chg = True\n",
    "        result.append(x)\n",
    "    elif x == '>':\n",
    "        chg = False\n",
    "        result.append(x)\n",
    "    else:\n",
    "        if chg:\n",
    "            result.append(x)\n",
    "        else:\n",
    "            if \n",
    "            string.append(x)\n",
    "            \n",
    "''.join(result)"
   ]
  },
  {
   "cell_type": "code",
   "execution_count": 17,
   "id": "721d4af1-f35e-4f98-8c5d-599a9c381598",
   "metadata": {},
   "outputs": [
    {
     "name": "stdin",
     "output_type": "stream",
     "text": [
      " one1 two2 three3 4fourr 5five 6six\n"
     ]
    },
    {
     "name": "stdout",
     "output_type": "stream",
     "text": [
      "1eno 2owt 3eerht rruof4 evif5 xis6\n"
     ]
    }
   ],
   "source": [
    "array = input()\n",
    "\n",
    "result = []\n",
    "box = ''\n",
    "chg = False\n",
    "\n",
    "for x in array:\n",
    "    if x == '<':\n",
    "        if box:\n",
    "            result.append(box[::-1])\n",
    "            box = ''\n",
    "        chg = True\n",
    "        box += x\n",
    "    elif x == '>':\n",
    "        chg = False\n",
    "        box += x\n",
    "        result.append(box)\n",
    "        box = ''\n",
    "    else:\n",
    "        if chg:\n",
    "            box += x\n",
    "        else:\n",
    "            if x == ' ':\n",
    "                result.append(box[::-1])\n",
    "                result.append(x)\n",
    "                box = ''\n",
    "            else:\n",
    "                box += x\n",
    "                \n",
    "if box:\n",
    "    result.append(box[::-1])\n",
    "\n",
    "print(''.join(result))"
   ]
  },
  {
   "cell_type": "code",
   "execution_count": null,
   "id": "01b30122-c579-41fd-a332-4b77911dcf29",
   "metadata": {},
   "outputs": [],
   "source": [
    "# 백준 제출용\n",
    "\n",
    "import sys\n",
    "input = sys.stdin.readline\n",
    "\n",
    "array = input().rstrip()\n",
    "\n",
    "result = []\n",
    "box = ''\n",
    "chg = False\n",
    "\n",
    "for x in array:\n",
    "    if x == '<':\n",
    "        if box:\n",
    "            result.append(box[::-1])\n",
    "            box = ''\n",
    "        chg = True\n",
    "        box += x\n",
    "    elif x == '>':\n",
    "        chg = False\n",
    "        box += x\n",
    "        result.append(box)\n",
    "        box = ''\n",
    "    else:\n",
    "        if chg:\n",
    "            box += x\n",
    "        else:\n",
    "            if x == ' ':\n",
    "                result.append(box[::-1])\n",
    "                result.append(x)\n",
    "                box = ''\n",
    "            else:\n",
    "                box += x\n",
    "                \n",
    "if box:\n",
    "    result.append(box[::-1])\n",
    "\n",
    "print(''.join(result))"
   ]
  },
  {
   "cell_type": "code",
   "execution_count": 18,
   "id": "d51466f1-909a-43ba-83c9-c43f29835f93",
   "metadata": {},
   "outputs": [
    {
     "name": "stdin",
     "output_type": "stream",
     "text": [
      " <ab cd>ef gh<ij kl>\n"
     ]
    },
    {
     "data": {
      "text/plain": [
       "['', 'ab cd', 'ef gh', 'ij kl', '']"
      ]
     },
     "execution_count": 18,
     "metadata": {},
     "output_type": "execute_result"
    }
   ],
   "source": [
    "a=input()\n",
    "b=a.replace('>','<').split('<')\n",
    "b"
   ]
  },
  {
   "cell_type": "code",
   "execution_count": 25,
   "id": "b1e9826a-609f-4496-bcb2-8a8c58daa89e",
   "metadata": {},
   "outputs": [
    {
     "name": "stdin",
     "output_type": "stream",
     "text": [
      " one1 two2 three3 4fourr 5five 6six\n"
     ]
    },
    {
     "name": "stdout",
     "output_type": "stream",
     "text": [
      "['one1', 'two2', 'three3', '4fourr', '5five', '6six']\n",
      "0 1eno 2owt 3eerht rruof4 evif5 xis6\n",
      "1eno 2owt 3eerht rruof4 evif5 xis6\n"
     ]
    }
   ],
   "source": [
    "# 모범답안\n",
    "\n",
    "a=input()\n",
    "b=a.replace('>','<').split('<')\n",
    "s=\"\"\n",
    "for i in range(len(b)):\n",
    "    if i%2:\n",
    "        s+='<'+b[i]+'>'\n",
    "    else:\n",
    "        c=b[i].split()\n",
    "        print(c)\n",
    "        s+=' '.join([d[::-1] for d in c])\n",
    "    print(i, s)\n",
    "print(s)"
   ]
  },
  {
   "cell_type": "code",
   "execution_count": 26,
   "id": "ae3da875-448b-418f-991d-ca9e8877b932",
   "metadata": {},
   "outputs": [
    {
     "name": "stdin",
     "output_type": "stream",
     "text": [
      " <ab cd>ef gh<ij kl>\n"
     ]
    },
    {
     "name": "stdout",
     "output_type": "stream",
     "text": [
      "<ab cd>fe hg<ij kl>\n"
     ]
    }
   ],
   "source": [
    "# 모범답안\n",
    "\n",
    "a=input()\n",
    "b=a.replace('>','<').split('<')\n",
    "s=\"\"\n",
    "for i in range(len(b)):\n",
    "    if i%2:\n",
    "        s+='<'+b[i]+'>'\n",
    "    else:\n",
    "        c=b[i].split()\n",
    "        s+=' '.join([d[::-1] for d in c])\n",
    "\n",
    "print(s)"
   ]
  },
  {
   "cell_type": "code",
   "execution_count": 33,
   "id": "6700f67b-a59f-4656-b46d-785a44c4f80d",
   "metadata": {},
   "outputs": [
    {
     "name": "stdin",
     "output_type": "stream",
     "text": [
      " one1 two2 three3 4fourr 5five 6six\n"
     ]
    },
    {
     "name": "stdout",
     "output_type": "stream",
     "text": [
      "1eno 2owt 3eerht rruof4 evif5 xis6\n"
     ]
    }
   ],
   "source": [
    "# 모범답안2\n",
    "\n",
    "s = ''\n",
    "for t in input().split('<'):\n",
    "    if '>' in t:\n",
    "        x, y = t.split('>')\n",
    "        s+= '<' + x + '>' + ' '.join(map(lambda t: t[::-1], y.split(' ')))\n",
    "    else: s += ' '.join(map(lambda t: t[::-1], t.split(' ')))\n",
    "print(s)"
   ]
  },
  {
   "cell_type": "markdown",
   "id": "4fa20703-2a27-4d74-9f4e-e172abf28ace",
   "metadata": {
    "jp-MarkdownHeadingCollapsed": true,
    "tags": []
   },
   "source": [
    "### 10799. 쇠막대기\n",
    "\n",
    "- https://www.acmicpc.net/problem/10799\n",
    "- 실버3\n",
    "- 221002.일.\n",
    "- 시작 21:04\n",
    "- 끝 21:50 (46분 걸림!!!)"
   ]
  },
  {
   "cell_type": "code",
   "execution_count": 15,
   "id": "4de5ef95-9b5d-4a12-8c7e-65be3383a4b3",
   "metadata": {},
   "outputs": [
    {
     "data": {
      "text/plain": [
       "['', '(((', '', ')(', ')', '))(', ')']"
      ]
     },
     "execution_count": 15,
     "metadata": {},
     "output_type": "execute_result"
    }
   ],
   "source": [
    "array = '()(((()())(())()))(())'\n",
    "array = array.split('()')\n",
    "array"
   ]
  },
  {
   "cell_type": "code",
   "execution_count": 16,
   "id": "8b0e1c22-7840-498f-9b28-95468615b9d9",
   "metadata": {},
   "outputs": [
    {
     "name": "stdin",
     "output_type": "stream",
     "text": [
      " ()(((()())(())()))(())\n"
     ]
    },
    {
     "name": "stdout",
     "output_type": "stream",
     "text": [
      "17\n"
     ]
    }
   ],
   "source": [
    "# 일단 예제 성공!!!!\n",
    "# 예제 통과 및 제출 다 통과!!\n",
    "\n",
    "array = input().split('()')\n",
    "stack = []\n",
    "cnt = 0\n",
    "\n",
    "for xs in array:\n",
    "    if not xs:\n",
    "        if not stack:\n",
    "            stack.append(0)\n",
    "        else:\n",
    "            stack.append(cnt)\n",
    "    elif xs[0] == '(':\n",
    "        cnt += len(xs)\n",
    "        stack.append(cnt)\n",
    "    elif xs[0] == ')':\n",
    "        if '(' not in xs:\n",
    "            stack.append(cnt)\n",
    "            cnt -= len(xs)\n",
    "        else:\n",
    "            stack.append(cnt + xs.count('('))\n",
    "            cnt = cnt - xs.count(')') + xs.count('(')\n",
    "            \n",
    "print(sum(stack))"
   ]
  },
  {
   "cell_type": "markdown",
   "id": "70340384-bbe1-4aef-a9f8-915f31b5f120",
   "metadata": {},
   "source": [
    "[ 문제 접근 및 풀이 과정 (위 코드) ]\n",
    "\n",
    "- 중점\n",
    "    - input 을 '()'로 split 한다.\n",
    "- 풀이 과정\n",
    "    1. input 받은 것을 '()'로 split을 하고, 파이프 개수를 기록할 cnt와 총 개수를 기록할 stack을 만든다.\n",
    "    2. 겹치지 않는 모든 조건(MECE)을 고려한 조건문을 생성하며 처리해 나간다.\n",
    "        - '' 인 경우\n",
    "            - ㄱ. 파이프가 없는데 레이저 쏘는 경우\n",
    "            - ㄴ. 있는데 쏘는 경우\n",
    "        - '(' 로 시작하는 경우\n",
    "            - ㄱ. 이 경우는 cnt를 '('개수만큼 +하고 stack에 넣으면 됨. '()'로 스플릿 했기 때문에 ')'는 있을 수 없음\n",
    "        - ')' 로 시작하는 경우\n",
    "            - ㄱ. ')' 만 있는 경우. cnt를 stack에 넣고 ')' 개수만큼 cnt를 빼는 방식으로 업데이트\n",
    "            - ㄴ. '(' 도 있는 경우. ex) ')(('. cnt + '(' 개수를 stack에 넣고, cnt를 -')'개수 + '('개수\n",
    "    3. stack의 합"
   ]
  },
  {
   "cell_type": "code",
   "execution_count": 17,
   "id": "378f6452-449d-4605-a42d-3b9847a7746d",
   "metadata": {},
   "outputs": [
    {
     "data": {
      "text/plain": [
       "'()(((()())(())()))(())'"
      ]
     },
     "execution_count": 17,
     "metadata": {},
     "output_type": "execute_result"
    }
   ],
   "source": [
    "'(((()(()()))(())()))(()())'\n",
    "'()(((()())(())()))(())'"
   ]
  },
  {
   "cell_type": "code",
   "execution_count": 19,
   "id": "0be9eed8-bd0f-4aa6-adb8-d1164c70f94a",
   "metadata": {},
   "outputs": [
    {
     "name": "stdout",
     "output_type": "stream",
     "text": [
      "0\n"
     ]
    }
   ],
   "source": [
    "# 모범 답안\n",
    "# split 대신 replace('()')\n",
    "\n",
    "import sys\n",
    "\n",
    "def solution(arrangement):\n",
    "    arrangement = arrangement.replace('()', '0');\n",
    "    temp = 0    # \"(\"의 개수 = 현재 진행중인 막대기 개수\n",
    "    answer = 0\n",
    "\n",
    "    for i in arrangement:\n",
    "        if i == \"(\": temp += 1\n",
    "        elif i == \"0\": answer += temp\n",
    "        else:\n",
    "            temp -= 1\n",
    "            answer += 1\n",
    "    return answer\n",
    "\n",
    "x = sys.stdin.readline().rstrip()\n",
    "print(solution(x))"
   ]
  },
  {
   "cell_type": "markdown",
   "id": "d6d10d33-4cf0-417b-b210-88ebc5e9db94",
   "metadata": {
    "tags": []
   },
   "source": [
    "### 17298. 오큰수\n",
    "\n",
    "- https://www.acmicpc.net/problem/17298\n",
    "- 골드4\n",
    "- 221004.화.\n",
    "- 시작 22:32\n",
    "- 끝 \n",
    "- 실패\n",
    "- 재도전하자!!"
   ]
  },
  {
   "cell_type": "markdown",
   "id": "d335f1a7-fa8b-403d-913d-15a9474d8e78",
   "metadata": {
    "jp-MarkdownHeadingCollapsed": true,
    "tags": []
   },
   "source": [
    "#### [ 문제접근 ]\n",
    "\n",
    "- 자신보다 큰 값이 없는 경우\n",
    "    - return -1\n",
    "- 자신보다 큰 값이 있는 경우\n",
    "    - 순차탐색?"
   ]
  },
  {
   "cell_type": "code",
   "execution_count": 7,
   "id": "512f3387-f06f-4ce7-ba2a-cc6e912dc330",
   "metadata": {
    "collapsed": true,
    "jupyter": {
     "outputs_hidden": true,
     "source_hidden": true
    },
    "tags": []
   },
   "outputs": [
    {
     "name": "stdin",
     "output_type": "stream",
     "text": [
      " 4\n",
      " 9 5 4 8\n"
     ]
    },
    {
     "name": "stdout",
     "output_type": "stream",
     "text": [
      "-1 8 8 -1\n"
     ]
    }
   ],
   "source": [
    "# 시간초과\n",
    "import sys\n",
    "input = sys.stdin.readline\n",
    "\n",
    "n = int(input())\n",
    "array = list(map(int, input().split()))\n",
    "result = []\n",
    "\n",
    "for i in range(len(array)-1):\n",
    "    temp = array[i+1:]\n",
    "    if array[i] > max(temp):\n",
    "        result.append(str(-1))\n",
    "    else:\n",
    "        for y in temp:\n",
    "            if array[i] < y:\n",
    "                result.append(str(y))\n",
    "                break\n",
    "result.append(str(-1))                \n",
    "\n",
    "print(' '.join(result))"
   ]
  },
  {
   "cell_type": "code",
   "execution_count": 12,
   "id": "f2f80899-3f12-484f-887e-4fee788a0421",
   "metadata": {
    "collapsed": true,
    "jupyter": {
     "outputs_hidden": true,
     "source_hidden": true
    },
    "tags": []
   },
   "outputs": [
    {
     "name": "stdin",
     "output_type": "stream",
     "text": [
      " 4\n",
      " 9 5 4 8\n"
     ]
    },
    {
     "name": "stdout",
     "output_type": "stream",
     "text": [
      "-1 8 8 -1\n"
     ]
    }
   ],
   "source": [
    "n = int(input())\n",
    "array = list(map(int, input().split()))\n",
    "result = []\n",
    "\n",
    "for idx in range(len(array)-1):\n",
    "    temp = [x for x in array[idx+1:] if x > array[idx]]\n",
    "    if not temp:\n",
    "        result.append(str(-1))\n",
    "    else:\n",
    "        result.append(str(temp[0]))\n",
    "        \n",
    "print(' '.join(result) + ' -1')"
   ]
  },
  {
   "cell_type": "markdown",
   "id": "8471df6e-87f2-4df8-b7d9-070f94806fdd",
   "metadata": {
    "jp-MarkdownHeadingCollapsed": true,
    "tags": []
   },
   "source": [
    "#### [ 재도전 ]\n",
    "\n",
    "- 221005.수.\n",
    "- 시작 17:41\n",
    "- 끝 18:49\n",
    "- 실패. 시간초과\n",
    "- 나중에 또 재도전하자!!"
   ]
  },
  {
   "cell_type": "code",
   "execution_count": 19,
   "id": "53df738e-0704-4150-8199-64e5996df539",
   "metadata": {
    "collapsed": true,
    "jupyter": {
     "outputs_hidden": true,
     "source_hidden": true
    },
    "tags": []
   },
   "outputs": [
    {
     "name": "stdin",
     "output_type": "stream",
     "text": [
      " 4\n",
      " 9 5 4 8\n"
     ]
    },
    {
     "name": "stdout",
     "output_type": "stream",
     "text": [
      "-1 8 8 -1 "
     ]
    }
   ],
   "source": [
    "n = int(input())\n",
    "array = list(map(int, input().split()))\n",
    "graph = [1000001] * 1000001\n",
    "\n",
    "for idx, x in enumerate(array):\n",
    "    graph[x] = idx+1\n",
    "        \n",
    "for x in array:\n",
    "    result = graph.index(min(graph[x+1:]))\n",
    "    print(-1 if result == 0 else result, end=' ')\n",
    "    graph[x] = 1000001"
   ]
  },
  {
   "cell_type": "markdown",
   "id": "1004d8e1-177d-4aa0-81a4-81b517357d57",
   "metadata": {
    "jp-MarkdownHeadingCollapsed": true,
    "tags": []
   },
   "source": [
    "#### [ 재도전2 ]\n",
    "\n",
    "- 221006.목.\n",
    "- 시작 07:13\n",
    "- 끝 08:10\n",
    "- 실패"
   ]
  },
  {
   "cell_type": "code",
   "execution_count": null,
   "id": "d54944ad-6f3f-4f52-9073-a4cbb7bac531",
   "metadata": {
    "jupyter": {
     "source_hidden": true
    },
    "tags": []
   },
   "outputs": [],
   "source": [
    "n = int(input())\n",
    "array = list(map(int, input().split()))\n",
    "stack = [0]\n",
    "result = []\n",
    "\n",
    "for idx in range(1,len(array)-1):\n",
    "    if array[stack[-1]] < array[idx]:\n",
    "        result.append(array[idx])\n",
    "    else:\n",
    "        stack.pop()\n",
    "        stack.append(idx+1)"
   ]
  },
  {
   "cell_type": "code",
   "execution_count": null,
   "id": "0cbd5726-5885-48a8-af8d-a381dae2c8cf",
   "metadata": {
    "jupyter": {
     "source_hidden": true
    },
    "tags": []
   },
   "outputs": [],
   "source": [
    "n = int(input())\n",
    "array = list(map(int, input().split()))\n",
    "stack = [1]\n",
    "result = []\n",
    "\n",
    "for idx in range(0,len(array)-1):\n",
    "    if array[stack[-1]] > array[idx]:\n",
    "        result.append(array[stack[-1]])\n",
    "    else:\n",
    "        stack.append(stack[-1]+1)"
   ]
  },
  {
   "cell_type": "code",
   "execution_count": null,
   "id": "ffa6dbbb-b451-4dbd-8abf-f786fba8e5a8",
   "metadata": {
    "jupyter": {
     "source_hidden": true
    },
    "tags": []
   },
   "outputs": [],
   "source": [
    "n = int(input())\n",
    "array = list(map(int, input().split()))\n",
    "stack = [array[0]]\n",
    "result = [-1] * n\n",
    "\n",
    "for idx in range(0,len(array)-1):\n",
    "    while stack and array[stack[-1]] > array[idx]:\n",
    "        result[idx] = array[stack.pop()]\n",
    "    stack.append(idx+1)\n",
    "        \n",
    "    if array[stack[-1]] > array[idx]:\n",
    "        result.append(array[stack[-1]])\n",
    "    else:\n",
    "        stack.append(stack[-1]+1)"
   ]
  },
  {
   "cell_type": "markdown",
   "id": "e3fc9fe5-1b2e-4bdc-a488-4dbf8f2147e9",
   "metadata": {
    "jp-MarkdownHeadingCollapsed": true,
    "tags": []
   },
   "source": [
    "#### [ 재도전3 ]\n",
    "\n",
    "- 221017.월.\n",
    "- 시작 20:26\n",
    "- 끝 21:11\n",
    "- 실패\n",
    "- 35% 정도까지 가서 시간초과 (이전보다는 나은 결과)\n",
    "- 타인코드 참고\n",
    "    - https://hooongs.tistory.com/m/329"
   ]
  },
  {
   "cell_type": "code",
   "execution_count": 8,
   "id": "685a086e-c5c2-4566-bae5-845ef890dfcf",
   "metadata": {},
   "outputs": [
    {
     "name": "stdin",
     "output_type": "stream",
     "text": [
      " 4\n",
      " 9 5 4 8\n"
     ]
    },
    {
     "name": "stdout",
     "output_type": "stream",
     "text": [
      "-1 8 8 -1 "
     ]
    }
   ],
   "source": [
    "# import sys\n",
    "# input = sys.stdin.readline\n",
    "\n",
    "n = int(input())\n",
    "array = list(map(int, input().split()))\n",
    "result = []\n",
    "i, j = 0, 1\n",
    "\n",
    "while i <= n-2:\n",
    "    if array[i] < array[j]:\n",
    "        result.append(array[j])\n",
    "        i += 1\n",
    "        j = i + 1\n",
    "    else:\n",
    "        j += 1\n",
    "        if j == n:\n",
    "            result.append(-1)\n",
    "            i += 1\n",
    "            j = i + 1\n",
    "\n",
    "result.append(-1)\n",
    "for x in result:\n",
    "    print(x, end=' ')"
   ]
  },
  {
   "cell_type": "code",
   "execution_count": 9,
   "id": "ea71f7cd-bf7c-4e30-a6f9-97b259000ba2",
   "metadata": {},
   "outputs": [
    {
     "name": "stdin",
     "output_type": "stream",
     "text": [
      " 4\n",
      " 9 5 4 8\n"
     ]
    },
    {
     "name": "stdout",
     "output_type": "stream",
     "text": [
      "-1 8 8 -1\n"
     ]
    }
   ],
   "source": [
    "# 정답 (타인 코드)\n",
    "\n",
    "from collections import deque\n",
    "\n",
    "stack = deque()\n",
    "n = int(input())\n",
    "array = list(map(int, input().split()))\n",
    "result = [-1] * n\n",
    "\n",
    "for i in range(n):\n",
    "    while stack and (stack[-1][0] < array[i]):\n",
    "        value, idx = stack.pop()\n",
    "        result[idx] = array[i]\n",
    "    stack.append([array[i], i])\n",
    "    \n",
    "print(*result)"
   ]
  },
  {
   "cell_type": "code",
   "execution_count": 11,
   "id": "33aa1984-77cb-4134-b944-67a24d7eaa0c",
   "metadata": {},
   "outputs": [
    {
     "name": "stdin",
     "output_type": "stream",
     "text": [
      " 4\n",
      " 9 5 4 8\n"
     ]
    },
    {
     "name": "stdout",
     "output_type": "stream",
     "text": [
      "-1 8 8 -1\n"
     ]
    }
   ],
   "source": [
    "# 정답 (타인 코드)\n",
    "\n",
    "stack = []\n",
    "n = int(input())\n",
    "array = list(map(int, input().split()))\n",
    "result = [-1] * n\n",
    "\n",
    "for i in range(n):\n",
    "    while stack and (stack[-1][0] < array[i]):\n",
    "        value, idx = stack.pop()\n",
    "        result[idx] = array[i]\n",
    "    stack.append([array[i], i])\n",
    "    \n",
    "print(*result)"
   ]
  },
  {
   "cell_type": "code",
   "execution_count": null,
   "id": "b94d6407-dd14-4135-80b8-ffe4903e17e4",
   "metadata": {},
   "outputs": [],
   "source": [
    "# 정답 (타인 코드)\n",
    "\n",
    "# import sys\n",
    "# input = sys.stdin.readline\n",
    "\n",
    "n = int(input())\n",
    "arr = list(map(int, input().split()))\n",
    "ans = ['-1'] * n\n",
    "stack = []\n",
    "\n",
    "for i in range(n):\n",
    "    while stack and arr[stack[-1]] < arr[i]:\n",
    "        ans[stack.pop()] = str(arr[i])\n",
    "    stack.append(i)\n",
    "print(' '.join(ans))"
   ]
  },
  {
   "cell_type": "markdown",
   "id": "c5f2760c-b295-450e-863c-b05573524d00",
   "metadata": {},
   "source": [
    "#### [ 재도전 4 ]\n",
    "\n",
    "- 221019.수.\n",
    "- 시작 14:14\n",
    "- 끝 14:33"
   ]
  },
  {
   "cell_type": "code",
   "execution_count": 4,
   "id": "8455216d-c95b-4daf-a961-733387fe09bf",
   "metadata": {},
   "outputs": [
    {
     "name": "stdin",
     "output_type": "stream",
     "text": [
      " 4\n",
      " 9 5 4 8\n"
     ]
    },
    {
     "name": "stdout",
     "output_type": "stream",
     "text": [
      "-1 8 8 -1\n"
     ]
    }
   ],
   "source": [
    "n = int(input())\n",
    "array = list(map(int, input().split()))\n",
    "stack = []\n",
    "result = [-1] * n\n",
    "\n",
    "for i in range(n):\n",
    "    while stack and stack[-1][1] < array[i]:\n",
    "        idx, value = stack.pop()\n",
    "        result[idx] = array[i]\n",
    "    stack.append([i, array[i]])\n",
    "    \n",
    "print(*result)"
   ]
  },
  {
   "cell_type": "code",
   "execution_count": 7,
   "id": "280de04d-bee9-48f5-b34b-4bb529234271",
   "metadata": {},
   "outputs": [
    {
     "name": "stdin",
     "output_type": "stream",
     "text": [
      " 4\n",
      " 9 5 4 8\n"
     ]
    },
    {
     "name": "stdout",
     "output_type": "stream",
     "text": [
      "-1 8 8 -1\n"
     ]
    }
   ],
   "source": [
    "n = int(input())\n",
    "array = list(map(int, input().split()))\n",
    "stack = []\n",
    "result = [-1] * n\n",
    "\n",
    "for i in range(n):\n",
    "    while stack and array[stack[-1]] < array[i]:\n",
    "        result[stack.pop()] = array[i]\n",
    "    stack.append(i)\n",
    "    \n",
    "print(*result)"
   ]
  },
  {
   "cell_type": "markdown",
   "id": "bf2ddda0-3e1f-492f-8bd2-b587a8d82aec",
   "metadata": {
    "tags": []
   },
   "source": [
    "### 17299. 오등큰수\n",
    "\n",
    "- https://www.acmicpc.net/problem/17299\n",
    "- 골드3\n",
    "- 221019.수.\n",
    "- 시작 18:45\n",
    "- 끝 19:54\n",
    "- (시간 초과..)\n",
    "- 끝 20:10 (간단한 코드 수정으로 해결)"
   ]
  },
  {
   "cell_type": "markdown",
   "id": "869aa3e4-3d26-4b48-bfcf-eec2c489e2e9",
   "metadata": {},
   "source": [
    "아래 코드 수행되는 과정\n",
    "\n",
    "input = [1 1 2 3 4 2 1]\n",
    "for i in range(n)\n",
    "i = 0\n",
    "-> cnt = 3 / count_array[1] = 3 / stack.append([0, 3])\n",
    "i = 1\n",
    "-> cnt = 3 / stack.append([1, 3])\n"
   ]
  },
  {
   "cell_type": "code",
   "execution_count": 11,
   "id": "21415fbe-bfe3-4c80-83ec-4eef05b3dc50",
   "metadata": {
    "collapsed": true,
    "jupyter": {
     "outputs_hidden": true,
     "source_hidden": true
    },
    "tags": []
   },
   "outputs": [
    {
     "name": "stdout",
     "output_type": "stream",
     "text": [
      "10\n",
      "9\n",
      "8\n",
      "7\n",
      "6\n",
      "5\n",
      "4\n",
      "3\n",
      "2\n",
      "1\n"
     ]
    }
   ],
   "source": [
    "n = int(input())\n",
    "array = list(map(int, input().split()))\n",
    "count_array = [0] * 1000001\n",
    "stack = []\n",
    "result = [-1] * n\n",
    "\n",
    "for i in range(n):\n",
    "    while stack and stack[-1]\n",
    "    \n",
    "    if count_array[array[i]]:\n",
    "        cnt = count_array[array[i]]\n",
    "    else:\n",
    "        cnt = array.count(array[i])\n",
    "        count_array[array[i]] = cnt\n",
    "    stack.append([i, cnt])"
   ]
  },
  {
   "cell_type": "code",
   "execution_count": 17,
   "id": "38d8d00a-30a4-4aa4-94a0-04b6e4e8be20",
   "metadata": {},
   "outputs": [
    {
     "name": "stdin",
     "output_type": "stream",
     "text": [
      " 7\n",
      " 1 1 2 3 4 2 1\n"
     ]
    },
    {
     "name": "stdout",
     "output_type": "stream",
     "text": [
      "-1 -1 1 2 2 1 -1\n"
     ]
    }
   ],
   "source": [
    "# 시간초과\n",
    "#import sys\n",
    "#input = sys.stdin.readline\n",
    "\n",
    "n = int(input())\n",
    "array = list(map(int, input().split()))\n",
    "count_array = [0] * 1000001\n",
    "stack = []\n",
    "result = [-1] * n\n",
    "\n",
    "for i in range(n):\n",
    "    if count_array[array[i]]:\n",
    "        cnt = count_array[array[i]]\n",
    "    else:\n",
    "        cnt = array.count(array[i])\n",
    "        count_array[array[i]] = cnt\n",
    "\n",
    "    while stack and stack[-1][1] < cnt:\n",
    "        result[stack[-1][0]] = array[i]\n",
    "        stack.pop()\n",
    "\n",
    "    stack.append([i, cnt])\n",
    "\n",
    "print(*result)"
   ]
  },
  {
   "cell_type": "code",
   "execution_count": 23,
   "id": "5b3d702e-2df5-4a8a-b656-e3a7664c57b5",
   "metadata": {},
   "outputs": [
    {
     "name": "stdin",
     "output_type": "stream",
     "text": [
      " 7\n",
      " 1 1 2 3 4 2 1\n"
     ]
    },
    {
     "name": "stdout",
     "output_type": "stream",
     "text": [
      "-1 -1 1 2 2 1 -1\n"
     ]
    }
   ],
   "source": [
    "# (통과) count 부분만 수정\n",
    "#import sys\n",
    "#input = sys.stdin.readline\n",
    "from collections import Counter\n",
    "\n",
    "n = int(input())\n",
    "array = list(map(int, input().split()))\n",
    "counts = Counter(array)\n",
    "stack = []\n",
    "result = [-1] * n\n",
    "\n",
    "for i in range(n):\n",
    "    cnt = counts[array[i]]\n",
    "\n",
    "    while stack and stack[-1][1] < cnt:\n",
    "        result[stack[-1][0]] = array[i]\n",
    "        stack.pop()\n",
    "\n",
    "    stack.append([i, cnt])\n",
    "\n",
    "print(*result)"
   ]
  },
  {
   "cell_type": "code",
   "execution_count": 22,
   "id": "6886ac9a-3c59-4862-9877-ea2bf02924d4",
   "metadata": {},
   "outputs": [
    {
     "name": "stdin",
     "output_type": "stream",
     "text": [
      " 7\n",
      " 1 1 2 3 4 2 1\n"
     ]
    },
    {
     "name": "stdout",
     "output_type": "stream",
     "text": [
      "-1 -1 1 2 2 1 -1\n"
     ]
    }
   ],
   "source": [
    "# 모범답안\n",
    "# https://honggom.tistory.com/68 참고\n",
    "\n",
    "#import sys\n",
    "#input = sys.stdin.readline\n",
    "from collections import Counter\n",
    "\n",
    "n = int(input())\n",
    "array = list(map(int, input().split()))\n",
    "counts = Counter(array)\n",
    "stack = []\n",
    "result = [-1] * n\n",
    "\n",
    "for i in range(n):\n",
    "    while stack and counts[array[stack[-1]]] < counts[array[i]]:\n",
    "        result[stack.pop()] = array[i]\n",
    "\n",
    "    stack.append(i)\n",
    "\n",
    "print(*result)"
   ]
  },
  {
   "cell_type": "markdown",
   "id": "46b964fc-a411-42fe-85e6-edfa3a33691f",
   "metadata": {
    "tags": []
   },
   "source": [
    "### \n",
    "\n",
    "- https://www.acmicpc.net/problem/9012\n",
    "- 실버4\n",
    "- 220914.수.\n",
    "- 시작 01:28\n",
    "- 끝 01:47"
   ]
  },
  {
   "cell_type": "markdown",
   "id": "054cb14f-5195-484e-b17f-f5f1eb3e6d6a",
   "metadata": {
    "tags": []
   },
   "source": [
    "### \n",
    "\n",
    "- https://www.acmicpc.net/problem/9012\n",
    "- 실버4\n",
    "- 220914.수.\n",
    "- 시작 01:28\n",
    "- 끝 01:47"
   ]
  },
  {
   "cell_type": "markdown",
   "id": "eb449712-8d4e-4e4f-ab69-85c43555deb8",
   "metadata": {
    "tags": []
   },
   "source": [
    "### \n",
    "\n",
    "- https://www.acmicpc.net/problem/9012\n",
    "- 실버4\n",
    "- 220914.수.\n",
    "- 시작 01:28\n",
    "- 끝 01:47"
   ]
  },
  {
   "cell_type": "markdown",
   "id": "e63b0aa6-5986-49b0-bfb4-03feb8318d33",
   "metadata": {
    "tags": []
   },
   "source": [
    "### \n",
    "\n",
    "- https://www.acmicpc.net/problem/9012\n",
    "- 실버4\n",
    "- 220914.수.\n",
    "- 시작 01:28\n",
    "- 끝 01:47"
   ]
  }
 ],
 "metadata": {
  "kernelspec": {
   "display_name": "Python 3",
   "language": "python",
   "name": "python3"
  },
  "language_info": {
   "codemirror_mode": {
    "name": "ipython",
    "version": 3
   },
   "file_extension": ".py",
   "mimetype": "text/x-python",
   "name": "python",
   "nbconvert_exporter": "python",
   "pygments_lexer": "ipython3",
   "version": "3.6.10"
  }
 },
 "nbformat": 4,
 "nbformat_minor": 5
}
