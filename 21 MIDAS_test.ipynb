{
 "cells": [
  {
   "cell_type": "markdown",
   "id": "78c1143e-c67e-40a4-a30d-205422c0a08d",
   "metadata": {
    "jp-MarkdownHeadingCollapsed": true,
    "tags": []
   },
   "source": [
    "### 잡다 - 마이다스아이티\n",
    "\n",
    "- 개발자검사 튜토리얼"
   ]
  },
  {
   "cell_type": "code",
   "execution_count": 3,
   "id": "11385896-0805-433c-aa7f-a41535253f2e",
   "metadata": {
    "tags": []
   },
   "outputs": [],
   "source": [
    "def solution(history, option, keyword):\n",
    "    \n",
    "    words = []\n",
    "    if option:\n",
    "        for his in history:\n",
    "            words = his.split() + [his]\n",
    "            print(words)\n",
    "            \n",
    "    return answer"
   ]
  },
  {
   "cell_type": "code",
   "execution_count": 15,
   "id": "c14339bb-ea0d-4562-a5d7-f56ba6430211",
   "metadata": {
    "tags": []
   },
   "outputs": [],
   "source": [
    "def solution(history, option, keyword):\n",
    "    \n",
    "    answer = []\n",
    "\n",
    "    if option == [['W','T']]:\n",
    "        for his in history:\n",
    "            words = his.split() + [his]\n",
    "            if keyword in words:\n",
    "                answer.append(his)\n",
    "    elif option == [['W','F']]:\n",
    "        for his in history:\n",
    "            if keyword in his:\n",
    "                answer.append(his)\n",
    "    else:\n",
    "        for his in history:\n",
    "            if keyword == his:\n",
    "                answer.append(his)\n",
    "\n",
    "    return answer"
   ]
  },
  {
   "cell_type": "code",
   "execution_count": 16,
   "id": "22ef1851-f939-4e6a-bd9d-96eef03028c7",
   "metadata": {
    "tags": []
   },
   "outputs": [
    {
     "data": {
      "text/plain": [
       "['hello i am david', 'hello kail']"
      ]
     },
     "execution_count": 16,
     "metadata": {},
     "output_type": "execute_result"
    }
   ],
   "source": [
    "history = [\"hello i am david\",\"hello kail\",\"hi tina\"]\n",
    "option = [[\"W\", \"T\"]]\n",
    "keyword = 'hello'\n",
    "\n",
    "solution(history, option, keyword)"
   ]
  },
  {
   "cell_type": "code",
   "execution_count": 20,
   "id": "ba58a776-454c-40e4-b14e-8c2852ca2604",
   "metadata": {
    "tags": []
   },
   "outputs": [
    {
     "data": {
      "text/plain": [
       "[]"
      ]
     },
     "execution_count": 20,
     "metadata": {},
     "output_type": "execute_result"
    }
   ],
   "source": [
    "history = [\"hello i am david\",\"hello kail\",\"hi tina\"]\n",
    "option = [[\"W\", \"T\"]]\n",
    "keyword = 'he'\n",
    "\n",
    "solution(history, option, keyword)"
   ]
  },
  {
   "cell_type": "code",
   "execution_count": 21,
   "id": "f53c088a-79b3-447f-9dd6-6035fc6ad23b",
   "metadata": {
    "tags": []
   },
   "outputs": [
    {
     "data": {
      "text/plain": [
       "['hello i am david', 'hello kail']"
      ]
     },
     "execution_count": 21,
     "metadata": {},
     "output_type": "execute_result"
    }
   ],
   "source": [
    "history = [\"hello i am david\",\"hello kail\",\"hi tina\"]\n",
    "option = [[\"W\", \"F\"]]\n",
    "keyword = 'he'\n",
    "\n",
    "solution(history, option, keyword)"
   ]
  },
  {
   "cell_type": "markdown",
   "id": "775556bd-18fa-4629-a727-633fe952bc13",
   "metadata": {
    "jp-MarkdownHeadingCollapsed": true,
    "tags": []
   },
   "source": [
    "### 잡다 - 마이다스아이티\n",
    "\n",
    "- 개발 구현 능력 검사\n",
    "- 20230330목\n",
    "- 시작 19:38"
   ]
  },
  {
   "cell_type": "code",
   "execution_count": 11,
   "id": "3cfbfa5c-9cde-42b4-ad32-022fb652483a",
   "metadata": {},
   "outputs": [],
   "source": [
    "def solution(pays, infos, target):\n",
    "    \n",
    "    answer = []\n",
    "    sum_ans = 0\n",
    "    \n",
    "    for idx,info in enumerate(infos):\n",
    "        if info == target:\n",
    "            answer.append(pays[idx])\n",
    "            sum_ans += pays[idx]\n",
    "    \n",
    "    if sum_ans == 0:\n",
    "        return 'no data'\n",
    "    \n",
    "    mean_ans = sum_ans / len(answer)\n",
    "    result = 0\n",
    "    result_num = 0\n",
    "    \n",
    "    for ans in answer:\n",
    "        if ans < mean_ans*1.8 or ans > mean_ans*0.2:\n",
    "            result += ans\n",
    "            result_num += 1\n",
    "    \n",
    "    if result == 0:\n",
    "        return int(mean_ans)\n",
    "    else:\n",
    "        return int(result/result_num)"
   ]
  },
  {
   "cell_type": "code",
   "execution_count": 12,
   "id": "4eccaa51-20b2-4bfa-be40-d3f5cdce645f",
   "metadata": {
    "tags": []
   },
   "outputs": [
    {
     "data": {
      "text/plain": [
       "2500"
      ]
     },
     "execution_count": 12,
     "metadata": {},
     "output_type": "execute_result"
    }
   ],
   "source": [
    "pays = [1000,2000,3000,4000,5000]\n",
    "infos = [[\"M\", \"20\"], [\"F\", \"40\"], [\"M\", \"60\"], [\"M\", \"20\"], [\"F\", \"30\"]]\n",
    "target = ['M','20']\n",
    "# result = 2500\n",
    "\n",
    "solution(pays, infos, target)"
   ]
  },
  {
   "cell_type": "code",
   "execution_count": 13,
   "id": "ef9bd456-4339-43e7-ac6c-98f18079cc38",
   "metadata": {
    "tags": []
   },
   "outputs": [
    {
     "data": {
      "text/plain": [
       "'no data'"
      ]
     },
     "execution_count": 13,
     "metadata": {},
     "output_type": "execute_result"
    }
   ],
   "source": [
    "pays = [1000,2000,3000,4000,5000]\n",
    "infos = [[\"M\", \"20\"], [\"F\", \"40\"], [\"M\", \"60\"], [\"M\", \"20\"], [\"F\", \"30\"]]\n",
    "target = ['F','50']\n",
    "# result = 2500\n",
    "\n",
    "solution(pays, infos, target)"
   ]
  },
  {
   "cell_type": "markdown",
   "id": "e5e51ead-e277-4d61-8340-f2a967a4fa7f",
   "metadata": {
    "jp-MarkdownHeadingCollapsed": true,
    "tags": []
   },
   "source": [
    "### 잡다 - 마이다스아이티\n",
    "\n",
    "- 개발 구현 능력 검사 (중급)\n",
    "- 20230330금\n",
    "- 시작 16:05"
   ]
  },
  {
   "cell_type": "code",
   "execution_count": 32,
   "id": "30e9f607-e6f8-45f3-9fa0-ae7ae024ff99",
   "metadata": {},
   "outputs": [],
   "source": [
    "# ㅜ70점\n",
    "\n",
    "def solution(n, v, A, B, C):\n",
    "\n",
    "    answer = -1\n",
    "\n",
    "    A.sort(reverse=True)\n",
    "    B.sort(reverse=True)\n",
    "    C.sort(reverse=True)\n",
    "    \n",
    "    if A[0]*B[0]*C[0] < v or A[-1]*B[-1]*C[-1] > v:\n",
    "        return answer\n",
    "    \n",
    "    for a in A:\n",
    "        for b in B:\n",
    "            for c in C:\n",
    "                if a*b*c < v:\n",
    "                    answer = max(answer, a*b*c)\n",
    "                    break\n",
    "                elif a*b*c == v:\n",
    "                    return v\n",
    "                else:\n",
    "                    continue\n",
    "                    \n",
    "    return answer"
   ]
  },
  {
   "cell_type": "code",
   "execution_count": 26,
   "id": "1544b034-0aef-4737-ae67-557179ac5491",
   "metadata": {},
   "outputs": [],
   "source": [
    "# 100점.. 근데 이걸 최종제출로 안했음..\n",
    "\n",
    "def solution(n, v, A, B, C):\n",
    "\n",
    "    answer = -1\n",
    "\n",
    "    A.sort()\n",
    "    B.sort()\n",
    "    C.sort()\n",
    "    \n",
    "    if A[0]*B[0]*C[0] > v or A[-1]*B[-1]*C[-1] < v:\n",
    "        return answer\n",
    "    \n",
    "    for a in A:\n",
    "        for b in B:\n",
    "            for c in C:\n",
    "                if a*b*c < v:\n",
    "                    answer = max(answer, a*b*c)\n",
    "                elif a*b*c == v:\n",
    "                    return v\n",
    "                else:\n",
    "                    break\n",
    "                    \n",
    "    return answer"
   ]
  },
  {
   "cell_type": "code",
   "execution_count": 33,
   "id": "8917f57b-de17-48d3-b5b2-fc7a47e4ac67",
   "metadata": {
    "tags": []
   },
   "outputs": [
    {
     "data": {
      "text/plain": [
       "100"
      ]
     },
     "execution_count": 33,
     "metadata": {},
     "output_type": "execute_result"
    }
   ],
   "source": [
    "n = 3\n",
    "v = 101\n",
    "A = [1,2,3]\n",
    "B = [4,5,6]\n",
    "C = [10,11,12]\n",
    "#result = 100\n",
    "solution(n, v, A, B, C)"
   ]
  },
  {
   "cell_type": "code",
   "execution_count": 34,
   "id": "62af8d6b-4c94-44e3-81dd-488c72d6593c",
   "metadata": {
    "tags": []
   },
   "outputs": [
    {
     "data": {
      "text/plain": [
       "-1"
      ]
     },
     "execution_count": 34,
     "metadata": {},
     "output_type": "execute_result"
    }
   ],
   "source": [
    "n = 3\n",
    "v = 2\n",
    "A = [1,2,3]\n",
    "B = [4,5,6]\n",
    "C = [10,11,12]\n",
    "#result = 100\n",
    "solution(n, v, A, B, C)"
   ]
  },
  {
   "cell_type": "code",
   "execution_count": 16,
   "id": "6d0ed472-bb2f-4845-b42f-ced9c992271c",
   "metadata": {
    "scrolled": true,
    "tags": []
   },
   "outputs": [
    {
     "name": "stdout",
     "output_type": "stream",
     "text": [
      "1 1 1\n",
      "1 1 2\n",
      "1 1 3\n",
      "1 1 4\n",
      "1 1 5\n",
      "1 2 1\n",
      "1 2 2\n",
      "1 2 3\n",
      "1 2 4\n",
      "1 2 5\n",
      "cnpz\n",
      "1 3 1\n",
      "1 3 2\n",
      "1 3 3\n",
      "1 3 4\n",
      "cnpz\n",
      "1 4 1\n",
      "1 4 2\n",
      "1 4 3\n",
      "cnpz\n",
      "1 5 1\n",
      "1 5 2\n",
      "cnpz\n",
      "2 1 1\n",
      "2 1 2\n",
      "2 1 3\n",
      "2 1 4\n",
      "2 1 5\n",
      "cnpz\n",
      "2 2 1\n",
      "2 2 2\n",
      "2 2 3\n",
      "cnpz\n",
      "2 3 1\n",
      "2 3 2\n",
      "cnpz\n",
      "2 4 1\n",
      "2 4 2\n",
      "cnpz\n",
      "2 5 1\n",
      "cnpz\n",
      "3 1 1\n",
      "3 1 2\n",
      "3 1 3\n",
      "3 1 4\n",
      "cnpz\n",
      "3 2 1\n",
      "3 2 2\n",
      "cnpz\n",
      "3 3 1\n",
      "3 3 2\n",
      "cnpz\n",
      "3 4 1\n",
      "cnpz\n",
      "3 5 1\n",
      "cnpz\n",
      "4 1 1\n",
      "4 1 2\n",
      "4 1 3\n",
      "cnpz\n",
      "4 2 1\n",
      "4 2 2\n",
      "cnpz\n",
      "4 3 1\n",
      "cnpz\n",
      "4 4 1\n",
      "cnpz\n",
      "4 5 1\n",
      "cnpz\n",
      "5 1 1\n",
      "5 1 2\n",
      "cnpz\n",
      "5 2 1\n",
      "cnpz\n",
      "5 3 1\n",
      "cnpz\n",
      "5 4 1\n",
      "cnpz\n",
      "5 5 1\n",
      "cnpz\n"
     ]
    }
   ],
   "source": [
    "test = [1,2,3,4,5]\n",
    "\n",
    "for a in test:\n",
    "    for b in test:\n",
    "        for c in test:\n",
    "            print(a,b,c)\n",
    "            if a*b*c >= 10:\n",
    "                print('cnpz')\n",
    "                break"
   ]
  },
  {
   "cell_type": "markdown",
   "id": "78273ce5-a08a-49d2-a00b-bfdb07efaa9e",
   "metadata": {},
   "source": [
    "### 잡다 - 마이다스아이티\n",
    "\n",
    "- 개발 구현 능력 검사 (중급)\n",
    "- 20230401토\n",
    "- 시작 15:30\n",
    "- 끝"
   ]
  },
  {
   "cell_type": "markdown",
   "id": "2362f14f-fb7a-497f-99a0-a7ff58511ca4",
   "metadata": {},
   "source": [
    "1) 가능한 모든 경우를 구한다\n",
    "    1-1) 도중에 -가 나오거나 10e8 이상이 나오는 경우는 제외한다.\n",
    "2) eval 해서 값을 구한다\n"
   ]
  },
  {
   "cell_type": "code",
   "execution_count": null,
   "id": "6d861345-8629-4943-9462-a47511bff59e",
   "metadata": {},
   "outputs": [],
   "source": [
    "def solution(S):\n",
    "        \n",
    "    \n",
    "    \n",
    "    return answer"
   ]
  },
  {
   "cell_type": "code",
   "execution_count": 4,
   "id": "695acef1-b7c1-4e84-864a-cf15bbab2eea",
   "metadata": {
    "tags": []
   },
   "outputs": [
    {
     "data": {
      "text/plain": [
       "1000000000.0"
      ]
     },
     "execution_count": 4,
     "metadata": {},
     "output_type": "execute_result"
    }
   ],
   "source": [
    "10e8"
   ]
  },
  {
   "cell_type": "code",
   "execution_count": 16,
   "id": "7b7224d1-e148-4cc1-9832-0766a925e30d",
   "metadata": {
    "collapsed": true,
    "jupyter": {
     "outputs_hidden": true
    },
    "tags": []
   },
   "outputs": [
    {
     "data": {
      "text/plain": [
       "[('1', '6', '-'),\n",
       " ('1', '6', '+'),\n",
       " ('1', '6', '2'),\n",
       " ('1', '6', '3'),\n",
       " ('1', '-', '+'),\n",
       " ('1', '-', '2'),\n",
       " ('1', '-', '3'),\n",
       " ('1', '+', '2'),\n",
       " ('1', '+', '3'),\n",
       " ('1', '2', '3'),\n",
       " ('6', '-', '+'),\n",
       " ('6', '-', '2'),\n",
       " ('6', '-', '3'),\n",
       " ('6', '+', '2'),\n",
       " ('6', '+', '3'),\n",
       " ('6', '2', '3'),\n",
       " ('-', '+', '2'),\n",
       " ('-', '+', '3'),\n",
       " ('-', '2', '3'),\n",
       " ('+', '2', '3')]"
      ]
     },
     "execution_count": 16,
     "metadata": {},
     "output_type": "execute_result"
    }
   ],
   "source": [
    "from itertools import combinations, permutations\n",
    "\n",
    "test = list(\"16-+23\")\n",
    "\n",
    "list(combinations(test, 3))"
   ]
  },
  {
   "cell_type": "code",
   "execution_count": 17,
   "id": "fb4fed1b-a4bc-44a9-939c-37208732342d",
   "metadata": {
    "collapsed": true,
    "jupyter": {
     "outputs_hidden": true
    },
    "tags": []
   },
   "outputs": [
    {
     "data": {
      "text/plain": [
       "[(0, 1, 2),\n",
       " (0, 1, 3),\n",
       " (0, 1, 4),\n",
       " (0, 1, 5),\n",
       " (0, 2, 3),\n",
       " (0, 2, 4),\n",
       " (0, 2, 5),\n",
       " (0, 3, 4),\n",
       " (0, 3, 5),\n",
       " (0, 4, 5),\n",
       " (1, 2, 3),\n",
       " (1, 2, 4),\n",
       " (1, 2, 5),\n",
       " (1, 3, 4),\n",
       " (1, 3, 5),\n",
       " (1, 4, 5),\n",
       " (2, 3, 4),\n",
       " (2, 3, 5),\n",
       " (2, 4, 5),\n",
       " (3, 4, 5)]"
      ]
     },
     "execution_count": 17,
     "metadata": {},
     "output_type": "execute_result"
    }
   ],
   "source": [
    "list(combinations(range(len(test)), 3))"
   ]
  },
  {
   "cell_type": "code",
   "execution_count": 53,
   "id": "40a83134-8b03-4fed-88b7-c0eb96fc04e9",
   "metadata": {
    "tags": []
   },
   "outputs": [],
   "source": [
    "from itertools import combinations\n",
    "\n",
    "def solution(S):\n",
    "        \n",
    "    idx_set = set(range(len(S)))\n",
    "    answer = 0\n",
    "    exception = []\n",
    "        \n",
    "    for i in range(1, len(S)//2+1):\n",
    "        combi = list(combinations(range(len(S)), i))\n",
    "        \n",
    "        for com in combi:\n",
    "            A = ''.join([s for idx,s in enumerate(S) if idx in com])\n",
    "            B = ''.join([s for idx,s in enumerate(S) if idx in list(idx_set-set(com))])\n",
    "            \n",
    "            for exc in exception:\n",
    "                if exc in A or exc in B:\n",
    "                    continue\n",
    "            \n",
    "            try:\n",
    "                a_val = eval(A)\n",
    "                b_val = eval(B)\n",
    "                \n",
    "                if a_val < 0 or b_val < 0:\n",
    "                    if a_val < 0:\n",
    "                        exception.append(A)\n",
    "                    if b_val < 0:\n",
    "                        exception.append(B)\n",
    "                elif a_val == b_val:\n",
    "                    answer += 1\n",
    "                \n",
    "            except:\n",
    "                continue\n",
    "    \n",
    "    return answer"
   ]
  },
  {
   "cell_type": "code",
   "execution_count": 54,
   "id": "1c770dde-bff8-40a3-a955-d390d2e81ccb",
   "metadata": {
    "tags": []
   },
   "outputs": [
    {
     "data": {
      "text/plain": [
       "3"
      ]
     },
     "execution_count": 54,
     "metadata": {},
     "output_type": "execute_result"
    }
   ],
   "source": [
    "eval('--+3')"
   ]
  },
  {
   "cell_type": "code",
   "execution_count": 55,
   "id": "f0c9c2ae-fe89-4797-8589-11c49455c26a",
   "metadata": {
    "tags": []
   },
   "outputs": [
    {
     "data": {
      "text/plain": [
       "4"
      ]
     },
     "execution_count": 55,
     "metadata": {},
     "output_type": "execute_result"
    }
   ],
   "source": [
    "S = \"16-+23\"\n",
    "# result = 4\n",
    "\n",
    "solution(S)"
   ]
  },
  {
   "cell_type": "code",
   "execution_count": 56,
   "id": "56d96a09-a21b-49db-9a4b-f486d2774868",
   "metadata": {
    "tags": []
   },
   "outputs": [
    {
     "data": {
      "text/plain": [
       "6"
      ]
     },
     "execution_count": 56,
     "metadata": {},
     "output_type": "execute_result"
    }
   ],
   "source": [
    "S = \"1111\"\n",
    "# result = 6\n",
    "\n",
    "solution(S)"
   ]
  },
  {
   "cell_type": "code",
   "execution_count": 57,
   "id": "0d123d62-775d-4e60-a021-e0dcc57233b7",
   "metadata": {
    "tags": []
   },
   "outputs": [
    {
     "data": {
      "text/plain": [
       "0"
      ]
     },
     "execution_count": 57,
     "metadata": {},
     "output_type": "execute_result"
    }
   ],
   "source": [
    "S = \"11-3+4\"\n",
    "# result = 0\n",
    "\n",
    "solution(S)"
   ]
  },
  {
   "cell_type": "code",
   "execution_count": 19,
   "id": "f489e65c-21d8-4452-a58b-89f153e85e26",
   "metadata": {
    "tags": []
   },
   "outputs": [
    {
     "data": {
      "text/plain": [
       "{0, 1, 2, 3, 4, 5}"
      ]
     },
     "execution_count": 19,
     "metadata": {},
     "output_type": "execute_result"
    }
   ],
   "source": [
    "set(range(6))"
   ]
  },
  {
   "cell_type": "code",
   "execution_count": 22,
   "id": "a9a7aff6-7611-4922-8f02-66527c371e2c",
   "metadata": {
    "tags": []
   },
   "outputs": [
    {
     "data": {
      "text/plain": [
       "[1, 2]"
      ]
     },
     "execution_count": 22,
     "metadata": {},
     "output_type": "execute_result"
    }
   ],
   "source": [
    "list(range(1, 4//2+1))"
   ]
  },
  {
   "cell_type": "code",
   "execution_count": 23,
   "id": "4962ccae-5917-4b17-a072-91b172a3ea27",
   "metadata": {
    "tags": []
   },
   "outputs": [
    {
     "data": {
      "text/plain": [
       "{0, 3, 4, 5}"
      ]
     },
     "execution_count": 23,
     "metadata": {},
     "output_type": "execute_result"
    }
   ],
   "source": [
    "set(range(6)) - set([1,2])"
   ]
  },
  {
   "cell_type": "code",
   "execution_count": null,
   "id": "44afcb28-8df9-4b8e-88c8-3541f3a15793",
   "metadata": {},
   "outputs": [],
   "source": [
    "from itertools import combinations\n",
    "\n",
    "def solution(S):\n",
    "        \n",
    "    idx_set = set(range(len(S)))\n",
    "    \n",
    "    if len(S)%2 == 0:\n",
    "        len_half_S = len(S)//2\n",
    "    else:\n",
    "        len_half_S = len(S)//2+1\n",
    "        \n",
    "    for i in range(1, len(S)//2+1):\n",
    "        combi = list(combinations(range(len(S)), i)\n",
    "\n",
    "    return answer"
   ]
  },
  {
   "cell_type": "markdown",
   "id": "0e3bd949-7349-430c-a91e-4e15f3ed607d",
   "metadata": {},
   "source": [
    "### 잡다 - 마이다스아이티\n",
    "\n",
    "- 개발 구현 능력 검사 (중급)\n",
    "- 20230401토\n",
    "- 시작 17:00\n",
    "- 끝"
   ]
  },
  {
   "cell_type": "code",
   "execution_count": 73,
   "id": "97859d42-bfb3-4390-9ec2-1d2ddb7adf7a",
   "metadata": {
    "tags": []
   },
   "outputs": [],
   "source": [
    "def solution(n, x1, y1, x2, y2):\n",
    "    \n",
    "    answer = [[0] * n for i in range(n)]\n",
    "    \n",
    "    for i in range(n-1):\n",
    "        for j in range(i+1,n):\n",
    "            if answer[i][j] == 1:\n",
    "                continue\n",
    "            # 선도형의 아랫변 - 후도형의 윗변\n",
    "            if y1[i] == y2[j] and x1[i] < (x2[j]+x1[j])/2 < x2[i]:\n",
    "                print(1)\n",
    "                answer[i][j] = 1\n",
    "                answer[j][i] = 1\n",
    "            # 선도형의 윗변 - 후도형의 아랫변\n",
    "            elif y2[i] == y1[j] and x1[i] < (x2[j]+x1[j])/2 < x2[i]:\n",
    "                print(2, '/', i, j)\n",
    "                answer[i][j] = 1\n",
    "                answer[j][i] = 1\n",
    "            # 선도형의 왼변 - 후도형의 오른변\n",
    "            elif x1[i] == x2[j] and y1[i] < (y2[j]+y1[j])/2 < y2[i]:\n",
    "                print(3)\n",
    "                answer[i][j] = 1\n",
    "                answer[j][i] = 1\n",
    "            # 선도형의 오른변 - 후도형의 왼변\n",
    "            elif x2[i] == x1[j] and y1[i] < (y2[j]+y1[j])/2 < y2[i]:\n",
    "                print(4)\n",
    "                answer[i][j] = 1\n",
    "                answer[j][i] = 1\n",
    "\n",
    "    return answer"
   ]
  },
  {
   "cell_type": "code",
   "execution_count": 106,
   "id": "1e4fbb51-b958-4e92-932b-e09b3cb99a68",
   "metadata": {
    "tags": []
   },
   "outputs": [],
   "source": [
    "def solution(n, x1, y1, x2, y2):\n",
    "    \n",
    "    graph = [[0] * n for i in range(n)]\n",
    "    stack = []\n",
    "    \n",
    "    for i in range(n-1):\n",
    "        for j in range(i+1,n):\n",
    "            if graph[i][j] == 1:\n",
    "                continue\n",
    "            # 선도형의 아랫변 - 후도형의 윗변\n",
    "            if y1[i] == y2[j] and set(range(x1[i],x2[i])) & set(range(x1[j],x2[j])):\n",
    "                print(1)\n",
    "                graph[i][j] = 1\n",
    "                graph[j][i] = 1\n",
    "                stack.extend([[i,j],[j,i]])\n",
    "            # 선도형의 윗변 - 후도형의 아랫변\n",
    "            elif y2[i] == y1[j] and set(range(x1[i],x2[i])) & set(range(x1[j],x2[j])):\n",
    "                print(2)\n",
    "                graph[i][j] = 1\n",
    "                graph[j][i] = 1\n",
    "                stack.extend([[i,j],[j,i]])\n",
    "            # 선도형의 왼변 - 후도형의 오른변\n",
    "            elif x1[i] == x2[j] and set(range(y1[i],y2[i])) & set(range(y1[j],y2[j])):\n",
    "                print(3)\n",
    "                graph[i][j] = 1\n",
    "                graph[j][i] = 1\n",
    "                stack.extend([[i,j],[j,i]])\n",
    "            # 선도형의 오른변 - 후도형의 왼변\n",
    "            elif x2[i] == x1[j] and set(range(y1[i],y2[i])) & set(range(y1[j],y2[j])):\n",
    "                print(4)\n",
    "                graph[i][j] = 1\n",
    "                graph[j][i] = 1\n",
    "                stack.extend([[i,j],[j,i]])\n",
    "    \n",
    "    print(graph)\n",
    "    \n",
    "    visited = [[False] * n for i in range(n)]\n",
    "    answer = [1] * n\n",
    "\n",
    "    while stack:\n",
    "        \n",
    "        x,y = stack.pop()\n",
    "        visited[x][y] = True\n",
    "\n",
    "        for idx,val in enumerate(graph[y]):\n",
    "            if nx == 1 and visited[nidx][nx] == False:\n",
    "                stack.append([nidx, nx])\n",
    "                answer[nidx] += 1\n",
    "                \n",
    "\n",
    "    # for idx_x,x in enumerate(graph):\n",
    "    #     for idx_y,y in enumerate(x):\n",
    "    #         if idx_x == idx_y:\n",
    "    #             continue\n",
    "    #         if graph[idx_x][idx_y] == 1:\n",
    "                \n",
    "    \n",
    "    \n",
    "    return answer"
   ]
  },
  {
   "cell_type": "code",
   "execution_count": 108,
   "id": "e3ac1879-b82e-4853-b5d2-42c3dd460a46",
   "metadata": {
    "tags": []
   },
   "outputs": [
    {
     "data": {
      "text/plain": [
       "[[], [], []]"
      ]
     },
     "execution_count": 108,
     "metadata": {},
     "output_type": "execute_result"
    }
   ],
   "source": [
    "[[] for _ in range(3)]"
   ]
  },
  {
   "cell_type": "code",
   "execution_count": 117,
   "id": "286325a1-da26-4e4c-9a09-763adffe24e0",
   "metadata": {
    "tags": []
   },
   "outputs": [],
   "source": [
    "def solution(n, x1, y1, x2, y2):\n",
    "    \n",
    "    answer = [1] * n\n",
    "    graph = [[] for _ in range(n)]\n",
    "    stack = []\n",
    "    \n",
    "    for i in range(n-1):\n",
    "        for j in range(i+1,n):\n",
    "            if graph[i] == j or graph[j] == i:\n",
    "                continue\n",
    "            # 선도형의 아랫변 - 후도형의 윗변\n",
    "            if y1[i] == y2[j] and set(range(x1[i],x2[i])) & set(range(x1[j],x2[j])):\n",
    "                graph[i].append(j)\n",
    "                graph[j].append(i)\n",
    "            # 선도형의 윗변 - 후도형의 아랫변\n",
    "            elif y2[i] == y1[j] and set(range(x1[i],x2[i])) & set(range(x1[j],x2[j])):\n",
    "                graph[i].append(j)\n",
    "                graph[j].append(i)\n",
    "            # 선도형의 왼변 - 후도형의 오른변\n",
    "            elif x1[i] == x2[j] and set(range(y1[i],y2[i])) & set(range(y1[j],y2[j])):\n",
    "                graph[i].append(j)\n",
    "                graph[j].append(i)\n",
    "            # 선도형의 오른변 - 후도형의 왼변\n",
    "            elif x2[i] == x1[j] and set(range(y1[i],y2[i])) & set(range(y1[j],y2[j])):\n",
    "                graph[i].append(j)\n",
    "                graph[j].append(i)\n",
    "    \n",
    "    for i in range(n):\n",
    "        visited = [False] * n\n",
    "        stack.extend(graph[i])\n",
    "        \n",
    "        while stack:\n",
    "            val = stack.pop()\n",
    "            visited[val] = True\n",
    "\n",
    "            for nval in graph[val]:\n",
    "                if visited[nval] == False:\n",
    "                    stack.append(nval)\n",
    "                    answer[i] += 1    \n",
    "    \n",
    "    return answer"
   ]
  },
  {
   "cell_type": "code",
   "execution_count": 118,
   "id": "38d35bec-60d1-4664-afd1-8a0ba99b57cd",
   "metadata": {
    "tags": []
   },
   "outputs": [
    {
     "data": {
      "text/plain": [
       "[3, 3, 3, 1]"
      ]
     },
     "execution_count": 118,
     "metadata": {},
     "output_type": "execute_result"
    }
   ],
   "source": [
    "n = 4\n",
    "x1 = [10,30,65,10]\n",
    "y1 = [15,40,40,70]\n",
    "x2 = [40,65,80,30]\n",
    "y2 = [40,60,70,90]\n",
    "# result = [3,3,3,1]\n",
    "\n",
    "solution(n, x1, y1, x2, y2)"
   ]
  },
  {
   "cell_type": "code",
   "execution_count": 97,
   "id": "d081424f-c8a8-4e8a-b911-a17d02b8bd89",
   "metadata": {
    "tags": []
   },
   "outputs": [
    {
     "data": {
      "text/plain": [
       "[[0, 0, 0, 0], [0, 0, 0, 0], [0, 0, 0, 0], [0, 0, 0, 0]]"
      ]
     },
     "execution_count": 97,
     "metadata": {},
     "output_type": "execute_result"
    }
   ],
   "source": [
    "[[0] * 4 for i in range(4)]"
   ]
  },
  {
   "cell_type": "code",
   "execution_count": 77,
   "id": "aee13534-63fe-47f8-9248-bfcac0e373ba",
   "metadata": {
    "tags": []
   },
   "outputs": [
    {
     "name": "stdout",
     "output_type": "stream",
     "text": [
      "1\n"
     ]
    }
   ],
   "source": [
    "if set(range(10,50+1)) & set(range(40,70+1)):\n",
    "    print(1)"
   ]
  },
  {
   "cell_type": "code",
   "execution_count": 78,
   "id": "a58f801c-dac4-4718-8869-3865a2e1974f",
   "metadata": {
    "tags": []
   },
   "outputs": [],
   "source": [
    "if set(range(10,50+1)) & set(range(60,70+1)):\n",
    "    print(1)"
   ]
  },
  {
   "cell_type": "code",
   "execution_count": 92,
   "id": "fa6d0fed-feb6-4fb2-8aa3-5e238463e1b5",
   "metadata": {
    "tags": []
   },
   "outputs": [
    {
     "data": {
      "text/plain": [
       "[2, 3, 1, 1]"
      ]
     },
     "execution_count": 92,
     "metadata": {},
     "output_type": "execute_result"
    }
   ],
   "source": [
    "test = [1] * n\n",
    "test[0] = 2\n",
    "test[1] = 3\n",
    "test"
   ]
  },
  {
   "cell_type": "code",
   "execution_count": 105,
   "id": "5ff2b780-93e3-45a7-8df2-898649123eef",
   "metadata": {
    "tags": []
   },
   "outputs": [
    {
     "data": {
      "text/plain": [
       "[[1, 2], [3, 4]]"
      ]
     },
     "execution_count": 105,
     "metadata": {},
     "output_type": "execute_result"
    }
   ],
   "source": [
    "test = []\n",
    "\n",
    "test.extend([[1,2],[3,4]])\n",
    "test"
   ]
  },
  {
   "cell_type": "code",
   "execution_count": null,
   "id": "e6dfe2e0-a5bd-4772-9a91-b9b92d77c92b",
   "metadata": {},
   "outputs": [],
   "source": []
  }
 ],
 "metadata": {
  "kernelspec": {
   "display_name": "Python 3",
   "language": "python",
   "name": "python3"
  },
  "language_info": {
   "codemirror_mode": {
    "name": "ipython",
    "version": 3
   },
   "file_extension": ".py",
   "mimetype": "text/x-python",
   "name": "python",
   "nbconvert_exporter": "python",
   "pygments_lexer": "ipython3",
   "version": "3.8.16"
  }
 },
 "nbformat": 4,
 "nbformat_minor": 5
}
