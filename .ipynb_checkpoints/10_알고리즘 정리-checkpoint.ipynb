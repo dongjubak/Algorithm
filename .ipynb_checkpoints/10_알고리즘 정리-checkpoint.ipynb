{
 "cells": [
  {
   "cell_type": "markdown",
   "id": "d6b73a59-fa1d-4853-b211-cb05efeee13b",
   "metadata": {},
   "source": [
    "### 알고리즘 정리\n",
    "\n",
    "- 기초\n",
    "    - DFS(깊이우선탐색)\n",
    "    - BFS(너비우선탐색)\n",
    "    - 이분탐색\n",
    "    - LIS (최장증가부분수열)\n",
    "- 심화\n",
    "    - 다익스트라\n",
    "    - 플루워드워셜\n",
    "    - 최소신장트리(MST)\n",
    "    - 크루스칼\n",
    "    - 이분매칭\n",
    "- 특이\n",
    "    - 카탈란 수\n",
    "- 참고\n",
    "    - https://velog.io/@recoder/CS기초-자료구조-알고리즘-탐색"
   ]
  },
  {
   "cell_type": "markdown",
   "id": "71c6a6e2-97fe-4025-86b1-90a0a3eed137",
   "metadata": {},
   "source": [
    "#### 1. LIS (최장증가부분수열)\n",
    "\n",
    "- https://www.acmicpc.net/problem/12015"
   ]
  },
  {
   "cell_type": "code",
   "execution_count": 4,
   "id": "27410f35-68cb-42eb-a1da-e16e03dd4bf2",
   "metadata": {},
   "outputs": [
    {
     "name": "stdin",
     "output_type": "stream",
     "text": [
      " 6\n",
      " 1 2 1 3 2 5\n"
     ]
    },
    {
     "name": "stdout",
     "output_type": "stream",
     "text": [
      "[1, 2, 1, 3, 2, 4]\n"
     ]
    }
   ],
   "source": [
    "n = int(input())\n",
    "array = list(map(int, input().split()))\n",
    "\n",
    "dp = [1] * n\n",
    "\n",
    "for i in range(n):\n",
    "    for j in range(i):\n",
    "        if array[j] < array[i]:\n",
    "            dp[i] = max(dp[i], dp[j]+1)\n",
    "            \n",
    "print(dp)"
   ]
  },
  {
   "cell_type": "markdown",
   "id": "69490b6b-9865-482b-ad4d-2498b8a6d1d9",
   "metadata": {},
   "source": [
    "#### 2. 이분매칭\n",
    "\n",
    "- https://www.acmicpc.net/problem/2188\n",
    "- https://velog.io/@ashooozzz/Python-이분-매칭feat.-DFS"
   ]
  },
  {
   "cell_type": "markdown",
   "id": "3ed2376e-c22f-4d47-8da3-eaee729ef8c8",
   "metadata": {},
   "source": [
    "#### 3. 다익스트라\n"
   ]
  },
  {
   "cell_type": "code",
   "execution_count": null,
   "id": "2365f91c-6587-4d0e-9246-1f72ae4e89e8",
   "metadata": {},
   "outputs": [],
   "source": [
    "import heapq\n",
    "\n",
    "n = int(input())\n",
    "m = int(input())\n",
    "\n",
    "graph = [[] for i in range(n+1)]\n",
    "\n",
    "for i in range(m):\n",
    "    a,b,c = map(int, input().split())\n",
    "    graph[a].append([b,c])\n",
    "\n",
    "start, end = map(int, input().split())    \n",
    "\n",
    "distance = [1e9] * (n+1)\n",
    "\n",
    "def dijkstra(start):\n",
    "    q = []\n",
    "    heapq.heappush(q, (0, start))\n",
    "    distance[start] = 0\n",
    "    \n",
    "    while q:\n",
    "        dist, now = heapq.heappop(q)\n",
    "        \n",
    "        if dist > distance[now]:\n",
    "            continue\n",
    "            \n",
    "        for i in graph[now]:\n",
    "            cost = dist + i[1]\n",
    "            \n",
    "            if cost < distance[i[0]]:\n",
    "                dinstance[i[0]] = cost\n",
    "                heapq.heappush(q, (cost, i[0]))\n",
    "            \n",
    "dijkstra(start)\n",
    "\n",
    "print(distance[end])"
   ]
  },
  {
   "cell_type": "code",
   "execution_count": null,
   "id": "38a60e2a-d004-4e4f-9ba4-5e91e58374ba",
   "metadata": {},
   "outputs": [],
   "source": []
  },
  {
   "cell_type": "code",
   "execution_count": null,
   "id": "e6282b1c-2cbf-441f-a099-030f64f2d70f",
   "metadata": {},
   "outputs": [],
   "source": []
  },
  {
   "cell_type": "code",
   "execution_count": null,
   "id": "c0e6c8aa-091c-4a0a-8d3a-e64637089091",
   "metadata": {},
   "outputs": [],
   "source": []
  },
  {
   "cell_type": "code",
   "execution_count": null,
   "id": "81e038b2-eaf7-43e4-9ccb-79826c9e23ea",
   "metadata": {},
   "outputs": [],
   "source": []
  },
  {
   "cell_type": "code",
   "execution_count": null,
   "id": "283a42ea-8c31-4394-a92b-cfc61b50a3b9",
   "metadata": {},
   "outputs": [],
   "source": []
  },
  {
   "cell_type": "code",
   "execution_count": null,
   "id": "d75b212c-bfa3-4636-b3e1-d099fc3d90d7",
   "metadata": {},
   "outputs": [],
   "source": []
  },
  {
   "cell_type": "code",
   "execution_count": null,
   "id": "c9642464-32e0-4e1f-8d86-5a3992fb5f9d",
   "metadata": {},
   "outputs": [],
   "source": []
  },
  {
   "cell_type": "code",
   "execution_count": null,
   "id": "cb96b55c-9509-4e0d-ac1a-bcb279add72b",
   "metadata": {},
   "outputs": [],
   "source": []
  }
 ],
 "metadata": {
  "kernelspec": {
   "display_name": "Python 3",
   "language": "python",
   "name": "python3"
  },
  "language_info": {
   "codemirror_mode": {
    "name": "ipython",
    "version": 3
   },
   "file_extension": ".py",
   "mimetype": "text/x-python",
   "name": "python",
   "nbconvert_exporter": "python",
   "pygments_lexer": "ipython3",
   "version": "3.6.10"
  }
 },
 "nbformat": 4,
 "nbformat_minor": 5
}
