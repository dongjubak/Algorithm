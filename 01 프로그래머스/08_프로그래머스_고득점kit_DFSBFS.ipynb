{
 "cells": [
  {
   "cell_type": "markdown",
   "id": "d0aa25b5-25b5-405b-985b-20fe904e646b",
   "metadata": {
    "jp-MarkdownHeadingCollapsed": true,
    "tags": []
   },
   "source": [
    "### 1. 타겟 넘버\n",
    "\n",
    "- https://school.programmers.co.kr/learn/courses/30/lessons/43165\n",
    "- level 2\n",
    "- 2023.04.01.토\n",
    "- 시작 14:12\n",
    "- 끝 14:55\n",
    "- 핵심\n",
    "    - dfs or bfs"
   ]
  },
  {
   "cell_type": "code",
   "execution_count": 6,
   "id": "c3d8932f-07fb-4615-898e-ad321a572976",
   "metadata": {},
   "outputs": [],
   "source": [
    "def solution(numbers, target):\n",
    "    \n",
    "    oper = [1, -1]\n",
    "    idx = 0\n",
    "    stack = [[idx, numbers[idx]], [idx, -numbers[idx]]]\n",
    "    answer = 0\n",
    "    \n",
    "    while stack:\n",
    "        idx, x = stack.pop()\n",
    "        \n",
    "        if idx == len(numbers)-1:\n",
    "            if x == target:\n",
    "                answer += 1\n",
    "            continue\n",
    "                \n",
    "        for op in oper:\n",
    "            stack.append([idx+1, x + numbers[idx+1]*op])\n",
    "    \n",
    "    return answer"
   ]
  },
  {
   "cell_type": "code",
   "execution_count": 8,
   "id": "f06eaca2-62ea-4da8-af01-f2b91f6f8fac",
   "metadata": {},
   "outputs": [
    {
     "data": {
      "text/plain": [
       "5"
      ]
     },
     "execution_count": 8,
     "metadata": {},
     "output_type": "execute_result"
    }
   ],
   "source": [
    "numbers = [1, 1, 1, 1, 1]\n",
    "target = 3\n",
    "# result = 5\n",
    "\n",
    "solution(numbers, target)"
   ]
  },
  {
   "cell_type": "code",
   "execution_count": 9,
   "id": "312117e6-f6ef-45ac-8351-575f130e1f3e",
   "metadata": {
    "tags": []
   },
   "outputs": [
    {
     "data": {
      "text/plain": [
       "2"
      ]
     },
     "execution_count": 9,
     "metadata": {},
     "output_type": "execute_result"
    }
   ],
   "source": [
    "numbers = [4, 1, 2, 1]\n",
    "target = 4\n",
    "# result = 2\n",
    "\n",
    "solution(numbers, target)"
   ]
  },
  {
   "cell_type": "code",
   "execution_count": null,
   "id": "b24ef1a0-ac1d-4199-994c-0718714bf96b",
   "metadata": {},
   "outputs": [],
   "source": [
    "### 모범답안? 까리한 답안\n",
    "\n",
    "def solution(numbers, target):\n",
    "    if not numbers and target == 0 :\n",
    "        return 1\n",
    "    elif not numbers:\n",
    "        return 0\n",
    "    else:\n",
    "        return solution(numbers[1:], target-numbers[0]) + solution(numbers[1:], target+numbers[0])\n"
   ]
  },
  {
   "cell_type": "code",
   "execution_count": null,
   "id": "177b170c-32e3-4567-b47b-0e986f2b3149",
   "metadata": {},
   "outputs": [],
   "source": [
    "### 모범답안2\n",
    "\n",
    "from itertools import product\n",
    "def solution(numbers, target):\n",
    "    l = [(x, -x) for x in numbers]\n",
    "    s = list(map(sum, product(*l)))\n",
    "    return s.count(target)"
   ]
  },
  {
   "cell_type": "code",
   "execution_count": 13,
   "id": "13ea0a11-05e4-4dee-8141-15da29950719",
   "metadata": {
    "tags": []
   },
   "outputs": [
    {
     "name": "stdout",
     "output_type": "stream",
     "text": [
      "[(4, -4), (1, -1), (2, -2), (1, -1)]\n",
      "(4, -4) (1, -1) (2, -2) (1, -1)\n",
      "[(4, 1, 2, 1), (4, 1, 2, -1), (4, 1, -2, 1), (4, 1, -2, -1), (4, -1, 2, 1), (4, -1, 2, -1), (4, -1, -2, 1), (4, -1, -2, -1), (-4, 1, 2, 1), (-4, 1, 2, -1), (-4, 1, -2, 1), (-4, 1, -2, -1), (-4, -1, 2, 1), (-4, -1, 2, -1), (-4, -1, -2, 1), (-4, -1, -2, -1)]\n",
      "[8, 6, 4, 2, 6, 4, 2, 0, 0, -2, -4, -6, -2, -4, -6, -8]\n"
     ]
    }
   ],
   "source": [
    "from itertools import product\n",
    "\n",
    "l = [(x, -x) for x in numbers]\n",
    "\n",
    "print(l)\n",
    "print(*l)\n",
    "print(list(product(*l)))\n",
    "print(list(map(sum, product(*l))))"
   ]
  },
  {
   "cell_type": "code",
   "execution_count": null,
   "id": "aef68b08-4bf3-430f-a11c-cbd8a3dab3d6",
   "metadata": {},
   "outputs": [],
   "source": [
    "### 모범답안3\n",
    "\n",
    "def solution(numbers, target):\n",
    "    q = [0]\n",
    "    for n in numbers:\n",
    "        s = []\n",
    "        for _ in range(len(q)):\n",
    "            x = q.pop()\n",
    "            s.append(x + n)\n",
    "            s.append(x + n*(-1))\n",
    "        q = s.copy()\n",
    "    return q.count(target)"
   ]
  },
  {
   "cell_type": "markdown",
   "id": "1860a1ff-f642-423e-bf06-d63fc9f74484",
   "metadata": {
    "tags": []
   },
   "source": [
    "### 2. 네트워크\n",
    "\n",
    "- https://school.programmers.co.kr/learn/courses/30/lessons/43162\n",
    "- level 3\n",
    "- 2023.04.12.수\n",
    "- 시작 11:38\n",
    "- 끝 12:17\n",
    "- 핵심\n",
    "    - 1차원 좌표 상에서 dfs or bfs 수행"
   ]
  },
  {
   "cell_type": "code",
   "execution_count": 14,
   "id": "ef2fd7f7-672a-4dcb-9fb5-5dde3ce8c57d",
   "metadata": {
    "tags": []
   },
   "outputs": [],
   "source": [
    "def solution(n, computers):\n",
    "    \n",
    "    graph = [[] for _ in range(n)]\n",
    "    \n",
    "    for i in range(n):\n",
    "        for j in range(n):\n",
    "            if i == j:\n",
    "                continue\n",
    "            if computers[i][j] == 1:\n",
    "                graph[i].append(j)\n",
    "    \n",
    "    stack = []\n",
    "    visited = [False] * n\n",
    "    idx = 0\n",
    "    answer = n\n",
    "    \n",
    "    while stack or idx < n:\n",
    "        if stack:\n",
    "            x = stack.pop()\n",
    "        else:\n",
    "            stack.extend(graph[idx])\n",
    "            visited[idx] = True\n",
    "            idx += 1\n",
    "            continue\n",
    "        \n",
    "        if visited[x] == False:\n",
    "            visited[x] = True\n",
    "            stack.extend(graph[x])\n",
    "            answer -= 1\n",
    "            \n",
    "    return answer"
   ]
  },
  {
   "cell_type": "code",
   "execution_count": 17,
   "id": "eac83e70-5a10-4957-984e-06cbd18d2b3d",
   "metadata": {
    "tags": []
   },
   "outputs": [],
   "source": [
    "def solution(n, computers):\n",
    "    \n",
    "    graph = [[] for _ in range(n)]\n",
    "    \n",
    "    for i in range(n):\n",
    "        for j in range(n):\n",
    "            if i == j:\n",
    "                continue\n",
    "            if computers[i][j] == 1:\n",
    "                graph[i].append(j)\n",
    "    \n",
    "    stack = []\n",
    "    visited = [False] * n\n",
    "    idx = 0\n",
    "    answer = n\n",
    "    \n",
    "    while stack or idx < n:\n",
    "        if stack:\n",
    "            x = stack.pop()\n",
    "        else:\n",
    "            if graph[idx] == True:\n",
    "                continue\n",
    "            stack.extend(graph[idx])\n",
    "            visited[idx] = True\n",
    "            idx += 1\n",
    "            continue\n",
    "        \n",
    "        if visited[x] == False:\n",
    "            visited[x] = True\n",
    "            stack.extend(graph[x])\n",
    "            answer -= 1\n",
    "            \n",
    "    return answer"
   ]
  },
  {
   "cell_type": "code",
   "execution_count": 18,
   "id": "e127d3e0-fec4-4768-9cac-db0844f80304",
   "metadata": {
    "tags": []
   },
   "outputs": [
    {
     "data": {
      "text/plain": [
       "2"
      ]
     },
     "execution_count": 18,
     "metadata": {},
     "output_type": "execute_result"
    }
   ],
   "source": [
    "n = 3\n",
    "computers = [[1, 1, 0], [1, 1, 0], [0, 0, 1]]\n",
    "#result = 2\n",
    "\n",
    "solution(n, computers)"
   ]
  },
  {
   "cell_type": "code",
   "execution_count": 19,
   "id": "25f16e2e-9d79-474d-a711-fb86ab1898ad",
   "metadata": {
    "tags": []
   },
   "outputs": [
    {
     "data": {
      "text/plain": [
       "1"
      ]
     },
     "execution_count": 19,
     "metadata": {},
     "output_type": "execute_result"
    }
   ],
   "source": [
    "n = 3\n",
    "computers = [[1, 1, 0], [1, 1, 1], [0, 1, 1]]\n",
    "#result = 1\n",
    "\n",
    "solution(n, computers)"
   ]
  },
  {
   "cell_type": "code",
   "execution_count": null,
   "id": "8e0f6d45-1a20-4c32-86cc-9f92a717ecc8",
   "metadata": {},
   "outputs": [],
   "source": [
    "### 모범답안\n",
    "\n",
    "def visit(k, graph, visited):\n",
    "    visited[k] = 1\n",
    "    for i in range(len(graph[k])):\n",
    "        if visited[i] == 0 and graph[k][i] == 1:\n",
    "            visit(i, graph, visited)\n",
    "\n",
    "def solution(n, computers):\n",
    "\n",
    "    visited = [0] * n\n",
    "\n",
    "    answer = 0\n",
    "\n",
    "    for i in range(n):\n",
    "        if visited[i] == 0:\n",
    "            visit(i, computers, visited)\n",
    "            answer += 1\n",
    "        if 0 not in visited:\n",
    "            break\n",
    "\n",
    "    return answer"
   ]
  }
 ],
 "metadata": {
  "kernelspec": {
   "display_name": "Python 3",
   "language": "python",
   "name": "python3"
  },
  "language_info": {
   "codemirror_mode": {
    "name": "ipython",
    "version": 3
   },
   "file_extension": ".py",
   "mimetype": "text/x-python",
   "name": "python",
   "nbconvert_exporter": "python",
   "pygments_lexer": "ipython3",
   "version": "3.8.16"
  }
 },
 "nbformat": 4,
 "nbformat_minor": 5
}
