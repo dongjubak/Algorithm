{
 "cells": [
  {
   "cell_type": "markdown",
   "metadata": {
    "tags": []
   },
   "source": [
    "### 4. 더 맵게\n",
    "\n",
    "- level 2\n",
    "- 2023.02.09.목\n",
    "- 시작 10:40\n",
    "- 끝 12:07\n",
    "- 핵심\n",
    "    1) 힙 자료구조를 이용하여 시간복잡도를 최소화  "
   ]
  },
  {
   "cell_type": "code",
   "execution_count": null,
   "metadata": {
    "jupyter": {
     "source_hidden": true
    },
    "tags": []
   },
   "outputs": [],
   "source": [
    "''' # 이전에 적었던 답\n",
    "def solution(scoville, K):\n",
    "    count = 0\n",
    "\n",
    "    scov_2 = [i for i in scoville if i < K]\n",
    "    scov_2 = sorted(scov_2)\n",
    "    len_scov_2 = len(scov_2)\n",
    "\n",
    "    while scov_2[0] < K:\n",
    "        if len(scov_2) <= 1 and len_scov_2 == len(scoville) and scov_2[0] < K:\n",
    "            return -1\n",
    "        if len(scov_2) <= 1 and len_scov_2 != len(scoville) and scov_2[0] < K:\n",
    "            count += 1\n",
    "            return count\n",
    "        scov_2[1] = scov_2[0] + scov_2[1]*2\n",
    "        scov_2.pop(0)\n",
    "        scov_2 = sorted(scov_2)\n",
    "        count += 1\n",
    "    \n",
    "    return count\n",
    "'''"
   ]
  },
  {
   "cell_type": "code",
   "execution_count": 10,
   "metadata": {},
   "outputs": [],
   "source": [
    "import heapq\n",
    "\n",
    "def solution(scov, K):\n",
    "    \n",
    "    heapq.heapify(scov)\n",
    "    answer = 0\n",
    "    \n",
    "    for i in range(len(scov)-1):\n",
    "        if scov[0] >= K:\n",
    "            break\n",
    "        answer += 1\n",
    "        a = heapq.heappop(scov)\n",
    "        b = heapq.heappop(scov)\n",
    "        heapq.heappush(scov, 2*b+a)\n",
    "        \n",
    "    if scov[0] < K:\n",
    "        return -1\n",
    "    \n",
    "    return answer"
   ]
  },
  {
   "cell_type": "code",
   "execution_count": 10,
   "metadata": {},
   "outputs": [],
   "source": [
    "import heapq\n",
    "\n",
    "def solution(scov, K):\n",
    "    \n",
    "    heapq.heapify(scov)\n",
    "    answer = 0\n",
    "    \n",
    "    for i in range(len(scov)-1):\n",
    "        if scov[0] >= K:\n",
    "            break\n",
    "        answer += 1\n",
    "        a = heapq.heappop(scov)\n",
    "        b = heapq.heappop(scov)\n",
    "        heapq.heappush(scov, 2*b+a)\n",
    "        \n",
    "    if scov[0] < K:\n",
    "        return -1\n",
    "    \n",
    "    return answer"
   ]
  },
  {
   "cell_type": "code",
   "execution_count": 13,
   "metadata": {},
   "outputs": [
    {
     "name": "stdout",
     "output_type": "stream",
     "text": [
      "[9, 12, 10, 13]\n"
     ]
    },
    {
     "data": {
      "text/plain": [
       "2"
      ]
     },
     "execution_count": 13,
     "metadata": {},
     "output_type": "execute_result"
    }
   ],
   "source": [
    "scoville = [1, 2, 3, 9, 10, 12]\n",
    "K = 7\n",
    "# result = 2\n",
    "solution(scoville, K)"
   ]
  },
  {
   "cell_type": "code",
   "execution_count": null,
   "metadata": {},
   "outputs": [],
   "source": []
  }
 ],
 "metadata": {
  "kernelspec": {
   "display_name": "Python 3",
   "language": "python",
   "name": "python3"
  },
  "language_info": {
   "codemirror_mode": {
    "name": "ipython",
    "version": 3
   },
   "file_extension": ".py",
   "mimetype": "text/x-python",
   "name": "python",
   "nbconvert_exporter": "python",
   "pygments_lexer": "ipython3",
   "version": "3.6.10"
  }
 },
 "nbformat": 4,
 "nbformat_minor": 4
}
