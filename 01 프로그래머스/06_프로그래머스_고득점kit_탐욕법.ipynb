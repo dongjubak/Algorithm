{
 "cells": [
  {
   "cell_type": "markdown",
   "id": "070377cb-7321-47fa-bbdc-5e523b51582d",
   "metadata": {
    "tags": []
   },
   "source": [
    "### 1. 체육복\n",
    "\n",
    "- https://school.programmers.co.kr/learn/courses/30/lessons/42862\n",
    "- level 1\n",
    "- 2023.03.27.월\n",
    "- 시작 14:21\n",
    "- 끝 15:11\n",
    "- 성공\n",
    "- 핵심\n",
    "    - 여벌 체육복을 가져온 학생이 체육복을 도난당한 경우 처리를 잘 고려해야 함\n",
    "    - ex.) n = 4 / lost = [1,2,3] / reserve = [2,3,4] / result = 3"
   ]
  },
  {
   "cell_type": "code",
   "execution_count": 51,
   "id": "26ff8040-8788-4fd0-b150-761d99c17ff0",
   "metadata": {
    "tags": []
   },
   "outputs": [],
   "source": [
    "def solution(n, lost, reserve):\n",
    "    \n",
    "    answer = n - len(lost) + len(set(lost)&set(reserve))\n",
    "    reserve2 = list(set(reserve) - set(lost))\n",
    "    lost2 = sorted(list(set(lost) - set(reserve)))\n",
    "    lost2.sort()\n",
    "    \n",
    "    for lo in lost2:\n",
    "        if lo-1 in reserve2:\n",
    "            reserve2.remove(lo-1)\n",
    "            answer += 1\n",
    "        elif lo+1 in reserve2:\n",
    "            reserve2.remove(lo+1)\n",
    "            answer += 1\n",
    "        \n",
    "    return answer"
   ]
  },
  {
   "cell_type": "code",
   "execution_count": 52,
   "id": "9ae81c90-2ba9-4cc1-be38-362a41d453a7",
   "metadata": {
    "tags": []
   },
   "outputs": [
    {
     "data": {
      "text/plain": [
       "5"
      ]
     },
     "execution_count": 52,
     "metadata": {},
     "output_type": "execute_result"
    }
   ],
   "source": [
    "n = 5\n",
    "lost = [2, 4]\n",
    "reserve = [1, 3, 5]\n",
    "# result = 5\n",
    "\n",
    "solution(n, lost, reserve)"
   ]
  },
  {
   "cell_type": "code",
   "execution_count": 53,
   "id": "de0ad945-12b7-4fe4-9338-e6d8bef08d3d",
   "metadata": {
    "tags": []
   },
   "outputs": [
    {
     "data": {
      "text/plain": [
       "4"
      ]
     },
     "execution_count": 53,
     "metadata": {},
     "output_type": "execute_result"
    }
   ],
   "source": [
    "n = 5\n",
    "lost = [2, 4]\n",
    "reserve = [3]\n",
    "# result = 4\n",
    "\n",
    "solution(n, lost, reserve)"
   ]
  },
  {
   "cell_type": "code",
   "execution_count": 54,
   "id": "6ca8aa99-0293-4726-9164-eb7e2f977355",
   "metadata": {
    "tags": []
   },
   "outputs": [
    {
     "data": {
      "text/plain": [
       "2"
      ]
     },
     "execution_count": 54,
     "metadata": {},
     "output_type": "execute_result"
    }
   ],
   "source": [
    "n = 3\n",
    "lost = [3]\n",
    "reserve = [1]\n",
    "# result = 2\n",
    "\n",
    "solution(n, lost, reserve)"
   ]
  },
  {
   "cell_type": "code",
   "execution_count": 55,
   "id": "39d1eb8c-ea81-4a3e-b085-ac5655879c6c",
   "metadata": {
    "tags": []
   },
   "outputs": [
    {
     "data": {
      "text/plain": [
       "3"
      ]
     },
     "execution_count": 55,
     "metadata": {},
     "output_type": "execute_result"
    }
   ],
   "source": [
    "n = 4\n",
    "lost = [1,2,3]\n",
    "reserve = [2,3,4]\n",
    "# result = 3\n",
    "\n",
    "solution(n, lost, reserve)"
   ]
  },
  {
   "cell_type": "code",
   "execution_count": 58,
   "id": "401d718e-d623-4f38-af71-a3cbfc180c61",
   "metadata": {
    "tags": []
   },
   "outputs": [],
   "source": [
    "### 모범답안\n",
    "\n",
    "def solution(n, lost, reserve):\n",
    "    _reserve = [r for r in reserve if r not in lost]\n",
    "    _lost = set([l for l in lost if l not in reserve])\n",
    "    for r in _reserve:\n",
    "        f = r - 1\n",
    "        b = r + 1\n",
    "        if f in _lost:\n",
    "            _lost.remove(f)\n",
    "        elif b in _lost:\n",
    "            _lost.remove(b)\n",
    "    return n - len(_lost)"
   ]
  },
  {
   "cell_type": "code",
   "execution_count": 59,
   "id": "08ef1bc5-0d93-4a6f-95a8-f541b98a37ff",
   "metadata": {
    "tags": []
   },
   "outputs": [
    {
     "data": {
      "text/plain": [
       "3"
      ]
     },
     "execution_count": 59,
     "metadata": {},
     "output_type": "execute_result"
    }
   ],
   "source": [
    "n = 4\n",
    "lost = [1,2,3]\n",
    "reserve = [2,3,4]\n",
    "# result = 3\n",
    "\n",
    "solution(n, lost, reserve)"
   ]
  },
  {
   "cell_type": "code",
   "execution_count": null,
   "id": "db6af864-6a51-4a61-a4bb-d64d5cecfdfa",
   "metadata": {},
   "outputs": [],
   "source": []
  }
 ],
 "metadata": {
  "kernelspec": {
   "display_name": "Python 3",
   "language": "python",
   "name": "python3"
  },
  "language_info": {
   "codemirror_mode": {
    "name": "ipython",
    "version": 3
   },
   "file_extension": ".py",
   "mimetype": "text/x-python",
   "name": "python",
   "nbconvert_exporter": "python",
   "pygments_lexer": "ipython3",
   "version": "3.8.16"
  }
 },
 "nbformat": 4,
 "nbformat_minor": 5
}
