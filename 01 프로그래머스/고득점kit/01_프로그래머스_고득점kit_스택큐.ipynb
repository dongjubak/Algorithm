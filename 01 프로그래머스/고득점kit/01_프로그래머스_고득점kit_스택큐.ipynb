{
 "cells": [
  {
   "cell_type": "markdown",
   "id": "0b35c749-bf15-4f2d-b56a-db72b75c57cc",
   "metadata": {
    "tags": []
   },
   "source": [
    "## 스택/큐"
   ]
  },
  {
   "cell_type": "markdown",
   "id": "d04747d4-75cb-4fea-8e1a-2ab0480b20c5",
   "metadata": {
    "jp-MarkdownHeadingCollapsed": true,
    "tags": []
   },
   "source": [
    "#### 1. 같은 숫자는 싫어\n",
    "\n",
    "- level 1\n",
    "- 시작 20:00\n",
    "- 끝 20:12\n",
    "- 쉬움"
   ]
  },
  {
   "cell_type": "code",
   "execution_count": null,
   "id": "4a1769a4-0f44-47ca-8b6f-91c333ba991e",
   "metadata": {},
   "outputs": [],
   "source": [
    "def solution(arr):\n",
    "    answer = []\n",
    "    # [실행] 버튼을 누르면 출력 값을 볼 수 있습니다.\n",
    "    print('Hello Python')\n",
    "    return answer"
   ]
  },
  {
   "cell_type": "code",
   "execution_count": 2,
   "id": "9fd81ca4-3767-464a-9d24-5de76783167d",
   "metadata": {},
   "outputs": [],
   "source": [
    "def solution(arr):\n",
    "    answer = [arr[0]]\n",
    "    \n",
    "    for i in range(1,len(arr)):\n",
    "        if answer[-1] == arr[i]:\n",
    "            continue\n",
    "        else:\n",
    "            answer.append(arr[i])\n",
    "    \n",
    "    return answer"
   ]
  },
  {
   "cell_type": "code",
   "execution_count": 2,
   "id": "72be6551-ecd7-4564-b779-15229c8226ff",
   "metadata": {},
   "outputs": [],
   "source": [
    "def solution(arr):\n",
    "    answer = [arr[0]] # 첫 번째 입력값을 stack에 넣음\n",
    "    \n",
    "    for i in range(1,len(arr)):\n",
    "        if answer[-1] == arr[i]: # stack의 마지막 값이 입력값과 같으면 pass\n",
    "            continue\n",
    "        else: # 다르면 stack에 추가\n",
    "            answer.append(arr[i])\n",
    "    \n",
    "    return answer"
   ]
  },
  {
   "cell_type": "markdown",
   "id": "32a19696-f3ba-483c-869d-c7a60d58f1e0",
   "metadata": {
    "jp-MarkdownHeadingCollapsed": true,
    "tags": []
   },
   "source": [
    "#### 2. 올바른 괄호\n",
    "\n",
    "- level 2\n",
    "- 시작 20:27\n",
    "- 끝 20:41\n",
    "- 어렵지 않음"
   ]
  },
  {
   "cell_type": "code",
   "execution_count": null,
   "id": "b5780fd2-488b-4e13-a377-1a96106491ec",
   "metadata": {},
   "outputs": [],
   "source": [
    "def solution(s):\n",
    "    answer = True\n",
    "    \n",
    "    # [실행] 버튼을 누르면 출력 값을 볼 수 있습니다.\n",
    "    print('Hello Python')\n",
    "\n",
    "    return True"
   ]
  },
  {
   "cell_type": "code",
   "execution_count": null,
   "id": "e4552688-40b7-423b-8b56-50a31f7c4010",
   "metadata": {},
   "outputs": [],
   "source": [
    "def solution(s):\n",
    "    stack = []\n",
    "    \n",
    "    for i in range(len(s)):\n",
    "        if s[i] == ')':\n",
    "            if stack[-1:] == ['(']:\n",
    "                stack.pop()\n",
    "            else:\n",
    "                return False\n",
    "        else:\n",
    "            stack.append('(')\n",
    "            \n",
    "    if stack:\n",
    "        return False\n",
    "    else:\n",
    "        return True"
   ]
  },
  {
   "cell_type": "code",
   "execution_count": null,
   "id": "ab7bc5ef-701d-4ed7-8b71-3e8f69bbdc34",
   "metadata": {},
   "outputs": [],
   "source": [
    "def solution(s):\n",
    "    stack = []\n",
    "    \n",
    "    for i in range(len(s)):\n",
    "        if s[i] == ')': # 입력이 ')' 인 경우\n",
    "            if stack[-1:] == ['(']: # stack의 마지막 값이 '(' 라서 올바른 괄호가 된다면\n",
    "                stack.pop() # stack에서 제거\n",
    "            else: # 올바른 괄호가 안된다면 false\n",
    "                return False\n",
    "        else: # '(' 인 경우 그냥 stack에 추가\n",
    "            stack.append('(')\n",
    "            \n",
    "    if stack: # 다 돌았는데 stack이 남아있으면 \n",
    "        return False\n",
    "    else: # 굳\n",
    "        return True"
   ]
  },
  {
   "cell_type": "markdown",
   "id": "118707c8-ddba-4e3d-afcf-b00ae1ea2f92",
   "metadata": {
    "jp-MarkdownHeadingCollapsed": true,
    "tags": []
   },
   "source": [
    "#### 3. 기능개발\n",
    "\n",
    "- level 2\n",
    "- 시작 20:50\n",
    "- 끝 21:25\n",
    "- 어렵진 않은데 조금은 복잡하게 느껴졌음"
   ]
  },
  {
   "cell_type": "code",
   "execution_count": null,
   "id": "b4419033-67a5-48b8-9c96-4a906da4fe5a",
   "metadata": {},
   "outputs": [],
   "source": [
    "def solution(progresses, speeds):\n",
    "    answer = []\n",
    "    return answer"
   ]
  },
  {
   "cell_type": "code",
   "execution_count": 10,
   "id": "bb544c10-5ae3-4340-a983-bedf17695e19",
   "metadata": {},
   "outputs": [
    {
     "data": {
      "text/plain": [
       "[11, 22, 33]"
      ]
     },
     "execution_count": 10,
     "metadata": {},
     "output_type": "execute_result"
    }
   ],
   "source": [
    "test1 = [1,2,3]\n",
    "test2 = [10,20,30]\n",
    "\n",
    "test3 = list(map(lambda x,y: x+y, test1, test2))\n",
    "test3"
   ]
  },
  {
   "cell_type": "code",
   "execution_count": null,
   "id": "9eb71098-6e8a-4c92-a29d-d2a9d76bc44d",
   "metadata": {},
   "outputs": [],
   "source": [
    "import math\n",
    "\n",
    "def solution(p, s):\n",
    "    answer = [0]\n",
    "    switch = False\n",
    "    \n",
    "    while p:\n",
    "        if p[0] >= 100:\n",
    "            switch = True\n",
    "            p = p[1:]\n",
    "            s = s[1:]\n",
    "            answer[-1] += 1\n",
    "            continue\n",
    "        elif switch == True:\n",
    "            answer.append(0)\n",
    "            switch = False\n",
    "        \n",
    "        cnt = math.ceil((100-p[0]) / s[0])\n",
    "        p = list(map(lambda x,y: x+cnt*y, p, s))\n",
    "        \n",
    "    return answer"
   ]
  },
  {
   "cell_type": "code",
   "execution_count": 13,
   "id": "8ba93116-1478-44bc-aa99-5bd163663c40",
   "metadata": {},
   "outputs": [],
   "source": [
    "import math\n",
    "\n",
    "def solution(p, s):\n",
    "    answer = [0] # 답 기록\n",
    "    switch = False # 스위치\n",
    "    \n",
    "    while p:\n",
    "        if p[0] >= 100: # progresses[0]이 100 이상인 경우 답 업데이트\n",
    "            switch = True\n",
    "            p = p[1:]\n",
    "            s = s[1:]\n",
    "            answer[-1] += 1\n",
    "            continue\n",
    "        elif switch == True: # 업데이트된 적이 있을 경우\n",
    "            answer.append(0)\n",
    "            switch = False\n",
    "        \n",
    "        # 첫 번째 요소가 100 이상이 되도록 연산\n",
    "        cnt = math.ceil((100-p[0]) / s[0])\n",
    "        p = list(map(lambda x,y: x+cnt*y, p, s))\n",
    "        \n",
    "    return answer"
   ]
  },
  {
   "cell_type": "markdown",
   "id": "d20b8b53-4754-4dd7-96f1-104261d89501",
   "metadata": {
    "jp-MarkdownHeadingCollapsed": true,
    "tags": []
   },
   "source": [
    "#### 4. 프린터\n",
    "\n",
    "- level 2\n",
    "- 시작 20:24\n",
    "- 끝 21:45\n",
    "- 실패"
   ]
  },
  {
   "cell_type": "markdown",
   "id": "4243de2b-0083-4a44-9bab-122d8b71cd11",
   "metadata": {
    "jp-MarkdownHeadingCollapsed": true,
    "tags": []
   },
   "source": [
    "##### [실패]"
   ]
  },
  {
   "cell_type": "code",
   "execution_count": null,
   "id": "9a415a0c-27a5-49da-899e-dc8ff7bf5cfa",
   "metadata": {},
   "outputs": [],
   "source": [
    "def solution(priorities, location):\n",
    "    stack = []\n",
    "    for idx,x in priorities:\n",
    "        stack.append([idx,x])\n",
    "    \n",
    "    \n",
    "    answer = 0\n",
    "    return answer"
   ]
  },
  {
   "cell_type": "code",
   "execution_count": null,
   "id": "fb1cdbd2-24d9-4001-afdc-5398e5ccd8c4",
   "metadata": {},
   "outputs": [],
   "source": [
    "def solution(priorities, location):\n",
    "    answer = [location, priorities[location]]\n",
    "    stack = []\n",
    "    idx = 0\n",
    "    while True:\n",
    "        if priorities[0] < max(priorities[1:]):\n",
    "            stack.append([idx, priorities[0]])\n",
    "            idx += 1\n",
    "        \n",
    "    return answer"
   ]
  },
  {
   "cell_type": "code",
   "execution_count": null,
   "id": "b3bb4274-051f-48b0-9c75-26b98d087776",
   "metadata": {},
   "outputs": [],
   "source": [
    "def solution(p, l):\n",
    "    idx = 0\n",
    "    cnt = 0\n",
    "    answer = 0\n",
    "    stack = []\n",
    "    while l >= idx:\n",
    "        if p[idx] > max(p[idx+1:]):\n",
    "            stack.append(p[idx])\n",
    "            p = p[idx+1:]\n",
    "            continue\n",
    "        else:\n",
    "            p = p[idx+1:] + p[idx]\n",
    "        \n",
    "    return answer"
   ]
  },
  {
   "cell_type": "code",
   "execution_count": null,
   "id": "e234d1e5-e377-4415-8cd1-363b14035de4",
   "metadata": {},
   "outputs": [],
   "source": [
    "def solution(p, l):\n",
    "    stack = []\n",
    "    for idx in range(l):\n",
    "        if l[idx] >= l[idx+1]:\n",
    "            stack.append(l[idx])\n",
    "        else:\n",
    "            p = p + [p[idx]]\n",
    "        \n",
    "    return answer"
   ]
  },
  {
   "cell_type": "code",
   "execution_count": 5,
   "id": "ffbbc495-5b4d-4e72-aba8-c6fc02b46c56",
   "metadata": {},
   "outputs": [
    {
     "data": {
      "text/plain": [
       "[1, 2, 3, 4, 3]"
      ]
     },
     "execution_count": 5,
     "metadata": {},
     "output_type": "execute_result"
    }
   ],
   "source": [
    "def solution(p, l):\n",
    "    idx = 0\n",
    "    big = []\n",
    "    small = []\n",
    "    while len(p) > idx:\n",
    "        if p[idx] >= max(p[idx+1:]):\n",
    "            big.append(p[idx])\n",
    "            idx += 1\n",
    "        else:\n",
    "            small.append(p[idx])\n",
    "            idx += 1\n",
    "    return answer"
   ]
  },
  {
   "cell_type": "markdown",
   "id": "25cc9b8c-ee52-48f7-b0ce-49c53dd0aecf",
   "metadata": {
    "jp-MarkdownHeadingCollapsed": true,
    "tags": []
   },
   "source": [
    "##### [재도전 - 실패]"
   ]
  },
  {
   "cell_type": "code",
   "execution_count": 30,
   "id": "f6db7d56-97f7-49fe-8c84-cfd8c7b58db4",
   "metadata": {},
   "outputs": [],
   "source": [
    "# 테스트 케이스 다수 실패\n",
    "\n",
    "\n",
    "def solution(ps, l):\n",
    "    \n",
    "    answer = [l, ps[l]]\n",
    "    stack = [[0, ps[0]]]\n",
    "    idx = 0\n",
    "    cnt = 1\n",
    "    while True:\n",
    "        x, y = stack.pop()\n",
    "        \n",
    "        if ps[idx+1:] == []:\n",
    "            return cnt\n",
    "        if ps[idx] >= max(ps[idx+1:]):\n",
    "            if [x,y] == answer:\n",
    "                return cnt\n",
    "            idx += 1\n",
    "            cnt += 1\n",
    "            stack.append([idx, ps[idx]])\n",
    "        else:\n",
    "            ps = ps + [ps[idx]]\n",
    "            if idx == l:\n",
    "                answer = [len(ps)-1, ps[l]]\n",
    "            idx += 1\n",
    "            stack.append([idx, ps[idx]])"
   ]
  },
  {
   "cell_type": "code",
   "execution_count": 24,
   "id": "0244a79b-f3de-4b48-94a3-1bed4eb155d6",
   "metadata": {},
   "outputs": [],
   "source": [
    "ps = [2, 1, 3, 2]\n",
    "l = 2"
   ]
  },
  {
   "cell_type": "code",
   "execution_count": 26,
   "id": "4f73dae5-241c-483f-88cf-8da7ceb04ab1",
   "metadata": {},
   "outputs": [],
   "source": [
    "ps = [1, 1, 9, 1, 1, 1]\n",
    "l = 0"
   ]
  },
  {
   "cell_type": "code",
   "execution_count": 27,
   "id": "fe916344-4ebf-43e1-b065-c6274b031032",
   "metadata": {},
   "outputs": [
    {
     "data": {
      "text/plain": [
       "5"
      ]
     },
     "execution_count": 27,
     "metadata": {},
     "output_type": "execute_result"
    }
   ],
   "source": [
    "solution(ps, l)"
   ]
  },
  {
   "cell_type": "code",
   "execution_count": 35,
   "id": "813cf20e-220a-43c5-b82a-fd5286613160",
   "metadata": {},
   "outputs": [
    {
     "data": {
      "text/plain": [
       "4"
      ]
     },
     "execution_count": 35,
     "metadata": {},
     "output_type": "execute_result"
    }
   ],
   "source": [
    "solution([4,3,1,5], 2)"
   ]
  },
  {
   "cell_type": "code",
   "execution_count": 38,
   "id": "9ee58bce-aa14-4afe-ba70-b08c2a86af5d",
   "metadata": {},
   "outputs": [],
   "source": [
    "def solution(ps, l):\n",
    "    \n",
    "    cnt = ps.count(ps[l])\n",
    "    l_cnt = ps[:l+1].count(ps[l])\n",
    "    r_cnt = cnt - l_cnt\n",
    "    sorted_ps = sorted(ps, reverse=True)\n",
    "    \n",
    "    if cnt == 1:\n",
    "        return sorted_ps.index(ps[l])+1\n",
    "    else:\n",
    "        "
   ]
  },
  {
   "cell_type": "code",
   "execution_count": 39,
   "id": "e969b53e-5a02-4898-9081-d091d04a017f",
   "metadata": {},
   "outputs": [
    {
     "data": {
      "text/plain": [
       "1"
      ]
     },
     "execution_count": 39,
     "metadata": {},
     "output_type": "execute_result"
    }
   ],
   "source": [
    "solution([2, 1, 3, 2], 2)"
   ]
  },
  {
   "cell_type": "markdown",
   "id": "84925a65-e5a5-4776-b249-2df046d3dd85",
   "metadata": {
    "jp-MarkdownHeadingCollapsed": true,
    "tags": []
   },
   "source": [
    "##### 재도전 - 성공\n",
    "\n",
    "- 시작 18:15\n",
    "- 끝 18:21\n",
    "- 검색해서 답을 본 후 며칠 후에 품"
   ]
  },
  {
   "cell_type": "code",
   "execution_count": 4,
   "id": "7de2f67c-26a2-4ac7-99fa-41f7ffb2710c",
   "metadata": {},
   "outputs": [
    {
     "data": {
      "text/plain": [
       "[1, 2]"
      ]
     },
     "execution_count": 4,
     "metadata": {},
     "output_type": "execute_result"
    }
   ],
   "source": [
    "test = [[1,2],[3,4]]\n",
    "test.pop(0)"
   ]
  },
  {
   "cell_type": "code",
   "execution_count": 6,
   "id": "1e334107-efb2-4060-8d46-5d8f35904c7e",
   "metadata": {},
   "outputs": [],
   "source": [
    "def solution(ps, l):\n",
    "    array = [[v,i] for i,v in enumerate(ps)] # [값, 인덱스] 로 list안의 list \n",
    "    cnt = 0\n",
    "    while True:\n",
    "        item = array.pop(0)\n",
    "        \n",
    "        if not array:\n",
    "            cnt += 1\n",
    "            break\n",
    "        elif item[0] >= max(array)[0]:\n",
    "            cnt += 1\n",
    "            if item[1] == l:\n",
    "                break\n",
    "        else:\n",
    "            array.append(item)\n",
    "            \n",
    "    return cnt"
   ]
  },
  {
   "cell_type": "code",
   "execution_count": 7,
   "id": "a2000fa1-cd73-4a57-bf37-d20d78702ee6",
   "metadata": {},
   "outputs": [
    {
     "data": {
      "text/plain": [
       "4"
      ]
     },
     "execution_count": 7,
     "metadata": {},
     "output_type": "execute_result"
    }
   ],
   "source": [
    "solution([4,3,1,5], 2)"
   ]
  },
  {
   "cell_type": "code",
   "execution_count": 8,
   "id": "5e58f562-537f-4670-bdc4-1de7385736b7",
   "metadata": {},
   "outputs": [
    {
     "data": {
      "text/plain": [
       "1"
      ]
     },
     "execution_count": 8,
     "metadata": {},
     "output_type": "execute_result"
    }
   ],
   "source": [
    "solution([2, 1, 3, 2], 2)"
   ]
  },
  {
   "cell_type": "code",
   "execution_count": 9,
   "id": "29bb471e-2811-42ec-b263-b61ec507766b",
   "metadata": {},
   "outputs": [],
   "source": [
    "# 모범답안\n",
    "# any ?? 처음본다\n",
    "\n",
    "def solution(priorities, location):\n",
    "    queue =  [(i,p) for i,p in enumerate(priorities)]\n",
    "    answer = 0\n",
    "    while True:\n",
    "        cur = queue.pop(0)\n",
    "        if any(cur[1] < q[1] for q in queue):\n",
    "            queue.append(cur)\n",
    "        else:\n",
    "            answer += 1\n",
    "            if cur[0] == location:\n",
    "                return answer"
   ]
  },
  {
   "cell_type": "markdown",
   "id": "354353fb-1ee5-48fd-a225-9562e7ed3b33",
   "metadata": {
    "jp-MarkdownHeadingCollapsed": true,
    "tags": []
   },
   "source": [
    "#### 5. 다리를 지나는 트럭\n",
    "\n",
    "- level 2\n",
    "- 시작 19:22\n",
    "- 끝 20:23\n",
    "- 1차 실패\n",
    "    - 테스트 5번. 실패(시간초과)\n",
    "- 성공 21:04\n",
    "    - 질문하기에서 힌트(sum()은 O(n)이 걸리기 때문에 지양해야 함)를 보고 품\n",
    "- 핵심\n",
    "    - 시간복잡도 해결\n",
    "    - O(n)이 걸리는 메서드 사용x"
   ]
  },
  {
   "cell_type": "markdown",
   "id": "3b58d839-8c77-450c-b17b-7719725b6e3a",
   "metadata": {
    "jp-MarkdownHeadingCollapsed": true,
    "tags": []
   },
   "source": [
    "##### [실패]"
   ]
  },
  {
   "cell_type": "code",
   "execution_count": null,
   "id": "ce79f57d-ef69-4d6e-ba8a-e28a8af6a9aa",
   "metadata": {},
   "outputs": [],
   "source": [
    "def solution(bridge_length, weight, truck_weights):\n",
    "    \n",
    "    answer = 0\n",
    "    return answer"
   ]
  },
  {
   "cell_type": "code",
   "execution_count": 27,
   "id": "d59751e8-c583-44ca-96d7-9a4f6b6bc0a0",
   "metadata": {},
   "outputs": [],
   "source": [
    "def solution(b_len, weight, t_weights):\n",
    "    \n",
    "    time = 0\n",
    "    array = []\n",
    "    if b_len == 1:\n",
    "        return b_len+len(t_weights)\n",
    "    while t_weights:\n",
    "        if not array or sum(array[-b_len+1:])+t_weights[0] <= weight:\n",
    "            array.append(t_weights[0])\n",
    "            t_weights.pop(0)\n",
    "        else:\n",
    "            array.append(0)\n",
    "        time += 1\n",
    "        print(time, array)\n",
    "\n",
    "    return time+b_len"
   ]
  },
  {
   "cell_type": "code",
   "execution_count": 32,
   "id": "2fa99afc-ad84-4cc7-987d-c479e5532a65",
   "metadata": {},
   "outputs": [],
   "source": [
    "b_len = 2\n",
    "weight = 10\n",
    "t_weights = [7,4,5,6]"
   ]
  },
  {
   "cell_type": "code",
   "execution_count": 29,
   "id": "932edde5-0827-438d-9750-e50b0aee6648",
   "metadata": {},
   "outputs": [
    {
     "name": "stdout",
     "output_type": "stream",
     "text": [
      "1 [7]\n",
      "2 [7, 0]\n",
      "3 [7, 0, 4]\n",
      "4 [7, 0, 4, 5]\n",
      "5 [7, 0, 4, 5, 0]\n",
      "6 [7, 0, 4, 5, 0, 6]\n"
     ]
    },
    {
     "data": {
      "text/plain": [
       "8"
      ]
     },
     "execution_count": 29,
     "metadata": {},
     "output_type": "execute_result"
    }
   ],
   "source": [
    "solution(b_len, weight, t_weights)"
   ]
  },
  {
   "cell_type": "code",
   "execution_count": 33,
   "id": "1a866cf6-df92-4a4f-bf49-aff416e6fcde",
   "metadata": {},
   "outputs": [],
   "source": [
    "from collections import deque\n",
    "\n",
    "def solution(b_len, weight, t_weights):\n",
    "    \n",
    "    t_weights = deque(t_weights)\n",
    "    time = 0\n",
    "    array = []\n",
    "    if b_len == 1:\n",
    "        return b_len+len(t_weights)\n",
    "    \n",
    "    while t_weights:\n",
    "        if not array or sum(array[-b_len+1:])+t_weights[0] <= weight:\n",
    "            array.append(t_weights[0])\n",
    "            t_weights.popleft()\n",
    "        else:\n",
    "            array.append(0)\n",
    "        time += 1\n",
    "\n",
    "    return time+b_len"
   ]
  },
  {
   "cell_type": "code",
   "execution_count": 34,
   "id": "3c483d81-5307-4d8c-be65-84ac0ba886db",
   "metadata": {},
   "outputs": [
    {
     "data": {
      "text/plain": [
       "8"
      ]
     },
     "execution_count": 34,
     "metadata": {},
     "output_type": "execute_result"
    }
   ],
   "source": [
    "solution(b_len, weight, t_weights)"
   ]
  },
  {
   "cell_type": "markdown",
   "id": "76d2c507-fd2d-46b4-b8d4-c8358c1811b2",
   "metadata": {
    "jp-MarkdownHeadingCollapsed": true,
    "tags": []
   },
   "source": [
    "##### [성공]"
   ]
  },
  {
   "cell_type": "code",
   "execution_count": 56,
   "id": "0f5df368-647d-4df2-808d-19d87ae134a4",
   "metadata": {},
   "outputs": [],
   "source": [
    "from collections import deque\n",
    "\n",
    "def solution(b_len, weight, t_weights):\n",
    "    \n",
    "    if b_len == 1:\n",
    "        return b_len+len(t_weights)\n",
    "    \n",
    "    t_weights = deque(t_weights)\n",
    "    array = deque()\n",
    "    time = 0\n",
    "    summ = 0\n",
    "    n = 0\n",
    "    \n",
    "    while t_weights:\n",
    "        if n >= b_len:\n",
    "            summ = summ - array.popleft()\n",
    "            n -= 1\n",
    "        \n",
    "        if not array or summ+t_weights[0] <= weight:\n",
    "            summ += t_weights[0]\n",
    "            array.append(t_weights[0])\n",
    "            t_weights.popleft()\n",
    "        else:\n",
    "            array.append(0)\n",
    "        \n",
    "        time += 1\n",
    "        n += 1\n",
    "        \n",
    "        print(time, t_weights, array, n)\n",
    "\n",
    "    return time+b_len"
   ]
  },
  {
   "cell_type": "code",
   "execution_count": 57,
   "id": "a08ef54d-b2e1-4563-aad6-e06d015446e4",
   "metadata": {},
   "outputs": [],
   "source": [
    "b_len = 2\n",
    "weight = 10\n",
    "t_weights = [7,4,5,6]"
   ]
  },
  {
   "cell_type": "code",
   "execution_count": 58,
   "id": "d1d5571c-279b-4699-920f-596da51d2333",
   "metadata": {},
   "outputs": [
    {
     "name": "stdout",
     "output_type": "stream",
     "text": [
      "1 deque([4, 5, 6]) deque([7]) 1\n",
      "2 deque([4, 5, 6]) deque([7, 0]) 2\n",
      "3 deque([5, 6]) deque([0, 4]) 2\n",
      "4 deque([6]) deque([4, 5]) 2\n",
      "5 deque([6]) deque([5, 0]) 2\n",
      "6 deque([]) deque([0, 6]) 2\n"
     ]
    },
    {
     "data": {
      "text/plain": [
       "8"
      ]
     },
     "execution_count": 58,
     "metadata": {},
     "output_type": "execute_result"
    }
   ],
   "source": [
    "solution(b_len, weight, t_weights)"
   ]
  },
  {
   "cell_type": "markdown",
   "id": "71903a5f-762b-4346-a66a-acadcffec380",
   "metadata": {
    "jp-MarkdownHeadingCollapsed": true,
    "tags": []
   },
   "source": [
    "#### 6. 주식 가격\n",
    "\n",
    "- level 2\n",
    "- 시작 21:07\n",
    "- 끝 22:29\n",
    "- 실패\n",
    "    - O(n^2) 넘으면 안될 것 같아서 어떻게 하면 될까 생각하다가 실패\n",
    "    - 질문하기 및 검색을 해서보니 신경 안써줘도 될 것 같음.\n",
    "    - 다음부터는 그냥 시간복잡도 고려를 덜 하더라도 일단은 풀어보자."
   ]
  },
  {
   "cell_type": "code",
   "execution_count": null,
   "id": "a8b01a85-9a71-4a9c-a40d-344aa4b2c003",
   "metadata": {},
   "outputs": [],
   "source": [
    "def solution(prices):\n",
    "    up = []\n",
    "    down = []\n",
    "    stack = []\n",
    "    \n",
    "    for i in range(len(prices)):\n",
    "        stack.append(prices[i])\n",
    "        if prices[i] > prices[i+1]:\n",
    "            down.append(i)    \n",
    "        up.append(i)\n",
    "    \n",
    "    answer = []\n",
    "    return answer"
   ]
  },
  {
   "cell_type": "code",
   "execution_count": 1,
   "id": "bdddcf1c-e755-45c3-b928-586c1381e18d",
   "metadata": {},
   "outputs": [],
   "source": [
    "def solution(prices):\n",
    "    \n",
    "    answer = []\n",
    "    len_p = len(prices)\n",
    "    for i in range(len_p-1):\n",
    "        cnt = 0\n",
    "        for j in range(i+1, len_p):\n",
    "            cnt += 1\n",
    "            if prices[i] > prices[j]:\n",
    "                break\n",
    "        answer.append(cnt)\n",
    "    answer.append(0)\n",
    "\n",
    "    return answer"
   ]
  },
  {
   "cell_type": "code",
   "execution_count": 2,
   "id": "bdfc5662-5a45-4d8d-a24d-db417f8d1a5f",
   "metadata": {},
   "outputs": [],
   "source": [
    "prices = [1,2,3,2,3]"
   ]
  },
  {
   "cell_type": "code",
   "execution_count": 3,
   "id": "e78b52c6-467b-4a85-a403-317da05416b5",
   "metadata": {},
   "outputs": [
    {
     "data": {
      "text/plain": [
       "[4, 3, 1, 1, 0]"
      ]
     },
     "execution_count": 3,
     "metadata": {},
     "output_type": "execute_result"
    }
   ],
   "source": [
    "solution(prices)"
   ]
  },
  {
   "cell_type": "code",
   "execution_count": null,
   "id": "409b4a84-f8b5-45c1-a0e5-80474b49f1f9",
   "metadata": {},
   "outputs": [],
   "source": [
    "# 모범답안\n",
    "\n",
    "def solution(prices):\n",
    "    stack = []\n",
    "    answer = [0] * len(prices)\n",
    "    for i in range(len(prices)):\n",
    "        if stack != []:\n",
    "            while stack != [] and stack[-1][1] > prices[i]:\n",
    "                past, _ = stack.pop()\n",
    "                answer[past] = i - past\n",
    "        stack.append([i, prices[i]])\n",
    "    for i, s in stack:\n",
    "        answer[i] = len(prices) - 1 - i\n",
    "    return answer"
   ]
  }
 ],
 "metadata": {
  "kernelspec": {
   "display_name": "Python 3 (ipykernel)",
   "language": "python",
   "name": "python3"
  },
  "language_info": {
   "codemirror_mode": {
    "name": "ipython",
    "version": 3
   },
   "file_extension": ".py",
   "mimetype": "text/x-python",
   "name": "python",
   "nbconvert_exporter": "python",
   "pygments_lexer": "ipython3",
   "version": "3.8.13"
  }
 },
 "nbformat": 4,
 "nbformat_minor": 5
}
