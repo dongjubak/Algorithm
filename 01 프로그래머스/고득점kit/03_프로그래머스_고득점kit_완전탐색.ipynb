{
 "cells": [
  {
   "cell_type": "markdown",
   "id": "34b711e5-5a56-47b9-b8f9-b3d703a4ed94",
   "metadata": {
    "tags": []
   },
   "source": [
    "## 완전탐색"
   ]
  },
  {
   "cell_type": "markdown",
   "id": "c8a704ff-07bc-4dda-acdc-e367b38b4c96",
   "metadata": {
    "jp-MarkdownHeadingCollapsed": true,
    "tags": []
   },
   "source": [
    "#### 1. 최소직사각형\n",
    "\n",
    "- level 1\n",
    "- 시작 20:32\n",
    "- 끝 20:51\n",
    "- 핵심\n",
    "    - 없음. 쉬움.\n",
    "    - 풀이는 숫자카드(트럼프카드?) 정리하듯이 긴 부분을 눞여서 통일하듯이,\n",
    "    - 더 큰 부분을 가로로 두게끔 만들어서 max(가로) * max(세로)로 함"
   ]
  },
  {
   "cell_type": "code",
   "execution_count": null,
   "id": "4457af52-a944-4881-9378-9b39761894ff",
   "metadata": {},
   "outputs": [],
   "source": [
    "def solution(sizes):\n",
    "    a = list(map(lambda x: x[0], sizes))\n",
    "    b = list(map(lambda x: x[1], sizes))\n",
    "    \n",
    "    return answer"
   ]
  },
  {
   "cell_type": "code",
   "execution_count": 1,
   "id": "e818942d-d8ac-4ad4-9dcc-9c962232fa06",
   "metadata": {},
   "outputs": [],
   "source": [
    "def solution(sizes):\n",
    "    large = []\n",
    "    small = []\n",
    "    \n",
    "    for i,j in sizes:\n",
    "        if i >= j:\n",
    "            large.append(i)\n",
    "            small.append(j)\n",
    "        else:\n",
    "            large.append(j)\n",
    "            small.append(i)\n",
    "    \n",
    "    answer = max(large) * max(small)    \n",
    "    return answer"
   ]
  },
  {
   "cell_type": "code",
   "execution_count": 6,
   "id": "48696d40-5a22-49fb-9f74-be82fccd0de1",
   "metadata": {},
   "outputs": [],
   "source": [
    "#sizes = [[60, 50], [30, 70], [60, 30], [80, 40]]\n",
    "#sizes = [[10, 7], [12, 3], [8, 15], [14, 7], [5, 15]]\n",
    "sizes = [[14, 4], [19, 6], [6, 16], [18, 7], [7, 11]]"
   ]
  },
  {
   "cell_type": "code",
   "execution_count": 7,
   "id": "317e41fd-953f-4f59-9f3f-b9ed7fd3346f",
   "metadata": {},
   "outputs": [
    {
     "data": {
      "text/plain": [
       "133"
      ]
     },
     "execution_count": 7,
     "metadata": {},
     "output_type": "execute_result"
    }
   ],
   "source": [
    "solution(sizes)"
   ]
  },
  {
   "cell_type": "code",
   "execution_count": null,
   "id": "9d8c6fef-5b36-4c18-b79f-8939093138e7",
   "metadata": {},
   "outputs": [],
   "source": [
    "# 모범답안\n",
    "\n",
    "solution = lambda sizes: max(sum(sizes, [])) * max(min(size) for size in sizes)"
   ]
  },
  {
   "cell_type": "markdown",
   "id": "019ee56e-49ef-422d-8b87-8ab4be103084",
   "metadata": {
    "jp-MarkdownHeadingCollapsed": true,
    "tags": []
   },
   "source": [
    "#### 2. 모의고사\n",
    "\n",
    "- level 1\n",
    "- 시작 21:28\n",
    "- 끝 22:02"
   ]
  },
  {
   "cell_type": "code",
   "execution_count": 13,
   "id": "934eaddb-da02-4374-b06c-523aeb4b3e64",
   "metadata": {},
   "outputs": [],
   "source": [
    "def solution(answers):\n",
    "\n",
    "    a,b,c, = [],[],[]\n",
    "    for_b = [1,3,4,5]\n",
    "    for_c = [3,3,1,1,2,2,4,4,5,5]\n",
    "    \n",
    "    for i in range(len(answers)):\n",
    "        a.append(i%5+1)\n",
    "        b.append(2 if i % 2 == 0 else for_b[i//2%4])\n",
    "        c.append(for_c[i%10])\n",
    "        \n",
    "    print(a)\n",
    "    print(b)\n",
    "    print(c)\n",
    "    \n",
    "    return answer"
   ]
  },
  {
   "cell_type": "code",
   "execution_count": 20,
   "id": "5752cb36-22ae-4f8a-9963-d22620c43c79",
   "metadata": {},
   "outputs": [],
   "source": [
    "def solution(answers):\n",
    "\n",
    "    a,b,c, = 0,0,0\n",
    "    for_b = [1,3,4,5]\n",
    "    for_c = [3,3,1,1,2,2,4,4,5,5]\n",
    "    \n",
    "    for i,value in enumerate(answers):\n",
    "        if i%5+1 == value:\n",
    "            a += 1\n",
    "        if (2 if i % 2 == 0 else for_b[i//2%4]) == value:\n",
    "            b += 1\n",
    "        if for_c[i%10] == value:\n",
    "            c += 1\n",
    "    \n",
    "    answer = [a,b,c]\n",
    "    result_cnt = answer.count(max(answer))\n",
    "    \n",
    "    if result_cnt == 1:\n",
    "        return [answer.index(max(answer))+1]\n",
    "    elif result_cnt == 2:\n",
    "        result = [1,2,3]\n",
    "        result.pop(answer.index(min(answer)))\n",
    "        return result\n",
    "    else:\n",
    "        return [1,2,3]"
   ]
  },
  {
   "cell_type": "code",
   "execution_count": 21,
   "id": "1b4b09d6-50d6-4c33-ae45-af8640637767",
   "metadata": {},
   "outputs": [],
   "source": [
    "answers = [1,2,3,4,5,6,7,8,9,10]"
   ]
  },
  {
   "cell_type": "code",
   "execution_count": 22,
   "id": "57a0197e-29aa-4c66-adc6-61730275ad0a",
   "metadata": {},
   "outputs": [
    {
     "data": {
      "text/plain": [
       "[1]"
      ]
     },
     "execution_count": 22,
     "metadata": {},
     "output_type": "execute_result"
    }
   ],
   "source": [
    "solution(answers)"
   ]
  },
  {
   "cell_type": "code",
   "execution_count": 24,
   "id": "f1da0a72-03bb-482a-8cc2-49bcaec10f4f",
   "metadata": {},
   "outputs": [],
   "source": [
    "def solution(answers):\n",
    "\n",
    "    score = [0,0,0]\n",
    "    for_b = [1,3,4,5]\n",
    "    for_c = [3,3,1,1,2,2,4,4,5,5]\n",
    "    \n",
    "    for i,value in enumerate(answers):\n",
    "        if i%5+1 == value:\n",
    "            score[0] += 1\n",
    "        if (2 if i % 2 == 0 else for_b[i//2%4]) == value:\n",
    "            score[1] += 1\n",
    "        if for_c[i%10] == value:\n",
    "            score[2] += 1\n",
    "    \n",
    "    answer = []\n",
    "    \n",
    "    for i,s in enumerate(score):\n",
    "        if s == max(score):\n",
    "            answer.append(i+1)\n",
    "            \n",
    "    return answer"
   ]
  },
  {
   "cell_type": "markdown",
   "id": "72846884-ecd6-4f97-9835-afd905d2dcdf",
   "metadata": {
    "jp-MarkdownHeadingCollapsed": true,
    "tags": []
   },
   "source": [
    "#### 3. 소수 찾기\n",
    "\n",
    "- level 2\n",
    "- 시작 22:22\n",
    "- 끝 23:23\n",
    "- 핵심\n",
    "    - 소수array 잘 만들기\n",
    "    - 에라토스테네스의 체?\n",
    "    - 순열 사용하기"
   ]
  },
  {
   "cell_type": "code",
   "execution_count": 42,
   "id": "0bebb626-8d6c-4635-a89d-ccbbe0d3e224",
   "metadata": {},
   "outputs": [],
   "source": [
    "# 정답\n",
    "\n",
    "from itertools import permutations\n",
    "\n",
    "def solution(numbers):\n",
    "    \n",
    "    len_num = 10**len(numbers)\n",
    "    sosu = [1] * len_num\n",
    "    sosu[0] = 0\n",
    "    sosu[1] = 0\n",
    "    \n",
    "    for i in range(2,int(len_num**(1/2))+1):\n",
    "        for j in range(i*2, len_num, i):\n",
    "            if sosu[j] == 1:\n",
    "                sosu[j] = 0\n",
    "            else:\n",
    "                continue\n",
    "    \n",
    "    answer = []\n",
    "    for i in range(1,len(numbers)+1):\n",
    "        answer.extend([''.join(x) for x in list(permutations(numbers, i))])\n",
    "    answer = list(set(map(int, answer)))\n",
    "    \n",
    "    result = 0\n",
    "    for x in answer:\n",
    "        if sosu[x] == 1:\n",
    "            result += 1\n",
    "\n",
    "    return result"
   ]
  },
  {
   "cell_type": "code",
   "execution_count": 43,
   "id": "da8fed90-51d9-439f-b65e-1450b88660d9",
   "metadata": {},
   "outputs": [],
   "source": [
    "numbers = '17'"
   ]
  },
  {
   "cell_type": "code",
   "execution_count": 45,
   "id": "dc7b65ce-e843-4e24-96f3-500a1c25d241",
   "metadata": {},
   "outputs": [],
   "source": [
    "numbers = '011'"
   ]
  },
  {
   "cell_type": "code",
   "execution_count": 46,
   "id": "94a4f607-3bd8-4438-a295-8929031c41d0",
   "metadata": {},
   "outputs": [
    {
     "data": {
      "text/plain": [
       "2"
      ]
     },
     "execution_count": 46,
     "metadata": {},
     "output_type": "execute_result"
    }
   ],
   "source": [
    "solution(numbers)"
   ]
  },
  {
   "cell_type": "code",
   "execution_count": 6,
   "id": "be3005de-5cc0-4302-8dd3-d9b75ccdb296",
   "metadata": {},
   "outputs": [
    {
     "data": {
      "text/plain": [
       "[('1', '0'), ('0', '1'), ('1', '1')]"
      ]
     },
     "execution_count": 6,
     "metadata": {},
     "output_type": "execute_result"
    }
   ],
   "source": [
    "from itertools import permutations\n",
    "\n",
    "list(set(permutations('011',2)))"
   ]
  },
  {
   "cell_type": "code",
   "execution_count": 5,
   "id": "73f86fff-c862-4ff2-8962-c3a65875f777",
   "metadata": {},
   "outputs": [
    {
     "data": {
      "text/plain": [
       "[('0', '1', '1'),\n",
       " ('0', '1', '1'),\n",
       " ('1', '0', '1'),\n",
       " ('1', '1', '0'),\n",
       " ('1', '0', '1'),\n",
       " ('1', '1', '0')]"
      ]
     },
     "execution_count": 5,
     "metadata": {},
     "output_type": "execute_result"
    }
   ],
   "source": [
    "list(permutations('011',3))"
   ]
  },
  {
   "cell_type": "code",
   "execution_count": 40,
   "id": "36581d85-d7d2-4ca5-be1a-3cd1cf412aa6",
   "metadata": {},
   "outputs": [
    {
     "data": {
      "text/plain": [
       "[11, 101, 110]"
      ]
     },
     "execution_count": 40,
     "metadata": {},
     "output_type": "execute_result"
    }
   ],
   "source": [
    "list(map(int,[''.join(x) for x in list(set(permutations('011',3)))]))"
   ]
  },
  {
   "cell_type": "code",
   "execution_count": 13,
   "id": "2980c184-65df-4636-97ff-95e5a2f7002e",
   "metadata": {},
   "outputs": [
    {
     "data": {
      "text/plain": [
       "[('7', '1'), ('1', '7')]"
      ]
     },
     "execution_count": 13,
     "metadata": {},
     "output_type": "execute_result"
    }
   ],
   "source": [
    "list(set(permutations('17',2)))"
   ]
  },
  {
   "cell_type": "code",
   "execution_count": 19,
   "id": "0bbd3989-def5-49c0-96dd-5f70e6af9371",
   "metadata": {},
   "outputs": [
    {
     "data": {
      "text/plain": [
       "[(1, 5), (3, 1), (5, 1), (5, 3), (1, 3), (3, 5)]"
      ]
     },
     "execution_count": 19,
     "metadata": {},
     "output_type": "execute_result"
    }
   ],
   "source": [
    "list(set(permutations([1,3,5],2)))"
   ]
  },
  {
   "cell_type": "code",
   "execution_count": 20,
   "id": "5b689e5c-3458-4af6-92d3-e0d0fa6530f4",
   "metadata": {},
   "outputs": [
    {
     "data": {
      "text/plain": [
       "['1', '7']"
      ]
     },
     "execution_count": 20,
     "metadata": {},
     "output_type": "execute_result"
    }
   ],
   "source": [
    "list('17')"
   ]
  },
  {
   "cell_type": "code",
   "execution_count": 34,
   "id": "10cc4828-6c1d-4bd3-be66-1d32583f9823",
   "metadata": {},
   "outputs": [
    {
     "data": {
      "text/plain": [
       "'17'"
      ]
     },
     "execution_count": 34,
     "metadata": {},
     "output_type": "execute_result"
    }
   ],
   "source": [
    "''.join(list('17'))"
   ]
  },
  {
   "cell_type": "code",
   "execution_count": 47,
   "id": "96e3d412-4c3b-4e63-9aeb-bcbcef5a8457",
   "metadata": {},
   "outputs": [],
   "source": [
    "# 모범답안\n",
    "\n",
    "from itertools import permutations\n",
    "def solution(n):\n",
    "    a = set()\n",
    "    for i in range(len(n)):\n",
    "        a |= set(map(int, map(\"\".join, permutations(list(n), i + 1))))\n",
    "    a -= set(range(0, 2))\n",
    "    for i in range(2, int(max(a) ** 0.5) + 1):\n",
    "        a -= set(range(i * 2, max(a) + 1, i))\n",
    "    return len(a)"
   ]
  },
  {
   "cell_type": "markdown",
   "id": "0850ca1e-f3e9-4b40-87bb-ab51d611557e",
   "metadata": {
    "tags": []
   },
   "source": [
    "#### 4. 카펫\n",
    "\n",
    "- level 2\n",
    "- 시작 22:11\n",
    "- 끝 22:26"
   ]
  },
  {
   "cell_type": "code",
   "execution_count": 16,
   "id": "94101b5d-05b3-49e8-ae58-6d066dc4a3a8",
   "metadata": {},
   "outputs": [],
   "source": [
    "def solution(brown, yellow):\n",
    "    \n",
    "    total = brown + yellow\n",
    "    \n",
    "    for i in range(2,total//2+1):\n",
    "        if total % i == 0:\n",
    "            width = total//i\n",
    "            height = i\n",
    "            if (width-2) * (height-2) == yellow:\n",
    "                return [width, height]"
   ]
  },
  {
   "cell_type": "code",
   "execution_count": 19,
   "id": "929ec35d-63c2-42c5-80d2-eeb509a57748",
   "metadata": {},
   "outputs": [],
   "source": [
    "brown, yellow = 8, 1"
   ]
  },
  {
   "cell_type": "code",
   "execution_count": 17,
   "id": "f42bb3cc-c89f-4991-b589-53d9c19d7007",
   "metadata": {},
   "outputs": [],
   "source": [
    "brown, yellow = 10, 2"
   ]
  },
  {
   "cell_type": "code",
   "execution_count": 21,
   "id": "71b8f363-3667-4d43-ad2d-e61aa2ea61c7",
   "metadata": {},
   "outputs": [],
   "source": [
    "brown, yellow = 24, 24"
   ]
  },
  {
   "cell_type": "code",
   "execution_count": 22,
   "id": "53d54328-48af-4996-80bc-41e65bf3765e",
   "metadata": {},
   "outputs": [
    {
     "data": {
      "text/plain": [
       "[8, 6]"
      ]
     },
     "execution_count": 22,
     "metadata": {},
     "output_type": "execute_result"
    }
   ],
   "source": [
    "solution(brown, yellow)"
   ]
  },
  {
   "cell_type": "markdown",
   "id": "a2fa597a-7bc2-4d7b-a562-782f2a967295",
   "metadata": {
    "tags": []
   },
   "source": [
    "#### 5. \n",
    "\n",
    "- level 2\n",
    "- 시작 2"
   ]
  },
  {
   "cell_type": "code",
   "execution_count": null,
   "id": "8c5ba938-62e4-473c-a23f-c2733fef233c",
   "metadata": {},
   "outputs": [],
   "source": []
  }
 ],
 "metadata": {
  "kernelspec": {
   "display_name": "Python 3 (ipykernel)",
   "language": "python",
   "name": "python3"
  },
  "language_info": {
   "codemirror_mode": {
    "name": "ipython",
    "version": 3
   },
   "file_extension": ".py",
   "mimetype": "text/x-python",
   "name": "python",
   "nbconvert_exporter": "python",
   "pygments_lexer": "ipython3",
   "version": "3.8.13"
  }
 },
 "nbformat": 4,
 "nbformat_minor": 5
}
