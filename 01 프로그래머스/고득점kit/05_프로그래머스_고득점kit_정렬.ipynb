{
 "cells": [
  {
   "cell_type": "markdown",
   "id": "e0a8b73e-e29c-47ad-9778-e2daab10ed07",
   "metadata": {
    "jp-MarkdownHeadingCollapsed": true,
    "tags": []
   },
   "source": [
    "### 1. K번째수\n",
    "\n",
    "- https://school.programmers.co.kr/learn/courses/30/lessons/42748\n",
    "- level 1\n",
    "- 2023.03.22.수\n",
    "- 시작 17:11\n",
    "- 끝 17:17\n",
    "- 핵심\n",
    "    - x. 쉬움"
   ]
  },
  {
   "cell_type": "code",
   "execution_count": 1,
   "id": "15b37dcf-d7c1-41a5-9ffa-2db203bd2c58",
   "metadata": {
    "tags": []
   },
   "outputs": [],
   "source": [
    "def solution(array, commands):\n",
    "    \n",
    "    answer = []\n",
    "    \n",
    "    for i,j,k in commands:\n",
    "        answer.append(sorted(array[i-1:j])[k-1])\n",
    "\n",
    "    return answer"
   ]
  },
  {
   "cell_type": "code",
   "execution_count": 3,
   "id": "523de4d8-6bea-4a27-845f-7afefc8f3fc2",
   "metadata": {
    "tags": []
   },
   "outputs": [
    {
     "data": {
      "text/plain": [
       "[5, 6, 3]"
      ]
     },
     "execution_count": 3,
     "metadata": {},
     "output_type": "execute_result"
    }
   ],
   "source": [
    "array = [1, 5, 2, 6, 3, 7, 4]\n",
    "commands = [[2, 5, 3], [4, 4, 1], [1, 7, 3]]\n",
    "# result = [5, 6, 3]\n",
    "\n",
    "solution(array, commands)"
   ]
  },
  {
   "cell_type": "markdown",
   "id": "428aabd4-c067-4648-8380-5d88975af6c6",
   "metadata": {
    "jp-MarkdownHeadingCollapsed": true,
    "tags": []
   },
   "source": [
    "### 2. 가장 큰 수\n",
    "\n",
    "- https://school.programmers.co.kr/learn/courses/30/lessons/42746\n",
    "- level 2\n",
    "- 2023.03.22.수\n",
    "- 시작 20:30\n",
    "- 끝 22:00\n",
    "- 실패 (타인코드 참고)"
   ]
  },
  {
   "cell_type": "code",
   "execution_count": 15,
   "id": "c5e7e92f-d2c9-481c-9598-61ad72c3f312",
   "metadata": {},
   "outputs": [
    {
     "data": {
      "text/plain": [
       "['9', '5', '34', '3', '30']"
      ]
     },
     "execution_count": 15,
     "metadata": {},
     "output_type": "execute_result"
    }
   ],
   "source": [
    "numbers = [3, 30, 34, 5, 9]\n",
    "numbers = list(map(lambda x: str(x), numbers))\n",
    "sorted(numbers, reverse=True, key=lambda y: sum(map(lambda x: int(x), y))/len(y))"
   ]
  },
  {
   "cell_type": "code",
   "execution_count": 60,
   "id": "42835832-ba7f-4442-858a-36e9aa36a6c4",
   "metadata": {
    "tags": []
   },
   "outputs": [
    {
     "data": {
      "text/plain": [
       "['9', '5', '34', '30', '3']"
      ]
     },
     "execution_count": 60,
     "metadata": {},
     "output_type": "execute_result"
    }
   ],
   "source": [
    "numbers = [3, 30, 34, 5, 9]\n",
    "numbers = list(map(lambda x: str(x), numbers))\n",
    "sorted(numbers, reverse=True, key=lambda y: list(map(lambda x: int(x), y)))"
   ]
  },
  {
   "cell_type": "code",
   "execution_count": 26,
   "id": "b53e578c-ceaf-4a93-bc4e-fac0f81dee5f",
   "metadata": {
    "tags": []
   },
   "outputs": [
    {
     "data": {
      "text/plain": [
       "[9, 5, 3, 34, 30]"
      ]
     },
     "execution_count": 26,
     "metadata": {},
     "output_type": "execute_result"
    }
   ],
   "source": [
    "numbers = [3, 30, 34, 5, 9]\n",
    "sorted(numbers, reverse = True, key = lambda x: (str(x)[:1], int(str(x)[:2])/len(str(x))**4, int(str(x)[:3])/len(str(x))**4))"
   ]
  },
  {
   "cell_type": "code",
   "execution_count": 41,
   "id": "e4891278-9ed7-40c0-be4e-2ae9093b5cfb",
   "metadata": {
    "tags": []
   },
   "outputs": [
    {
     "data": {
      "text/plain": [
       "[9, 99, 991, 919, 56, 5, 55, 54, 51, 34, 3, 30, 15, 151, 109, 1000, 0]"
      ]
     },
     "execution_count": 41,
     "metadata": {},
     "output_type": "execute_result"
    }
   ],
   "source": [
    "numbers = [3, 30, 34, 5, 15, 51, 56, 55, 9, 1000, 109, 54, 99, 0, 151, 919, 991]\n",
    "sorted(numbers, reverse = True, key = lambda x: (str(x)[:1], str(x)[:2][-1], str(x)[:3][-1]))"
   ]
  },
  {
   "cell_type": "code",
   "execution_count": 49,
   "id": "19385ad7-cbda-4e68-85ad-059f80c28543",
   "metadata": {
    "tags": []
   },
   "outputs": [],
   "source": [
    "### 실패.. 왜지?\n",
    "\n",
    "def solution(numbers):\n",
    "    \n",
    "    numbers = list(map(str, numbers))\n",
    "    numbers = sorted(numbers, reverse = True, key = lambda x: (x[:1], x[:2][-1], x[:3][-1]))\n",
    "    \n",
    "    answer = ''.join(numbers)\n",
    "\n",
    "    if answer[0] == '0':\n",
    "        return '0'\n",
    "    else:\n",
    "        return answer"
   ]
  },
  {
   "cell_type": "code",
   "execution_count": 50,
   "id": "cffe54b5-44f5-48d7-9a1f-9650ed1d0e45",
   "metadata": {
    "tags": []
   },
   "outputs": [
    {
     "data": {
      "text/plain": [
       "'9534330'"
      ]
     },
     "execution_count": 50,
     "metadata": {},
     "output_type": "execute_result"
    }
   ],
   "source": [
    "numbers = [3, 30, 34, 5, 9]\n",
    "\n",
    "solution(numbers)"
   ]
  },
  {
   "cell_type": "code",
   "execution_count": 58,
   "id": "856fe7dc-1e9f-41d5-84c6-d519d97bae6b",
   "metadata": {
    "tags": []
   },
   "outputs": [],
   "source": [
    "### 성공(타인 코드)\n",
    "\n",
    "def solution(numbers):\n",
    "    # 1. 모든 수를 문자열로 변환\n",
    "    numbers = list(map(str, numbers))\n",
    "\n",
    "    # 2. x+y와 y+x를 비교하여 정렬\n",
    "    numbers.sort(key=lambda x: (x * 4)[:4], reverse=True)\n",
    "    # 3. 정렬된 numbers를 이어붙인 뒤 반환\n",
    "    answer = ''.join(numbers)\n",
    "\n",
    "    # 0이 여러개일 경우, \"000\" 대신 \"0\"을 반환하도록 예외처리\n",
    "    if answer[0] == '0':\n",
    "        return '0'\n",
    "    else:\n",
    "        return answer"
   ]
  },
  {
   "cell_type": "code",
   "execution_count": 59,
   "id": "76c73bf6-a20f-40e6-b084-ddb5ab76fc3b",
   "metadata": {
    "tags": []
   },
   "outputs": [
    {
     "data": {
      "text/plain": [
       "'9534330'"
      ]
     },
     "execution_count": 59,
     "metadata": {},
     "output_type": "execute_result"
    }
   ],
   "source": [
    "numbers = [3, 30, 34, 5, 9]\n",
    "\n",
    "solution(numbers)"
   ]
  },
  {
   "cell_type": "markdown",
   "id": "05ce7f40-1253-4ede-8957-6431754080d1",
   "metadata": {
    "tags": []
   },
   "source": [
    "### 3. H-Index\n",
    "\n",
    "- https://school.programmers.co.kr/learn/courses/30/lessons/42747\n",
    "- level 2\n",
    "- 2023.03.24.금\n",
    "- 시작 22:45\n",
    "- 끝 23:35\n",
    "- 핵심\n",
    "    - 문제 제대로 해석하고 이해하기..\n",
    "    - [7000, 7000, 7000, 7000, 3] => 답 : 4"
   ]
  },
  {
   "cell_type": "code",
   "execution_count": 61,
   "id": "284e4fa0-7456-48bb-909e-a0aa9ee041d3",
   "metadata": {},
   "outputs": [],
   "source": [
    "def solution(citations):\n",
    "    \n",
    "    citations = sorted(citations, reverse=True)\n",
    "    \n",
    "    for idx,value in enumerate(citations):\n",
    "        if value <= idx:\n",
    "            return idx\n",
    "        \n",
    "    return len(citations)"
   ]
  },
  {
   "cell_type": "code",
   "execution_count": 62,
   "id": "5759b58e-4bb1-44fa-a7a9-2fbb736070fd",
   "metadata": {
    "tags": []
   },
   "outputs": [
    {
     "data": {
      "text/plain": [
       "5"
      ]
     },
     "execution_count": 62,
     "metadata": {},
     "output_type": "execute_result"
    }
   ],
   "source": [
    "citations = [3, 0, 6, 1, 5, 3, 3, 6, 6, 6]\n",
    "# result = 5\n",
    "\n",
    "solution(citations)"
   ]
  },
  {
   "cell_type": "code",
   "execution_count": 63,
   "id": "422e7d22-4c18-4b8f-b399-0c986750b5c1",
   "metadata": {
    "tags": []
   },
   "outputs": [
    {
     "data": {
      "text/plain": [
       "3"
      ]
     },
     "execution_count": 63,
     "metadata": {},
     "output_type": "execute_result"
    }
   ],
   "source": [
    "citations = [3, 0, 6, 1, 5]\n",
    "# result = 3\n",
    "\n",
    "solution(citations)"
   ]
  },
  {
   "cell_type": "code",
   "execution_count": 64,
   "id": "36c1c283-c573-4775-a115-a48d63575c84",
   "metadata": {
    "tags": []
   },
   "outputs": [
    {
     "data": {
      "text/plain": [
       "4"
      ]
     },
     "execution_count": 64,
     "metadata": {},
     "output_type": "execute_result"
    }
   ],
   "source": [
    "citations = [6, 6, 6, 5, 3, 1, 0]\n",
    "# result = 4\n",
    "\n",
    "solution(citations)"
   ]
  },
  {
   "cell_type": "code",
   "execution_count": null,
   "id": "af9c4d1a-45d1-485d-9eb7-3e3be0757aac",
   "metadata": {},
   "outputs": [],
   "source": []
  }
 ],
 "metadata": {
  "kernelspec": {
   "display_name": "Python 3",
   "language": "python",
   "name": "python3"
  },
  "language_info": {
   "codemirror_mode": {
    "name": "ipython",
    "version": 3
   },
   "file_extension": ".py",
   "mimetype": "text/x-python",
   "name": "python",
   "nbconvert_exporter": "python",
   "pygments_lexer": "ipython3",
   "version": "3.8.16"
  }
 },
 "nbformat": 4,
 "nbformat_minor": 5
}
