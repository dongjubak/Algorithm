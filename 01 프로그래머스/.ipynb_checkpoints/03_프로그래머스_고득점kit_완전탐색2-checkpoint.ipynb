{
 "cells": [
  {
   "cell_type": "markdown",
   "metadata": {
    "jp-MarkdownHeadingCollapsed": true,
    "tags": []
   },
   "source": [
    "## 1. 피로도\n",
    "\n",
    "- https://school.programmers.co.kr/learn/courses/30/lessons/87946\n",
    "- level2\n",
    "- 시작 21:28\n",
    "- 끝 21:49\n",
    "- 핵심\n",
    "    - 완전탐색.\n",
    "    - 순열 사용.\n",
    "    "
   ]
  },
  {
   "cell_type": "code",
   "execution_count": null,
   "metadata": {},
   "outputs": [],
   "source": [
    "def solution(k, dungeons):\n",
    "    answer = -1\n",
    "    return answer"
   ]
  },
  {
   "cell_type": "code",
   "execution_count": 16,
   "metadata": {},
   "outputs": [],
   "source": [
    "k = 80\n",
    "dungeons = [[80,20],[50,40],[30,10]]\n",
    "result = 3"
   ]
  },
  {
   "cell_type": "code",
   "execution_count": 20,
   "metadata": {},
   "outputs": [
    {
     "data": {
      "text/plain": [
       "[([80, 20], [50, 40], [30, 10]),\n",
       " ([80, 20], [30, 10], [50, 40]),\n",
       " ([50, 40], [80, 20], [30, 10]),\n",
       " ([50, 40], [30, 10], [80, 20]),\n",
       " ([30, 10], [80, 20], [50, 40]),\n",
       " ([30, 10], [50, 40], [80, 20])]"
      ]
     },
     "execution_count": 20,
     "metadata": {},
     "output_type": "execute_result"
    }
   ],
   "source": [
    "from itertools import permutations\n",
    "\n",
    "list(permutations(dungeons))"
   ]
  },
  {
   "cell_type": "code",
   "execution_count": 35,
   "metadata": {},
   "outputs": [],
   "source": [
    "from itertools import permutations\n",
    "\n",
    "def solution(k, dgs):\n",
    "    \n",
    "    dgs = list(permutations(dgs))\n",
    "    final = 0\n",
    "    kk = k\n",
    "    \n",
    "    for dg in dgs:\n",
    "        answer = 0\n",
    "        k = kk\n",
    "        \n",
    "        for x in dg:\n",
    "            if k >= x[0]:\n",
    "                k = k - x[1]\n",
    "                answer += 1\n",
    "        \n",
    "        final = max(answer, final)\n",
    "    \n",
    "    return final"
   ]
  },
  {
   "cell_type": "code",
   "execution_count": 36,
   "metadata": {},
   "outputs": [
    {
     "data": {
      "text/plain": [
       "3"
      ]
     },
     "execution_count": 36,
     "metadata": {},
     "output_type": "execute_result"
    }
   ],
   "source": [
    "solution(k, dungeons)"
   ]
  },
  {
   "cell_type": "code",
   "execution_count": 37,
   "metadata": {},
   "outputs": [],
   "source": [
    "### 모범답안\n",
    "\n",
    "def solution(k, dungeons):\n",
    "    answer = 0\n",
    "    dungeons = sorted(dungeons, key = lambda x : ((x[1]+x[0])/x[0],x[1]))\n",
    "    for x,y in dungeons:\n",
    "        print(\"x :\", x, \"y : \", y)\n",
    "        if k >= x:\n",
    "            k -= y\n",
    "            answer += 1\n",
    "    return answer"
   ]
  },
  {
   "cell_type": "code",
   "execution_count": 38,
   "metadata": {},
   "outputs": [
    {
     "name": "stdout",
     "output_type": "stream",
     "text": [
      "x : 80 y :  20\n",
      "x : 30 y :  10\n",
      "x : 50 y :  40\n"
     ]
    },
    {
     "data": {
      "text/plain": [
       "3"
      ]
     },
     "execution_count": 38,
     "metadata": {},
     "output_type": "execute_result"
    }
   ],
   "source": [
    "solution(k, dungeons)"
   ]
  },
  {
   "cell_type": "markdown",
   "metadata": {
    "jp-MarkdownHeadingCollapsed": true,
    "tags": []
   },
   "source": [
    "## 2. 전력망을 둘로 나누기\n",
    "\n",
    "- https://school.programmers.co.kr/learn/courses/30/lessons/86971\n",
    "- level2\n",
    "- 2023.01.17.화\n",
    "- 시작 17:07\n",
    "- 끝 17:46\n",
    "- **실패**\n",
    "- 재도전 필요\n",
    "- 핵심\n",
    "    - 1) union find, 서로소 집합 알고리즘으로 풀 수 있음\n",
    "    - 2) 또는 dfs or bfs"
   ]
  },
  {
   "cell_type": "markdown",
   "metadata": {
    "jp-MarkdownHeadingCollapsed": true,
    "tags": []
   },
   "source": [
    "### [실패]"
   ]
  },
  {
   "cell_type": "code",
   "execution_count": 17,
   "metadata": {},
   "outputs": [],
   "source": [
    "n = 9\n",
    "wires = [[1,3],[2,3],[3,4],[4,5],[4,6],[4,7],[7,9],[7,8]]\n",
    "# result = 3"
   ]
  },
  {
   "cell_type": "code",
   "execution_count": 3,
   "metadata": {},
   "outputs": [],
   "source": [
    "### 실패\n",
    "\n",
    "def solution(n, wires):\n",
    "    \n",
    "    answer = 1e9\n",
    "    \n",
    "    if n == 2:\n",
    "        return 0\n",
    "    if n == 3:\n",
    "        return 1\n",
    "    for i in range(n-1):\n",
    "        array1 = []\n",
    "        array2 = []\n",
    "        \n",
    "        for idx,wire in enumerate(wires):\n",
    "            if idx == i:\n",
    "                continue\n",
    "            \n",
    "            if array1 == []:\n",
    "                array1.extend(wire)\n",
    "            elif wire[0] in array1 or wire[1] in array1:\n",
    "                array1.extend(wire)\n",
    "            else:\n",
    "                array2.extend(wire)\n",
    "                \n",
    "        array1 = list(set(array1))\n",
    "        array2 = list(set(array2))\n",
    "        answer = min(answer, abs(len(array1) - len(array2)))\n",
    "        \n",
    "    return answer"
   ]
  },
  {
   "cell_type": "code",
   "execution_count": 4,
   "metadata": {},
   "outputs": [
    {
     "data": {
      "text/plain": [
       "3"
      ]
     },
     "execution_count": 4,
     "metadata": {},
     "output_type": "execute_result"
    }
   ],
   "source": [
    "solution(n, wires)"
   ]
  },
  {
   "cell_type": "code",
   "execution_count": null,
   "metadata": {},
   "outputs": [],
   "source": [
    "def solution(n, wires):\n",
    "    \n",
    "    if n == 2:\n",
    "        return 0\n",
    "    if n == 3:\n",
    "        return 1\n",
    "    answer = 1e9\n",
    "\n",
    "    for i in range(n-1):\n",
    "        array1 = []\n",
    "        array2 = []\n",
    "        \n",
    "        for idx,wire in enumerate(wires):\n",
    "            if idx == i:\n",
    "                if i == 0:\n",
    "                    array1.append(wire[0])\n",
    "                    array2.append(wire[1])\n",
    "                else:\n",
    "                    if wire[0] in array1:\n",
    "                        array2.append(wire[1])\n",
    "                    else:\n",
    "                        array2.append(wire[0])\n",
    "            else:\n",
    "                if len(set(wire).intersection(set(array1))) >= 1:\n",
    "                    array1.extend(wire)\n",
    "                else:\n",
    "                    array2.extend(wire)\n",
    "                \n",
    "        array1 = list(set(array1))\n",
    "        array2 = list(set(array2))\n",
    "        answer = min(answer, abs(len(array1) - len(array2)))\n",
    "        \n",
    "    return answer"
   ]
  },
  {
   "cell_type": "code",
   "execution_count": 14,
   "metadata": {},
   "outputs": [
    {
     "data": {
      "text/plain": [
       "({1, 3}, {1, 2, 4})"
      ]
     },
     "execution_count": 14,
     "metadata": {},
     "output_type": "execute_result"
    }
   ],
   "source": [
    "a = set([1,3])\n",
    "b = set([1,2,4])\n",
    "\n",
    "a,b"
   ]
  },
  {
   "cell_type": "code",
   "execution_count": 15,
   "metadata": {},
   "outputs": [
    {
     "data": {
      "text/plain": [
       "1"
      ]
     },
     "execution_count": 15,
     "metadata": {},
     "output_type": "execute_result"
    }
   ],
   "source": [
    "len(a.intersection(b))"
   ]
  },
  {
   "cell_type": "code",
   "execution_count": 21,
   "metadata": {},
   "outputs": [],
   "source": [
    "def solution(n, wires):\n",
    "    \n",
    "    answer = 1e9\n",
    "    wires = sorted(wires, key=lambda x: x[0])\n",
    "    print(wires)\n",
    "    \n",
    "    for i in range(n-1):\n",
    "        array1 = []\n",
    "        array2 = []\n",
    "        \n",
    "        for idx,wire in enumerate(wires):\n",
    "            if idx == i:\n",
    "                if i == 0:\n",
    "                    array1.append(wire[0])\n",
    "                    array2.append(wire[1])\n",
    "                else:\n",
    "                    if wire[0] in array1:\n",
    "                        array2.append(wire[1])\n",
    "                    else:\n",
    "                        array2.append(wire[0])\n",
    "            else:\n",
    "                if not array1:\n",
    "                    array1.extend(wire)\n",
    "                elif wire[0] in array1 or wire[1] in array1:\n",
    "                    array1.extend(wire)\n",
    "                else:\n",
    "                    array2.extend(wire)\n",
    "        \n",
    "        answer = min(answer, abs(len(set(array1))-len(set(array2))))\n",
    "    \n",
    "    return answer"
   ]
  },
  {
   "cell_type": "code",
   "execution_count": 22,
   "metadata": {},
   "outputs": [
    {
     "name": "stdout",
     "output_type": "stream",
     "text": [
      "[[1, 2], [2, 7], [3, 7], [3, 4], [4, 5], [6, 7]]\n"
     ]
    },
    {
     "data": {
      "text/plain": [
       "1"
      ]
     },
     "execution_count": 22,
     "metadata": {},
     "output_type": "execute_result"
    }
   ],
   "source": [
    "solution(n, wires)"
   ]
  },
  {
   "cell_type": "markdown",
   "metadata": {
    "jp-MarkdownHeadingCollapsed": true,
    "tags": []
   },
   "source": [
    "### [타인 코드 분석]\n",
    "\n",
    "- 2023.02.01.수\n",
    "- 11:30 시작\n",
    "- 12:43 끝"
   ]
  },
  {
   "cell_type": "code",
   "execution_count": 23,
   "metadata": {},
   "outputs": [],
   "source": [
    "n = 7\n",
    "wires = [[1,2],[2,7],[3,7],[3,4],[4,5],[6,7]]\n",
    "# result = 1"
   ]
  },
  {
   "cell_type": "code",
   "execution_count": 51,
   "metadata": {},
   "outputs": [],
   "source": [
    "### 타인 코드.\n",
    "### 코드는 짧으나 속도는 느림\n",
    "\n",
    "def solution(n, wires):\n",
    "    ans = n\n",
    "    for sub in (wires[i+1:] + wires[:i] for i in range(len(wires))):\n",
    "        print(sub)\n",
    "        s = set(sub[0])\n",
    "        print(s)\n",
    "        [s.update(v) for _ in sub for v in sub if set(v) & s]\n",
    "        print(s)\n",
    "        ans = min(ans, abs(2 * len(s) - n))\n",
    "    return ans"
   ]
  },
  {
   "cell_type": "code",
   "execution_count": 52,
   "metadata": {},
   "outputs": [],
   "source": [
    "# 예상 print(sub) = [[2,7],[3,7],[3,4],[4,5],[6,7]], [[3,7],[3,4],[4,5],[6,7],[1,2]], ~~"
   ]
  },
  {
   "cell_type": "code",
   "execution_count": 53,
   "metadata": {},
   "outputs": [
    {
     "name": "stdout",
     "output_type": "stream",
     "text": [
      "[[2, 7], [3, 7], [3, 4], [4, 5], [6, 7]]\n",
      "{2, 7}\n",
      "{2, 3, 4, 5, 6, 7}\n",
      "[[3, 7], [3, 4], [4, 5], [6, 7], [1, 2]]\n",
      "{3, 7}\n",
      "{3, 4, 5, 6, 7}\n",
      "[[3, 4], [4, 5], [6, 7], [1, 2], [2, 7]]\n",
      "{3, 4}\n",
      "{3, 4, 5}\n",
      "[[4, 5], [6, 7], [1, 2], [2, 7], [3, 7]]\n",
      "{4, 5}\n",
      "{4, 5}\n",
      "[[6, 7], [1, 2], [2, 7], [3, 7], [3, 4]]\n",
      "{6, 7}\n",
      "{1, 2, 3, 4, 6, 7}\n",
      "[[1, 2], [2, 7], [3, 7], [3, 4], [4, 5]]\n",
      "{1, 2}\n",
      "{1, 2, 3, 4, 5, 7}\n"
     ]
    },
    {
     "data": {
      "text/plain": [
       "1"
      ]
     },
     "execution_count": 53,
     "metadata": {},
     "output_type": "execute_result"
    }
   ],
   "source": [
    "solution(n, wires)"
   ]
  },
  {
   "cell_type": "code",
   "execution_count": 64,
   "metadata": {
    "scrolled": true
   },
   "outputs": [
    {
     "name": "stdout",
     "output_type": "stream",
     "text": [
      "[[2, 7], [3, 7], [3, 4], [4, 5], [6, 7]]\n",
      "1 {2, 7}\n",
      "2 {2, 7}\n",
      "2 {2, 3, 7}\n",
      "2 {2, 3, 4, 7}\n",
      "2 {2, 3, 4, 5, 7}\n",
      "2 {2, 3, 4, 5, 6, 7}\n",
      "[[3, 7], [3, 4], [4, 5], [6, 7], [1, 2]]\n",
      "1 {3, 7}\n",
      "2 {3, 7}\n",
      "2 {3, 4, 7}\n",
      "2 {3, 4, 5, 7}\n",
      "2 {3, 4, 5, 6, 7}\n",
      "2 {3, 4, 5, 6, 7}\n",
      "[[3, 4], [4, 5], [6, 7], [1, 2], [2, 7]]\n",
      "1 {3, 4}\n",
      "2 {3, 4}\n",
      "2 {3, 4, 5}\n",
      "2 {3, 4, 5}\n",
      "2 {3, 4, 5}\n",
      "2 {3, 4, 5}\n",
      "[[4, 5], [6, 7], [1, 2], [2, 7], [3, 7]]\n",
      "1 {4, 5}\n",
      "2 {4, 5}\n",
      "2 {4, 5}\n",
      "2 {4, 5}\n",
      "2 {4, 5}\n",
      "2 {4, 5}\n",
      "[[6, 7], [1, 2], [2, 7], [3, 7], [3, 4]]\n",
      "1 {6, 7}\n",
      "2 {6, 7}\n",
      "2 {6, 7}\n",
      "2 {2, 6, 7}\n",
      "2 {2, 3, 6, 7}\n",
      "2 {2, 3, 4, 6, 7}\n",
      "[[1, 2], [2, 7], [3, 7], [3, 4], [4, 5]]\n",
      "1 {1, 2}\n",
      "2 {1, 2}\n",
      "2 {1, 2, 7}\n",
      "2 {1, 2, 3, 7}\n",
      "2 {1, 2, 3, 4, 7}\n",
      "2 {1, 2, 3, 4, 5, 7}\n"
     ]
    }
   ],
   "source": [
    "for sub in (wires[i+1:] + wires[:i] for i in range(len(wires))):\n",
    "        print(sub)\n",
    "        s = set(sub[0])\n",
    "        print(1, s)\n",
    "        for v in sub:\n",
    "            if set(v) & s:\n",
    "                s.update(v)\n",
    "            print(2, s)"
   ]
  },
  {
   "cell_type": "code",
   "execution_count": 67,
   "metadata": {
    "scrolled": true
   },
   "outputs": [
    {
     "name": "stdout",
     "output_type": "stream",
     "text": [
      "sub [[2, 7], [3, 7], [3, 4], [4, 5], [6, 7]]\n",
      "s {2, 7}\n",
      "updated s {2, 7}\n",
      "updated s {2, 3, 7}\n",
      "updated s {2, 3, 4, 7}\n",
      "updated s {2, 3, 4, 5, 7}\n",
      "updated s {2, 3, 4, 5, 6, 7}\n",
      "updated s {2, 3, 4, 5, 6, 7}\n",
      "updated s {2, 3, 4, 5, 6, 7}\n",
      "updated s {2, 3, 4, 5, 6, 7}\n",
      "updated s {2, 3, 4, 5, 6, 7}\n",
      "updated s {2, 3, 4, 5, 6, 7}\n",
      "updated s {2, 3, 4, 5, 6, 7}\n",
      "updated s {2, 3, 4, 5, 6, 7}\n",
      "updated s {2, 3, 4, 5, 6, 7}\n",
      "updated s {2, 3, 4, 5, 6, 7}\n",
      "updated s {2, 3, 4, 5, 6, 7}\n",
      "updated s {2, 3, 4, 5, 6, 7}\n",
      "updated s {2, 3, 4, 5, 6, 7}\n",
      "updated s {2, 3, 4, 5, 6, 7}\n",
      "updated s {2, 3, 4, 5, 6, 7}\n",
      "updated s {2, 3, 4, 5, 6, 7}\n",
      "updated s {2, 3, 4, 5, 6, 7}\n",
      "updated s {2, 3, 4, 5, 6, 7}\n",
      "updated s {2, 3, 4, 5, 6, 7}\n",
      "updated s {2, 3, 4, 5, 6, 7}\n",
      "updated s {2, 3, 4, 5, 6, 7}\n",
      "sub [[3, 7], [3, 4], [4, 5], [6, 7], [1, 2]]\n",
      "s {3, 7}\n",
      "updated s {3, 7}\n",
      "updated s {3, 4, 7}\n",
      "updated s {3, 4, 5, 7}\n",
      "updated s {3, 4, 5, 6, 7}\n",
      "updated s {3, 4, 5, 6, 7}\n",
      "updated s {3, 4, 5, 6, 7}\n",
      "updated s {3, 4, 5, 6, 7}\n",
      "updated s {3, 4, 5, 6, 7}\n",
      "updated s {3, 4, 5, 6, 7}\n",
      "updated s {3, 4, 5, 6, 7}\n",
      "updated s {3, 4, 5, 6, 7}\n",
      "updated s {3, 4, 5, 6, 7}\n",
      "updated s {3, 4, 5, 6, 7}\n",
      "updated s {3, 4, 5, 6, 7}\n",
      "updated s {3, 4, 5, 6, 7}\n",
      "updated s {3, 4, 5, 6, 7}\n",
      "updated s {3, 4, 5, 6, 7}\n",
      "updated s {3, 4, 5, 6, 7}\n",
      "updated s {3, 4, 5, 6, 7}\n",
      "updated s {3, 4, 5, 6, 7}\n",
      "updated s {3, 4, 5, 6, 7}\n",
      "updated s {3, 4, 5, 6, 7}\n",
      "updated s {3, 4, 5, 6, 7}\n",
      "updated s {3, 4, 5, 6, 7}\n",
      "updated s {3, 4, 5, 6, 7}\n",
      "sub [[3, 4], [4, 5], [6, 7], [1, 2], [2, 7]]\n",
      "s {3, 4}\n",
      "updated s {3, 4}\n",
      "updated s {3, 4, 5}\n",
      "updated s {3, 4, 5}\n",
      "updated s {3, 4, 5}\n",
      "updated s {3, 4, 5}\n",
      "updated s {3, 4, 5}\n",
      "updated s {3, 4, 5}\n",
      "updated s {3, 4, 5}\n",
      "updated s {3, 4, 5}\n",
      "updated s {3, 4, 5}\n",
      "updated s {3, 4, 5}\n",
      "updated s {3, 4, 5}\n",
      "updated s {3, 4, 5}\n",
      "updated s {3, 4, 5}\n",
      "updated s {3, 4, 5}\n",
      "updated s {3, 4, 5}\n",
      "updated s {3, 4, 5}\n",
      "updated s {3, 4, 5}\n",
      "updated s {3, 4, 5}\n",
      "updated s {3, 4, 5}\n",
      "updated s {3, 4, 5}\n",
      "updated s {3, 4, 5}\n",
      "updated s {3, 4, 5}\n",
      "updated s {3, 4, 5}\n",
      "updated s {3, 4, 5}\n",
      "sub [[4, 5], [6, 7], [1, 2], [2, 7], [3, 7]]\n",
      "s {4, 5}\n",
      "updated s {4, 5}\n",
      "updated s {4, 5}\n",
      "updated s {4, 5}\n",
      "updated s {4, 5}\n",
      "updated s {4, 5}\n",
      "updated s {4, 5}\n",
      "updated s {4, 5}\n",
      "updated s {4, 5}\n",
      "updated s {4, 5}\n",
      "updated s {4, 5}\n",
      "updated s {4, 5}\n",
      "updated s {4, 5}\n",
      "updated s {4, 5}\n",
      "updated s {4, 5}\n",
      "updated s {4, 5}\n",
      "updated s {4, 5}\n",
      "updated s {4, 5}\n",
      "updated s {4, 5}\n",
      "updated s {4, 5}\n",
      "updated s {4, 5}\n",
      "updated s {4, 5}\n",
      "updated s {4, 5}\n",
      "updated s {4, 5}\n",
      "updated s {4, 5}\n",
      "updated s {4, 5}\n",
      "sub [[6, 7], [1, 2], [2, 7], [3, 7], [3, 4]]\n",
      "s {6, 7}\n",
      "updated s {6, 7}\n",
      "updated s {6, 7}\n",
      "updated s {2, 6, 7}\n",
      "updated s {2, 3, 6, 7}\n",
      "updated s {2, 3, 4, 6, 7}\n",
      "updated s {2, 3, 4, 6, 7}\n",
      "updated s {1, 2, 3, 4, 6, 7}\n",
      "updated s {1, 2, 3, 4, 6, 7}\n",
      "updated s {1, 2, 3, 4, 6, 7}\n",
      "updated s {1, 2, 3, 4, 6, 7}\n",
      "updated s {1, 2, 3, 4, 6, 7}\n",
      "updated s {1, 2, 3, 4, 6, 7}\n",
      "updated s {1, 2, 3, 4, 6, 7}\n",
      "updated s {1, 2, 3, 4, 6, 7}\n",
      "updated s {1, 2, 3, 4, 6, 7}\n",
      "updated s {1, 2, 3, 4, 6, 7}\n",
      "updated s {1, 2, 3, 4, 6, 7}\n",
      "updated s {1, 2, 3, 4, 6, 7}\n",
      "updated s {1, 2, 3, 4, 6, 7}\n",
      "updated s {1, 2, 3, 4, 6, 7}\n",
      "updated s {1, 2, 3, 4, 6, 7}\n",
      "updated s {1, 2, 3, 4, 6, 7}\n",
      "updated s {1, 2, 3, 4, 6, 7}\n",
      "updated s {1, 2, 3, 4, 6, 7}\n",
      "updated s {1, 2, 3, 4, 6, 7}\n",
      "sub [[1, 2], [2, 7], [3, 7], [3, 4], [4, 5]]\n",
      "s {1, 2}\n",
      "updated s {1, 2}\n",
      "updated s {1, 2, 7}\n",
      "updated s {1, 2, 3, 7}\n",
      "updated s {1, 2, 3, 4, 7}\n",
      "updated s {1, 2, 3, 4, 5, 7}\n",
      "updated s {1, 2, 3, 4, 5, 7}\n",
      "updated s {1, 2, 3, 4, 5, 7}\n",
      "updated s {1, 2, 3, 4, 5, 7}\n",
      "updated s {1, 2, 3, 4, 5, 7}\n",
      "updated s {1, 2, 3, 4, 5, 7}\n",
      "updated s {1, 2, 3, 4, 5, 7}\n",
      "updated s {1, 2, 3, 4, 5, 7}\n",
      "updated s {1, 2, 3, 4, 5, 7}\n",
      "updated s {1, 2, 3, 4, 5, 7}\n",
      "updated s {1, 2, 3, 4, 5, 7}\n",
      "updated s {1, 2, 3, 4, 5, 7}\n",
      "updated s {1, 2, 3, 4, 5, 7}\n",
      "updated s {1, 2, 3, 4, 5, 7}\n",
      "updated s {1, 2, 3, 4, 5, 7}\n",
      "updated s {1, 2, 3, 4, 5, 7}\n",
      "updated s {1, 2, 3, 4, 5, 7}\n",
      "updated s {1, 2, 3, 4, 5, 7}\n",
      "updated s {1, 2, 3, 4, 5, 7}\n",
      "updated s {1, 2, 3, 4, 5, 7}\n",
      "updated s {1, 2, 3, 4, 5, 7}\n"
     ]
    }
   ],
   "source": [
    "for sub in (wires[i+1:] + wires[:i] for i in range(len(wires))):\n",
    "        print('sub', sub)\n",
    "        s = set(sub[0])\n",
    "        print('s', s)\n",
    "        for _ in sub:\n",
    "            for v in sub:\n",
    "                if set(v) & s:\n",
    "                    s.update(v)\n",
    "                print('updated s', s)"
   ]
  },
  {
   "cell_type": "markdown",
   "metadata": {
    "tags": []
   },
   "source": [
    "### [재도전]\n",
    "\n",
    "- 2023.02.03.금\n",
    "- 11:23 시작\n",
    "- 12:01 잠시 종료\n",
    "- 13:20 다시 시작\n",
    "- 13:50 끝 (성공)\n",
    "- 70분 소요\n",
    "- 핵심\n",
    "    - dfs 사용"
   ]
  },
  {
   "cell_type": "code",
   "execution_count": 42,
   "metadata": {},
   "outputs": [],
   "source": [
    "n = 7\n",
    "wires = [[1,2],[2,7],[3,7],[3,4],[4,5],[6,7]]\n",
    "# result = 1"
   ]
  },
  {
   "cell_type": "code",
   "execution_count": 39,
   "metadata": {},
   "outputs": [],
   "source": [
    "n = 9\n",
    "wires = [[1,3],[2,3],[3,4],[4,5],[4,6],[4,7],[7,9],[7,8]]\n",
    "# result = 3"
   ]
  },
  {
   "cell_type": "code",
   "execution_count": 43,
   "metadata": {},
   "outputs": [],
   "source": [
    "def solution(n, wires):\n",
    "    \n",
    "    graphs = [[] for _ in range(n+1)]\n",
    "    answer = 1e9\n",
    "    \n",
    "    for x,y in wires:\n",
    "        graphs[x].append(y)\n",
    "        graphs[y].append(x)\n",
    "        \n",
    "    for x,y in wires:\n",
    "        graphs[x].remove(y)\n",
    "        graphs[y].remove(x)\n",
    "        visited = [False] * (n+1)\n",
    "        stack = []\n",
    "        cnt = 1\n",
    "        \n",
    "        for i in range(n+1):\n",
    "            if graphs[i]:\n",
    "                visited[i] = True\n",
    "                stack.extend(graphs[i])\n",
    "                break\n",
    "                \n",
    "        while stack:\n",
    "            num = stack.pop()\n",
    "            if visited[num] == True:\n",
    "                continue\n",
    "            else:\n",
    "                visited[num] = True\n",
    "                cnt += 1\n",
    "                stack.extend(graphs[num])\n",
    "                \n",
    "        answer = min(answer, abs(cnt-(n-cnt)))\n",
    "        graphs[x].append(y)\n",
    "        graphs[y].append(x)\n",
    "                \n",
    "    return answer"
   ]
  },
  {
   "cell_type": "code",
   "execution_count": 45,
   "metadata": {},
   "outputs": [],
   "source": [
    "def solution(n, wires):\n",
    "    \n",
    "    ### 1) 그래프 생성    \n",
    "    graphs = [[] for _ in range(n+1)]\n",
    "    answer = 1e9\n",
    "    \n",
    "    for x,y in wires:\n",
    "        graphs[x].append(y)\n",
    "        graphs[y].append(x)\n",
    "    \n",
    "    ### 2) 전선 하나씩 끊어보면서 수행(완전탐색) + DFS를 위한 초기 설정\n",
    "    for x,y in wires:\n",
    "        graphs[x].remove(y)\n",
    "        graphs[y].remove(x)\n",
    "        visited = [False] * (n+1)\n",
    "        stack = []\n",
    "        cnt = 1\n",
    "        \n",
    "        ### 2-1) DFS를 위해 stack에 시작값 삽입\n",
    "        for i in range(n+1):\n",
    "            if graphs[i]:\n",
    "                visited[i] = True\n",
    "                stack.extend(graphs[i])\n",
    "                break\n",
    "        \n",
    "        ### 2-2) DFS 수행\n",
    "        while stack:\n",
    "            num = stack.pop()\n",
    "            if visited[num] == True:\n",
    "                continue\n",
    "            else:\n",
    "                visited[num] = True\n",
    "                cnt += 1\n",
    "                stack.extend(graphs[num])\n",
    "        \n",
    "        ### 2-3) 결과값 갱신 + 끊었던 전선 다시 연결\n",
    "        answer = min(answer, abs(cnt-(n-cnt)))\n",
    "        graphs[x].append(y)\n",
    "        graphs[y].append(x)\n",
    "                \n",
    "    return answer"
   ]
  },
  {
   "cell_type": "code",
   "execution_count": 46,
   "metadata": {},
   "outputs": [
    {
     "data": {
      "text/plain": [
       "1"
      ]
     },
     "execution_count": 46,
     "metadata": {},
     "output_type": "execute_result"
    }
   ],
   "source": [
    "solution(n, wires)"
   ]
  },
  {
   "cell_type": "markdown",
   "metadata": {
    "jp-MarkdownHeadingCollapsed": true,
    "tags": []
   },
   "source": [
    "## 3. 모음사전\n",
    "\n",
    "- https://school.programmers.co.kr/learn/courses/30/lessons/84512\n",
    "- level2\n",
    "- 2023.02.04.토\n",
    "- 시작 11:30\n",
    "- 끝 12:08\n",
    "- 핵심\n",
    "    - 문제에서 설명한 정렬은 원래 정렬 기준과 같은 것임\n",
    "    - 모든 경우의 수를 잘 만들어주기만 하면 됨\n",
    "    - 1) 반복문 사용하는 방법\n",
    "    - 2) product 사용하는 방법"
   ]
  },
  {
   "cell_type": "code",
   "execution_count": 12,
   "metadata": {},
   "outputs": [],
   "source": [
    "def solution(word):\n",
    "    \n",
    "    cases = []\n",
    "    alpha = ['A','E','I','O','U','']\n",
    "\n",
    "    for a in alpha[:-1]:\n",
    "        for b in alpha:\n",
    "            for c in alpha:\n",
    "                for d in alpha:\n",
    "                    for e in alpha:\n",
    "                        cases.append(f'{a}{b}{c}{d}{e}')\n",
    "\n",
    "    cases = sorted(list(set(cases)))\n",
    "    answer = cases.index(word) + 1\n",
    "    \n",
    "    return answer"
   ]
  },
  {
   "cell_type": "code",
   "execution_count": 13,
   "metadata": {},
   "outputs": [
    {
     "data": {
      "text/plain": [
       "1563"
      ]
     },
     "execution_count": 13,
     "metadata": {},
     "output_type": "execute_result"
    }
   ],
   "source": [
    "word = 'I'\n",
    "# result = 1563\n",
    "\n",
    "solution(word)"
   ]
  },
  {
   "cell_type": "code",
   "execution_count": 3,
   "metadata": {},
   "outputs": [
    {
     "data": {
      "text/plain": [
       "['AAAAE', 'AAAE', 'AEIO', 'EIO', 'I']"
      ]
     },
     "execution_count": 3,
     "metadata": {},
     "output_type": "execute_result"
    }
   ],
   "source": [
    "words = ['AAAAE','AAAE','AEIO','I','EIO']\n",
    "sorted(words)"
   ]
  },
  {
   "cell_type": "code",
   "execution_count": 5,
   "metadata": {},
   "outputs": [
    {
     "data": {
      "text/plain": [
       "[('A',), ('E',), ('I',), ('O',), ('U',)]"
      ]
     },
     "execution_count": 5,
     "metadata": {},
     "output_type": "execute_result"
    }
   ],
   "source": [
    "def make_cases(n):\n",
    "    cases = []\n",
    "    if n >= 6:\n",
    "        return cases\n",
    "    alpha = ['A','E','I','O','U','']"
   ]
  },
  {
   "cell_type": "code",
   "execution_count": 6,
   "metadata": {},
   "outputs": [
    {
     "data": {
      "text/plain": [
       "6480"
      ]
     },
     "execution_count": 6,
     "metadata": {},
     "output_type": "execute_result"
    }
   ],
   "source": [
    "5*6*6*6*6"
   ]
  },
  {
   "cell_type": "code",
   "execution_count": 14,
   "metadata": {
    "tags": []
   },
   "outputs": [
    {
     "data": {
      "text/plain": [
       "['A', 'AA', 'AAA', 'AAAA', 'AAAAA', 'AAAAE', 'AAAAI', 'AAAAO', 'AAAAU', 'AAAE']"
      ]
     },
     "execution_count": 14,
     "metadata": {},
     "output_type": "execute_result"
    }
   ],
   "source": [
    "cases = []\n",
    "alpha = ['A','E','I','O','U','']\n",
    "\n",
    "for a in alpha[:-1]:\n",
    "    for b in alpha:\n",
    "        for c in alpha:\n",
    "            for d in alpha:\n",
    "                for e in alpha:\n",
    "                    cases.append(f'{a}{b}{c}{d}{e}')\n",
    "\n",
    "sorted(list(set(cases)))[:10]"
   ]
  },
  {
   "cell_type": "code",
   "execution_count": 21,
   "metadata": {},
   "outputs": [
    {
     "data": {
      "text/plain": [
       "[('A',), ('E',), ('I',), ('O',), ('U',)]"
      ]
     },
     "execution_count": 21,
     "metadata": {},
     "output_type": "execute_result"
    }
   ],
   "source": [
    "list(product([\"A\", \"E\", \"I\", \"O\", \"U\"], repeat=1))"
   ]
  },
  {
   "cell_type": "code",
   "execution_count": 22,
   "metadata": {},
   "outputs": [],
   "source": [
    "### 모범답안\n",
    "# product 사용하는 방법\n",
    "\n",
    "from itertools import product\n",
    "def solution(word):\n",
    "    answer = 0\n",
    "    a = [\"\".join(list(j)) for i in range(1, 6) for j in product([\"A\", \"E\", \"I\", \"O\", \"U\"], repeat=i)]    \n",
    "    a.sort()\n",
    "    return a.index(word)+1"
   ]
  },
  {
   "cell_type": "code",
   "execution_count": 23,
   "metadata": {},
   "outputs": [
    {
     "data": {
      "text/plain": [
       "1563"
      ]
     },
     "execution_count": 23,
     "metadata": {},
     "output_type": "execute_result"
    }
   ],
   "source": [
    "word = 'I'\n",
    "# result = 1563\n",
    "\n",
    "solution(word)"
   ]
  },
  {
   "cell_type": "markdown",
   "metadata": {
    "tags": []
   },
   "source": [
    "## 3. 모음사전\n",
    "\n",
    "- https://school.programmers.co.kr/learn/courses/30/lessons/84512\n",
    "- level2\n",
    "- 2023.02.04.토\n",
    "- 시작 11:30\n",
    "- 끝 12:08\n",
    "- 핵심\n",
    "    - 문제에서 설명한 정렬은 원래 정렬 기준과 같은 것임\n",
    "    - 모든 경우의 수를 잘 만들어주기만 하면 됨\n",
    "    - 1) 반복문 사용하는 방법\n",
    "    - 2) product 사용하는 방법"
   ]
  },
  {
   "cell_type": "code",
   "execution_count": null,
   "metadata": {},
   "outputs": [],
   "source": []
  }
 ],
 "metadata": {
  "kernelspec": {
   "display_name": "Python 3",
   "language": "python",
   "name": "python3"
  },
  "language_info": {
   "codemirror_mode": {
    "name": "ipython",
    "version": 3
   },
   "file_extension": ".py",
   "mimetype": "text/x-python",
   "name": "python",
   "nbconvert_exporter": "python",
   "pygments_lexer": "ipython3",
   "version": "3.6.10"
  }
 },
 "nbformat": 4,
 "nbformat_minor": 4
}
