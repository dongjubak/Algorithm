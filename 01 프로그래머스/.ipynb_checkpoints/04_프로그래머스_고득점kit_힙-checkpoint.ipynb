{
 "cells": [
  {
   "cell_type": "markdown",
   "metadata": {
    "jp-MarkdownHeadingCollapsed": true,
    "tags": []
   },
   "source": [
    "### 1. 더 맵게\n",
    "\n",
    "- level 2\n",
    "- 2023.02.09.목\n",
    "- 시작 10:40\n",
    "- 끝 12:07\n",
    "- 핵심\n",
    "    1) 힙 자료구조를 이용하여 시간복잡도를 최소화  "
   ]
  },
  {
   "cell_type": "code",
   "execution_count": null,
   "metadata": {
    "jupyter": {
     "source_hidden": true
    },
    "tags": []
   },
   "outputs": [],
   "source": [
    "''' # 이전에 적었던 답\n",
    "def solution(scoville, K):\n",
    "    count = 0\n",
    "\n",
    "    scov_2 = [i for i in scoville if i < K]\n",
    "    scov_2 = sorted(scov_2)\n",
    "    len_scov_2 = len(scov_2)\n",
    "\n",
    "    while scov_2[0] < K:\n",
    "        if len(scov_2) <= 1 and len_scov_2 == len(scoville) and scov_2[0] < K:\n",
    "            return -1\n",
    "        if len(scov_2) <= 1 and len_scov_2 != len(scoville) and scov_2[0] < K:\n",
    "            count += 1\n",
    "            return count\n",
    "        scov_2[1] = scov_2[0] + scov_2[1]*2\n",
    "        scov_2.pop(0)\n",
    "        scov_2 = sorted(scov_2)\n",
    "        count += 1\n",
    "    \n",
    "    return count\n",
    "'''"
   ]
  },
  {
   "cell_type": "code",
   "execution_count": 10,
   "metadata": {},
   "outputs": [],
   "source": [
    "import heapq\n",
    "\n",
    "def solution(scov, K):\n",
    "    \n",
    "    heapq.heapify(scov)\n",
    "    answer = 0\n",
    "    \n",
    "    for i in range(len(scov)-1):\n",
    "        if scov[0] >= K:\n",
    "            break\n",
    "        answer += 1\n",
    "        a = heapq.heappop(scov)\n",
    "        b = heapq.heappop(scov)\n",
    "        heapq.heappush(scov, 2*b+a)\n",
    "        \n",
    "    if scov[0] < K:\n",
    "        return -1\n",
    "    \n",
    "    return answer"
   ]
  },
  {
   "cell_type": "code",
   "execution_count": 10,
   "metadata": {},
   "outputs": [],
   "source": [
    "import heapq\n",
    "\n",
    "def solution(scov, K):\n",
    "    \n",
    "    heapq.heapify(scov)\n",
    "    answer = 0\n",
    "    \n",
    "    for i in range(len(scov)-1):\n",
    "        if scov[0] >= K:\n",
    "            break\n",
    "        answer += 1\n",
    "        a = heapq.heappop(scov)\n",
    "        b = heapq.heappop(scov)\n",
    "        heapq.heappush(scov, 2*b+a)\n",
    "        \n",
    "    if scov[0] < K:\n",
    "        return -1\n",
    "    \n",
    "    return answer"
   ]
  },
  {
   "cell_type": "code",
   "execution_count": 13,
   "metadata": {},
   "outputs": [
    {
     "name": "stdout",
     "output_type": "stream",
     "text": [
      "[9, 12, 10, 13]\n"
     ]
    },
    {
     "data": {
      "text/plain": [
       "2"
      ]
     },
     "execution_count": 13,
     "metadata": {},
     "output_type": "execute_result"
    }
   ],
   "source": [
    "scoville = [1, 2, 3, 9, 10, 12]\n",
    "K = 7\n",
    "# result = 2\n",
    "solution(scoville, K)"
   ]
  },
  {
   "cell_type": "markdown",
   "metadata": {
    "jp-MarkdownHeadingCollapsed": true,
    "tags": []
   },
   "source": [
    "### 2. 디스크 컨트롤러\n",
    "\n",
    "- level 3\n",
    "- 2023.02.10.금\n",
    "- 시작 15:53\n",
    "- 끝 17:50\n",
    "- 실패"
   ]
  },
  {
   "cell_type": "code",
   "execution_count": 42,
   "metadata": {},
   "outputs": [],
   "source": [
    "def solution(jobs):\n",
    "    \n",
    "    graph = [1001] * 1001\n",
    "    jobs.sort(key=lambda x: (x[0],x[1]))\n",
    "    answer = []\n",
    "    time = 0\n",
    "    now = 0\n",
    "    check = False\n",
    "    \n",
    "    for at_t,req_t in jobs:\n",
    "        graph[at_t] = req_t\n",
    "    \n",
    "    while jobs:        \n",
    "        if check == False:\n",
    "            at_t, req_t = jobs.pop(0)\n",
    "            time = req_t\n",
    "            now = at_t + time\n",
    "            graph[at_t] = 1001\n",
    "            check = True\n",
    "        else:\n",
    "            req_t = min(graph[:now])\n",
    "            if req_t == 1001:\n",
    "                check = False\n",
    "                continue\n",
    "            at_t = graph.index(req_t)\n",
    "            time = req_t + now - at_t\n",
    "            now = req_t + now\n",
    "            graph[at_t] = 1001\n",
    "            jobs.remove([at_t, req_t])\n",
    "        \n",
    "        answer.append(time)\n",
    "        \n",
    "    return int(sum(answer)/len(answer))"
   ]
  },
  {
   "cell_type": "markdown",
   "metadata": {
    "jp-MarkdownHeadingCollapsed": true,
    "tags": []
   },
   "source": [
    "### 타인코드 참고\n",
    "\n",
    "- https://velog.io/@younge/Python-프로그래머스-디스크-컨트롤러-힙\n",
    "- 코드 리딩 후 다른 날에 다시 재도전 "
   ]
  },
  {
   "cell_type": "code",
   "execution_count": null,
   "metadata": {},
   "outputs": [],
   "source": [
    "### 타인코드 (비교용)\n",
    "\n",
    "from heapq import heappop, heappush\n",
    "\n",
    "def solution(jobs):\n",
    "    jobs.sort(key=lambda x: x[0], reverse=True)\n",
    "    nums = len(jobs)\n",
    "    completed = 0\n",
    "    heap = []\n",
    "    time = 0\n",
    "    while jobs != []:\n",
    "        while jobs != [] and jobs[-1][0] <= time:\n",
    "            start, duration = jobs.pop()\n",
    "            heappush(heap, (duration, start))\n",
    "        if heap == []:\n",
    "            start, duration = jobs.pop()\n",
    "            heappush(heap, (duration, start))\n",
    "            time = start\n",
    "        duration, start = heappop(heap)\n",
    "        time += duration\n",
    "        completed += time - start\n",
    "    while heap != []:\n",
    "        duration, start = heappop(heap)\n",
    "        time += duration\n",
    "        completed += time - start\n",
    "    return int(completed/nums)"
   ]
  },
  {
   "cell_type": "code",
   "execution_count": null,
   "metadata": {},
   "outputs": [],
   "source": []
  },
  {
   "cell_type": "markdown",
   "metadata": {
    "jp-MarkdownHeadingCollapsed": true,
    "tags": []
   },
   "source": [
    "### 재도전\n",
    "\n",
    "- 2023.02.16.목\n",
    "- 시작 10:51\n",
    "- 끝 11:43"
   ]
  },
  {
   "cell_type": "code",
   "execution_count": 89,
   "metadata": {},
   "outputs": [],
   "source": [
    "import heapq\n",
    "\n",
    "def solution(jobs):\n",
    "    idx = 0\n",
    "    now = 0\n",
    "    answer = []\n",
    "    jobs.sort()\n",
    "    heap = []\n",
    "\n",
    "    while idx <= len(jobs)-1:\n",
    "        if jobs[idx][0] < now:\n",
    "            now += 1\n",
    "        else:\n",
    "            now += jobs[idx][1]\n",
    "            print(1)\n",
    "            answer.append(now-jobs[idx][0])\n",
    "            while idx+1 <= len(jobs)-1:\n",
    "                if jobs[idx+1][0] <= now:\n",
    "                    heapq.heappush(heap, [jobs[idx+1][1],jobs[idx+1][0]])\n",
    "                    idx += 1\n",
    "                else:\n",
    "                    idx += 1\n",
    "                print(2, idx)\n",
    "            while heap:\n",
    "                dur, start = heapq.heappop(heap)\n",
    "                now += dur\n",
    "                answer.append(now - start)\n",
    "                print(3, idx)\n",
    "            idx += 1\n",
    "\n",
    "    return sum(answer)//len(answer)"
   ]
  },
  {
   "cell_type": "code",
   "execution_count": 90,
   "metadata": {},
   "outputs": [
    {
     "name": "stdout",
     "output_type": "stream",
     "text": [
      "1\n",
      "2 1\n",
      "2 2\n",
      "3 2\n",
      "3 2\n"
     ]
    },
    {
     "data": {
      "text/plain": [
       "9"
      ]
     },
     "execution_count": 90,
     "metadata": {},
     "output_type": "execute_result"
    }
   ],
   "source": [
    "jobs = [[0, 3], [1, 9], [2, 6]]\n",
    "# result = 9\n",
    "\n",
    "solution(jobs)"
   ]
  },
  {
   "cell_type": "code",
   "execution_count": 91,
   "metadata": {},
   "outputs": [
    {
     "name": "stdout",
     "output_type": "stream",
     "text": [
      "1\n",
      "2 1\n",
      "2 2\n",
      "2 3\n",
      "3 3\n",
      "3 3\n"
     ]
    },
    {
     "data": {
      "text/plain": [
       "9"
      ]
     },
     "execution_count": 91,
     "metadata": {},
     "output_type": "execute_result"
    }
   ],
   "source": [
    "jobs = [[0, 3], [1, 9], [2, 6], [4,9]]\n",
    "# result = 12\n",
    "\n",
    "solution(jobs)"
   ]
  },
  {
   "cell_type": "code",
   "execution_count": null,
   "metadata": {},
   "outputs": [],
   "source": [
    "import heapq\n",
    "\n",
    "def solution(jobs):\n",
    "    heap = []\n",
    "    answer = 0\n",
    "    nums = len(jobs)\n",
    "    now = 0\n",
    "    jobs.sort(reverse=True)\n",
    "    \n",
    "    while jobs:\n",
    "        if not heap:\n",
    "            start, during = jobs.pop()\n",
    "            answer += during\n",
    "            now += start+during\n",
    "            heap.heappush(heap, [during, start])\n",
    "        else:\n",
    "            start, during = heap.heappop(heap)\n",
    "            while start <= now:\n",
    "                job = jobs.pop()\n",
    "                heap.heappush(heap, [job[1], job[0]])\n",
    "                "
   ]
  },
  {
   "cell_type": "code",
   "execution_count": null,
   "metadata": {},
   "outputs": [],
   "source": [
    "import heapq\n",
    "\n",
    "def solution(jobs):\n",
    "    heap = []\n",
    "    answer = 0\n",
    "    now = 0\n",
    "    idx = 0\n",
    "    len_jobs = len(jobs)\n",
    "    jobs.sort()\n",
    "    \n",
    "    while idx <= len_jobs-1:\n",
    "        if not heap:\n",
    "            start, during = jobs[idx]\n",
    "            now = start + during\n",
    "            answer += during - start\n",
    "            \n",
    "            while idx+1 <= len_jobs-1 and jobs[idx+1][0] <= now:\n",
    "                heapq.heappush(heap, [jobs[idx+1][1], jobs[idx+1][0]])\n",
    "                idx += 1\n",
    "                \n",
    "        else:\n",
    "            during, start = heapq.heappop(heap)\n",
    "            now += during\n",
    "            answer += during - start\n",
    "            \n",
    "            while idx+1 <= len_jobs-1 and start <= now:\n",
    "                heapq.heappush(heap, [jobs[idx+1][1], jobs[idx+1][0]])\n",
    "                idx += 1\n",
    "            \n",
    "            heapq.heappush(heap, [during, start])\n",
    "            \n",
    "        "
   ]
  },
  {
   "cell_type": "markdown",
   "metadata": {
    "tags": []
   },
   "source": [
    "### 재도전\n",
    "\n",
    "- 2023.02.16.목\n",
    "- 시작 23:24\n",
    "- 끝 12:06\n",
    "- 성공!!!!!"
   ]
  },
  {
   "cell_type": "markdown",
   "metadata": {},
   "source": [
    "0) heap = [] 생성\n",
    "1) while idx <= len(jobs)-1\n",
    "    1-1) if not heap: -> jobs에서 idx로 start, during 받아온다\n",
    "        1-2) heappush([during, start])\n",
    "    1-3) if heap: -> during, start = heappop(heap)\n",
    "        1-4) answer, now 기록\n",
    "        1-5) while jobs:\n",
    "            1-6) during, start = jobs.pop()\n",
    "            1-7) if start <= now:\n",
    "                1-8) heappush([during, start])\n",
    "            1-9) else:\n",
    "                1-10) jobs.append([during, start])\n",
    "                1-11) break"
   ]
  },
  {
   "cell_type": "code",
   "execution_count": 26,
   "metadata": {},
   "outputs": [],
   "source": [
    "import heapq\n",
    "\n",
    "def solution(jobs):\n",
    "    jobs.sort(reverse=True)\n",
    "    len_jobs = len(jobs)\n",
    "    answer, now = 0, 0\n",
    "    heap = []\n",
    "    check = False\n",
    "    \n",
    "    while jobs or heap:\n",
    "        if not heap:\n",
    "            start, during = jobs.pop()\n",
    "            heapq.heappush(heap, [during, start])\n",
    "            check = True\n",
    "        else:\n",
    "            during, start = heapq.heappop(heap)\n",
    "            if check:\n",
    "                answer += during\n",
    "                now = start + during\n",
    "            else:\n",
    "                answer += now + during - start\n",
    "                now = now + during\n",
    "            while jobs:\n",
    "                start, during = jobs.pop()\n",
    "                if start <= now:\n",
    "                    heapq.heappush(heap, [during, start])\n",
    "                else:\n",
    "                    jobs.append([start, during])\n",
    "                    break\n",
    "            check = False\n",
    "        print(answer)\n",
    "        \n",
    "    return answer//len_jobs"
   ]
  },
  {
   "cell_type": "code",
   "execution_count": 27,
   "metadata": {},
   "outputs": [
    {
     "name": "stdout",
     "output_type": "stream",
     "text": [
      "0\n",
      "3\n",
      "10\n",
      "27\n"
     ]
    },
    {
     "data": {
      "text/plain": [
       "9"
      ]
     },
     "execution_count": 27,
     "metadata": {},
     "output_type": "execute_result"
    }
   ],
   "source": [
    "jobs = [[0, 3], [1, 9], [2, 6]]\n",
    "# result = 9\n",
    "\n",
    "solution(jobs)"
   ]
  },
  {
   "cell_type": "code",
   "execution_count": 28,
   "metadata": {},
   "outputs": [
    {
     "name": "stdout",
     "output_type": "stream",
     "text": [
      "0\n",
      "3\n",
      "10\n",
      "27\n",
      "50\n"
     ]
    },
    {
     "data": {
      "text/plain": [
       "12"
      ]
     },
     "execution_count": 28,
     "metadata": {},
     "output_type": "execute_result"
    }
   ],
   "source": [
    "jobs = [[0, 3], [1, 9], [2, 6], [4,9]]\n",
    "# result = 12\n",
    "\n",
    "solution(jobs)"
   ]
  },
  {
   "cell_type": "code",
   "execution_count": 29,
   "metadata": {},
   "outputs": [
    {
     "name": "stdout",
     "output_type": "stream",
     "text": [
      "0\n",
      "3\n",
      "3\n",
      "10\n"
     ]
    },
    {
     "data": {
      "text/plain": [
       "5"
      ]
     },
     "execution_count": 29,
     "metadata": {},
     "output_type": "execute_result"
    }
   ],
   "source": [
    "jobs = [[0, 3], [4,7]]\n",
    "# result = 5\n",
    "\n",
    "solution(jobs)"
   ]
  },
  {
   "cell_type": "code",
   "execution_count": null,
   "metadata": {},
   "outputs": [],
   "source": []
  }
 ],
 "metadata": {
  "kernelspec": {
   "display_name": "Python 3",
   "language": "python",
   "name": "python3"
  },
  "language_info": {
   "codemirror_mode": {
    "name": "ipython",
    "version": 3
   },
   "file_extension": ".py",
   "mimetype": "text/x-python",
   "name": "python",
   "nbconvert_exporter": "python",
   "pygments_lexer": "ipython3",
   "version": "3.6.10"
  }
 },
 "nbformat": 4,
 "nbformat_minor": 4
}
