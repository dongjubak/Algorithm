{
 "cells": [
  {
   "cell_type": "markdown",
   "id": "070377cb-7321-47fa-bbdc-5e523b51582d",
   "metadata": {
    "jp-MarkdownHeadingCollapsed": true,
    "tags": []
   },
   "source": [
    "### 1. 체육복\n",
    "\n",
    "- https://school.programmers.co.kr/learn/courses/30/lessons/42862\n",
    "- level 1\n",
    "- 2023.03.27.월\n",
    "- 시작 14:21\n",
    "- 끝 15:11\n",
    "- 성공\n",
    "- 핵심\n",
    "    - 여벌 체육복을 가져온 학생이 체육복을 도난당한 경우 처리를 잘 고려해야 함\n",
    "    - ex.) n = 4 / lost = [1,2,3] / reserve = [2,3,4] / result = 3"
   ]
  },
  {
   "cell_type": "code",
   "execution_count": 51,
   "id": "26ff8040-8788-4fd0-b150-761d99c17ff0",
   "metadata": {
    "tags": []
   },
   "outputs": [],
   "source": [
    "def solution(n, lost, reserve):\n",
    "    \n",
    "    answer = n - len(lost) + len(set(lost)&set(reserve))\n",
    "    reserve2 = list(set(reserve) - set(lost))\n",
    "    lost2 = sorted(list(set(lost) - set(reserve)))\n",
    "    lost2.sort()\n",
    "    \n",
    "    for lo in lost2:\n",
    "        if lo-1 in reserve2:\n",
    "            reserve2.remove(lo-1)\n",
    "            answer += 1\n",
    "        elif lo+1 in reserve2:\n",
    "            reserve2.remove(lo+1)\n",
    "            answer += 1\n",
    "        \n",
    "    return answer"
   ]
  },
  {
   "cell_type": "code",
   "execution_count": 52,
   "id": "9ae81c90-2ba9-4cc1-be38-362a41d453a7",
   "metadata": {
    "tags": []
   },
   "outputs": [
    {
     "data": {
      "text/plain": [
       "5"
      ]
     },
     "execution_count": 52,
     "metadata": {},
     "output_type": "execute_result"
    }
   ],
   "source": [
    "n = 5\n",
    "lost = [2, 4]\n",
    "reserve = [1, 3, 5]\n",
    "# result = 5\n",
    "\n",
    "solution(n, lost, reserve)"
   ]
  },
  {
   "cell_type": "code",
   "execution_count": 53,
   "id": "de0ad945-12b7-4fe4-9338-e6d8bef08d3d",
   "metadata": {
    "tags": []
   },
   "outputs": [
    {
     "data": {
      "text/plain": [
       "4"
      ]
     },
     "execution_count": 53,
     "metadata": {},
     "output_type": "execute_result"
    }
   ],
   "source": [
    "n = 5\n",
    "lost = [2, 4]\n",
    "reserve = [3]\n",
    "# result = 4\n",
    "\n",
    "solution(n, lost, reserve)"
   ]
  },
  {
   "cell_type": "code",
   "execution_count": 54,
   "id": "6ca8aa99-0293-4726-9164-eb7e2f977355",
   "metadata": {
    "tags": []
   },
   "outputs": [
    {
     "data": {
      "text/plain": [
       "2"
      ]
     },
     "execution_count": 54,
     "metadata": {},
     "output_type": "execute_result"
    }
   ],
   "source": [
    "n = 3\n",
    "lost = [3]\n",
    "reserve = [1]\n",
    "# result = 2\n",
    "\n",
    "solution(n, lost, reserve)"
   ]
  },
  {
   "cell_type": "code",
   "execution_count": 55,
   "id": "39d1eb8c-ea81-4a3e-b085-ac5655879c6c",
   "metadata": {
    "tags": []
   },
   "outputs": [
    {
     "data": {
      "text/plain": [
       "3"
      ]
     },
     "execution_count": 55,
     "metadata": {},
     "output_type": "execute_result"
    }
   ],
   "source": [
    "n = 4\n",
    "lost = [1,2,3]\n",
    "reserve = [2,3,4]\n",
    "# result = 3\n",
    "\n",
    "solution(n, lost, reserve)"
   ]
  },
  {
   "cell_type": "code",
   "execution_count": 58,
   "id": "401d718e-d623-4f38-af71-a3cbfc180c61",
   "metadata": {
    "tags": []
   },
   "outputs": [],
   "source": [
    "### 모범답안\n",
    "\n",
    "def solution(n, lost, reserve):\n",
    "    _reserve = [r for r in reserve if r not in lost]\n",
    "    _lost = set([l for l in lost if l not in reserve])\n",
    "    for r in _reserve:\n",
    "        f = r - 1\n",
    "        b = r + 1\n",
    "        if f in _lost:\n",
    "            _lost.remove(f)\n",
    "        elif b in _lost:\n",
    "            _lost.remove(b)\n",
    "    return n - len(_lost)"
   ]
  },
  {
   "cell_type": "code",
   "execution_count": 59,
   "id": "08ef1bc5-0d93-4a6f-95a8-f541b98a37ff",
   "metadata": {
    "tags": []
   },
   "outputs": [
    {
     "data": {
      "text/plain": [
       "3"
      ]
     },
     "execution_count": 59,
     "metadata": {},
     "output_type": "execute_result"
    }
   ],
   "source": [
    "n = 4\n",
    "lost = [1,2,3]\n",
    "reserve = [2,3,4]\n",
    "# result = 3\n",
    "\n",
    "solution(n, lost, reserve)"
   ]
  },
  {
   "cell_type": "markdown",
   "id": "79e0663e-51e9-4f47-aebb-247e1dbca833",
   "metadata": {
    "jp-MarkdownHeadingCollapsed": true,
    "tags": []
   },
   "source": [
    "### 2. 조이스틱\n",
    "\n",
    "- https://school.programmers.co.kr/learn/courses/30/lessons/42860\n",
    "- level 2\n",
    "- 2023.03.27.월\n",
    "- 시작 15:35\n",
    "- 끝 15:30\n",
    "- 실패\n",
    "    - 커서 이동하는 부분이 상당히 어려움"
   ]
  },
  {
   "cell_type": "code",
   "execution_count": 71,
   "id": "db6af864-6a51-4a61-a4bb-d64d5cecfdfa",
   "metadata": {
    "tags": []
   },
   "outputs": [],
   "source": [
    "def solution(name):\n",
    "    \n",
    "    alpha = 'ABCDEFGHIJKLMNOPQRSTUVWXYZ'\n",
    "    answer = 0\n",
    "    \n",
    "    for nm in name:\n",
    "        if nm == 'A':\n",
    "            continue\n",
    "        else:\n",
    "            answer += min(alpha.index(nm), 26-alpha.index(nm))\n",
    "    \n",
    "    return answer"
   ]
  },
  {
   "cell_type": "code",
   "execution_count": 68,
   "id": "934bf683-604b-41b9-b98f-360ad7bc9694",
   "metadata": {
    "tags": []
   },
   "outputs": [
    {
     "data": {
      "text/plain": [
       "51"
      ]
     },
     "execution_count": 68,
     "metadata": {},
     "output_type": "execute_result"
    }
   ],
   "source": [
    "name = \"JEROEN\"\n",
    "#result = 56\n",
    "\n",
    "solution(name)"
   ]
  },
  {
   "cell_type": "code",
   "execution_count": 69,
   "id": "f833f481-f147-43be-ae91-e246fe1e45fb",
   "metadata": {
    "tags": []
   },
   "outputs": [
    {
     "data": {
      "text/plain": [
       "22"
      ]
     },
     "execution_count": 69,
     "metadata": {},
     "output_type": "execute_result"
    }
   ],
   "source": [
    "name = \"JAN\"\n",
    "#result = 23\n",
    "\n",
    "solution(name)"
   ]
  },
  {
   "cell_type": "code",
   "execution_count": 74,
   "id": "1a55852c-13a6-46a6-93fa-4f656cd71f86",
   "metadata": {
    "tags": []
   },
   "outputs": [
    {
     "data": {
      "text/plain": [
       "3"
      ]
     },
     "execution_count": 74,
     "metadata": {},
     "output_type": "execute_result"
    }
   ],
   "source": [
    "name = \"BBAAAB\"\n",
    "#result = 6\n",
    "\n",
    "solution(name)"
   ]
  },
  {
   "cell_type": "code",
   "execution_count": 75,
   "id": "5c88cc27-d43f-41f8-a310-fdd1197075a2",
   "metadata": {
    "tags": []
   },
   "outputs": [
    {
     "data": {
      "text/plain": [
       "3"
      ]
     },
     "execution_count": 75,
     "metadata": {},
     "output_type": "execute_result"
    }
   ],
   "source": [
    "name = \"BBAAAABBAB\"\n",
    "#result = \n",
    "\n",
    "solution(name)"
   ]
  },
  {
   "cell_type": "code",
   "execution_count": 39,
   "id": "a8d661d4-ebd0-42ab-a86c-a1a6a3cc67fb",
   "metadata": {},
   "outputs": [],
   "source": [
    "### 모범답안\n",
    "# https://velog.io/@jqdjhy/프로그래머스-파이썬-조이스틱-Greedy\n",
    "# 이해 완료\n",
    "\n",
    "def solution(name):\n",
    "\n",
    "    # 조이스틱 조작 횟수 \n",
    "    answer = 0\n",
    "\n",
    "    # 기본 최소 좌우이동 횟수는 길이 - 1\n",
    "    min_move = len(name) - 1\n",
    "\n",
    "    for i, char in enumerate(name):\n",
    "        # 해당 알파벳 변경 최솟값 추가\n",
    "        answer += min(ord(char) - ord('A'), ord('Z') - ord(char) + 1)\n",
    "\n",
    "        # 해당 알파벳 다음부터 연속된 A 문자열 찾기\n",
    "        next = i + 1\n",
    "        while next < len(name) and name[next] == 'A':\n",
    "            next += 1\n",
    "\n",
    "        # 기존, 연속된 A의 왼쪽시작 방식, 연속된 A의 오른쪽시작 방식 비교 및 갱신\n",
    "        min_move = min([min_move, 2 *i + len(name) - next, i + 2 * (len(name) -next)])\n",
    "\n",
    "    # 알파벳 변경(상하이동) 횟수에 좌우이동 횟수 추가\n",
    "    answer += min_move\n",
    "    return answer"
   ]
  },
  {
   "cell_type": "code",
   "execution_count": 40,
   "id": "8cb4ea8c-4fad-4763-88f8-dda50e8f44d7",
   "metadata": {},
   "outputs": [],
   "source": [
    "def solution(name):\n",
    "\n",
    "    answer = 0\n",
    "    min_move = len(name) - 1\n",
    "\n",
    "    for i, char in enumerate(name):\n",
    "        answer += min(ord(char) - ord('A'), ord('Z') - ord(char) + 1)\n",
    "        nextt = i + 1\n",
    "        while nextt < len(name) and name[nextt] == 'A':\n",
    "            nextt += 1\n",
    "\n",
    "        min_move = min([min_move, 2 * i + len(name) - nextt, i + 2 * (len(name) - nextt)])\n",
    "\n",
    "    answer += min_move\n",
    "    return answer"
   ]
  },
  {
   "cell_type": "code",
   "execution_count": 41,
   "id": "f8c011f2-e8d2-4987-9daa-06f26dd2a26b",
   "metadata": {
    "tags": []
   },
   "outputs": [
    {
     "data": {
      "text/plain": [
       "11"
      ]
     },
     "execution_count": 41,
     "metadata": {},
     "output_type": "execute_result"
    }
   ],
   "source": [
    "name = \"BBAAAABBAB\"\n",
    "#result = \n",
    "\n",
    "solution(name)"
   ]
  },
  {
   "cell_type": "code",
   "execution_count": 36,
   "id": "6c59de4f-2ef3-4079-a2d8-822dd243a6de",
   "metadata": {
    "tags": []
   },
   "outputs": [],
   "source": [
    "### 다른 사람 답안 (이해 완료)\n",
    "\n",
    "from collections import deque\n",
    "from itertools import product\n",
    "\n",
    "def solution(name):    \n",
    "    results = []\n",
    "\n",
    "    for rs in product((-1,1), repeat=len(name)-1):\n",
    "        name_deque = deque(name)\n",
    "        default = deque('A'*len(name))\n",
    "        \n",
    "        for c, r in enumerate([0]+list(rs)):\n",
    "            default.rotate(r)\n",
    "            name_deque.rotate(r)\n",
    "            default[0] = name_deque[0]\n",
    "\n",
    "            if name_deque == default:\n",
    "                results.append(c)\n",
    "                print([0]+list(rs), results)\n",
    "                break\n",
    "\n",
    "    return min(set(results))+sum([min(ord(l)-ord('A'), ord('Z')-ord(l)+1) for l in name])"
   ]
  },
  {
   "cell_type": "code",
   "execution_count": 37,
   "id": "b64f775f-fd27-4c9e-805d-ae78b400cfad",
   "metadata": {
    "tags": []
   },
   "outputs": [
    {
     "name": "stdout",
     "output_type": "stream",
     "text": [
      "[0, -1, -1, -1, -1, -1] [5]\n",
      "[0, -1, -1, 1, 1, 1] [5, 5]\n",
      "[0, -1, 1, -1, 1, 1] [5, 5, 5]\n",
      "[0, -1, 1, 1, -1, -1] [5, 5, 5, 3]\n",
      "[0, -1, 1, 1, -1, 1] [5, 5, 5, 3, 3]\n",
      "[0, -1, 1, 1, 1, -1] [5, 5, 5, 3, 3, 3]\n",
      "[0, -1, 1, 1, 1, 1] [5, 5, 5, 3, 3, 3, 3]\n",
      "[0, 1, -1, -1, -1, -1] [5, 5, 5, 3, 3, 3, 3, 3]\n",
      "[0, 1, -1, -1, -1, 1] [5, 5, 5, 3, 3, 3, 3, 3, 3]\n",
      "[0, 1, -1, -1, 1, -1] [5, 5, 5, 3, 3, 3, 3, 3, 3, 3]\n",
      "[0, 1, -1, -1, 1, 1] [5, 5, 5, 3, 3, 3, 3, 3, 3, 3, 3]\n",
      "[0, 1, -1, 1, -1, -1] [5, 5, 5, 3, 3, 3, 3, 3, 3, 3, 3, 5]\n",
      "[0, 1, 1, -1, -1, -1] [5, 5, 5, 3, 3, 3, 3, 3, 3, 3, 3, 5, 5]\n",
      "[0, 1, 1, 1, 1, 1] [5, 5, 5, 3, 3, 3, 3, 3, 3, 3, 3, 5, 5, 5]\n"
     ]
    },
    {
     "data": {
      "text/plain": [
       "6"
      ]
     },
     "execution_count": 37,
     "metadata": {},
     "output_type": "execute_result"
    }
   ],
   "source": [
    "name = \"BBAAAB\"\n",
    "#result = 6\n",
    "\n",
    "solution(name)"
   ]
  },
  {
   "cell_type": "markdown",
   "id": "75ad779f-1d74-45b9-bd11-49c7820b2732",
   "metadata": {
    "jp-MarkdownHeadingCollapsed": true,
    "tags": []
   },
   "source": [
    "### 3. 큰 수 만들기\n",
    "\n",
    "- https://school.programmers.co.kr/learn/courses/30/lessons/42883\n",
    "- level 2\n",
    "- 2023.03.29.수\n",
    "- 시작 18:07"
   ]
  },
  {
   "cell_type": "code",
   "execution_count": 102,
   "id": "d07adda3-ac26-4f3b-a995-74c19709f551",
   "metadata": {
    "tags": []
   },
   "outputs": [],
   "source": [
    "### 시간초과\n",
    "\n",
    "from itertools import combinations\n",
    "\n",
    "def solution(number, k):\n",
    "\n",
    "    combi = list(combinations(number, len(number)-k))\n",
    "    #print(combi)\n",
    "    #print(list(map(lambda x: ''.join(x), combi)))\n",
    "    \n",
    "    answer = list(map(lambda x: ''.join(x), combi))\n",
    "        \n",
    "    return max(answer)"
   ]
  },
  {
   "cell_type": "code",
   "execution_count": 156,
   "id": "7efdf921-9d7d-4703-8ee5-4a27ef49cad6",
   "metadata": {
    "tags": []
   },
   "outputs": [],
   "source": [
    "### 10번 케이스 시간초과\n",
    "\n",
    "def solution(number, k):\n",
    "    \n",
    "    answer = ''\n",
    "    \n",
    "    first_num = max(number[:k+1])\n",
    "    answer += first_num\n",
    "    idx = number[:k+1].index(first_num)\n",
    "    \n",
    "    for i in range(len(number)-k-1):\n",
    "        if len(number)-k-i-2 == 0:\n",
    "            choice = max(number[idx+1:])\n",
    "            idx += number[idx+1:].index(choice) + 1\n",
    "        else:\n",
    "            choice = max(number[idx+1:-(len(number)-k-i-2)])\n",
    "            idx += number[idx+1:-(len(number)-k-i-2)].index(choice) + 1\n",
    "        answer += choice\n",
    "        \n",
    "    return answer"
   ]
  },
  {
   "cell_type": "code",
   "execution_count": 179,
   "id": "73439c60-05df-4455-adaf-38f01aa2114b",
   "metadata": {
    "tags": []
   },
   "outputs": [],
   "source": [
    "### 런타임 에러\n",
    "\n",
    "def solution(number, k):\n",
    "    \n",
    "    answer = ''\n",
    "    \n",
    "    first_num = max(number[:k+1])\n",
    "    answer += first_num\n",
    "    idx = number[:k+1].index(first_num)\n",
    "    \n",
    "    for i in range(len(number)-k-1):\n",
    "        if len(number)-k-i-2 == 0:\n",
    "            if '9' in number[idx+1:]:\n",
    "                choice = '9'\n",
    "            else:\n",
    "                choice = max(number[idx+1:])\n",
    "            idx += number[idx+1:].index(choice) + 1\n",
    "        else:\n",
    "            if '9' in number[idx+1:]:\n",
    "                choice = '9'\n",
    "            else:\n",
    "                choice = max(number[idx+1:-(len(number)-k-i-2)])\n",
    "            idx += number[idx+1:-(len(number)-k-i-2)].index(choice) + 1\n",
    "        answer += choice\n",
    "        \n",
    "    return answer"
   ]
  },
  {
   "cell_type": "code",
   "execution_count": 164,
   "id": "c9c01318-8207-421b-87b9-c978a9f75990",
   "metadata": {
    "tags": []
   },
   "outputs": [],
   "source": [
    "### 성공\n",
    "\n",
    "def solution(number, k):\n",
    "    \n",
    "    answer = ''\n",
    "    \n",
    "    first_num = max(number[:k+1])\n",
    "    answer += first_num\n",
    "    idx = number[:k+1].index(first_num)\n",
    "    \n",
    "    for i in range(len(number)-k-1):\n",
    "        \n",
    "        if len(number)-k-i-2 == 0:\n",
    "            for num in range(9,-1,-1):\n",
    "                if str(num) in number[idx+1:]:\n",
    "                    choice = str(num)\n",
    "                    break\n",
    "            idx += number[idx+1:].index(choice) + 1\n",
    "            \n",
    "        else:\n",
    "            for num in range(9,-1,-1):\n",
    "                if str(num) in number[idx+1:-(len(number)-k-i-2)]:\n",
    "                    choice = str(num)\n",
    "                    break\n",
    "            idx += number[idx+1:-(len(number)-k-i-2)].index(choice) + 1\n",
    "            \n",
    "        answer += choice\n",
    "        \n",
    "    return answer"
   ]
  },
  {
   "cell_type": "code",
   "execution_count": 180,
   "id": "29ca02b0-8c18-41f8-a50e-1d47d378e570",
   "metadata": {
    "tags": []
   },
   "outputs": [
    {
     "data": {
      "text/plain": [
       "'94'"
      ]
     },
     "execution_count": 180,
     "metadata": {},
     "output_type": "execute_result"
    }
   ],
   "source": [
    "number = '1924'\n",
    "k = 2\n",
    "\n",
    "solution(number, k)"
   ]
  },
  {
   "cell_type": "code",
   "execution_count": 181,
   "id": "6edbbf77-37e1-4a54-bcef-6f1d47bf1cfb",
   "metadata": {
    "tags": []
   },
   "outputs": [
    {
     "data": {
      "text/plain": [
       "'3234'"
      ]
     },
     "execution_count": 181,
     "metadata": {},
     "output_type": "execute_result"
    }
   ],
   "source": [
    "number = '1231234'\n",
    "k = 3\n",
    "\n",
    "solution(number, k)"
   ]
  },
  {
   "cell_type": "code",
   "execution_count": 182,
   "id": "9bac9aa2-95a2-449d-8824-9de0afe08aad",
   "metadata": {
    "tags": []
   },
   "outputs": [
    {
     "data": {
      "text/plain": [
       "'775841'"
      ]
     },
     "execution_count": 182,
     "metadata": {},
     "output_type": "execute_result"
    }
   ],
   "source": [
    "number = '4177252841'\n",
    "k = 4\n",
    "\n",
    "solution(number, k)"
   ]
  },
  {
   "cell_type": "code",
   "execution_count": 185,
   "id": "5b2b2641-0f8a-4906-ae86-b911ebf65e44",
   "metadata": {
    "tags": []
   },
   "outputs": [],
   "source": [
    "### 타인코드. 모범답안\n",
    "# https://wellsw.tistory.com/m/205\n",
    "\n",
    "def solution(number, k):\n",
    "    stack = []\n",
    "    for n in number:\n",
    "        while stack and stack[-1] < n and k > 0:\n",
    "            stack.pop()\n",
    "            k -= 1\n",
    "        stack.append(n)\n",
    "\n",
    "    # 아직 제거되지 못 한 숫자를 뒤에서 삭제\n",
    "    if k > 0:\n",
    "        stack = stack[:-k]\n",
    "\n",
    "    return ''.join(stack)"
   ]
  },
  {
   "cell_type": "markdown",
   "id": "3b40d46e-b047-470c-9e9c-60a03d95f02f",
   "metadata": {
    "tags": []
   },
   "source": [
    "### 4. 구명보트\n",
    "\n",
    "- https://school.programmers.co.kr/learn/courses/30/lessons/42885\n",
    "- level 2\n",
    "- 2023.03.30.목\n",
    "- 시작 11:50\n",
    "- 끝 12:48\n",
    "- 실패\n",
    "    - 시간초과 + 1,4,5 못 맞춤\n",
    "- 재도전\n",
    "- 시작 12:55\n",
    "- 끝 13:11\n",
    "- 성공\n",
    "    - 문제를 제대로 읽었어야 했음\n",
    "    - **구명보트는 작아서 한 번에 최대 2명씩 밖에 탈 수 없다!**\n",
    "    - 제일 큰 사람과 제일 작은 사람을 하나씩 비교하면 됨 (쉬움)"
   ]
  },
  {
   "cell_type": "code",
   "execution_count": 13,
   "id": "fb08fffb-7c5c-4745-ad83-c7fb150f17e1",
   "metadata": {},
   "outputs": [],
   "source": [
    "### 실패\n",
    "# 정확성) 1,4,5 실패\n",
    "# 효율성) 다 시간초과\n",
    "\n",
    "def solution(people, limit):\n",
    "    \n",
    "    answer = 0\n",
    "    stack = 0\n",
    "    people.sort(reverse=True)\n",
    "    i = 0\n",
    "    \n",
    "    while people or stack:\n",
    "        if stack == 0:\n",
    "            stack += people.pop(0)\n",
    "        else:\n",
    "            if people:\n",
    "                if people[i] + stack > limit:\n",
    "                    i += 1\n",
    "                elif people[i] + stack < limit:\n",
    "                    stack += people.pop(i)\n",
    "                else:\n",
    "                    people.pop(i)\n",
    "                    answer += 1\n",
    "                    stack = 0\n",
    "                    i = 0\n",
    "            if i > len(people)-1 and stack != 0:\n",
    "                answer += 1\n",
    "                stack = 0\n",
    "                i = 0\n",
    "                \n",
    "    return answer"
   ]
  },
  {
   "cell_type": "code",
   "execution_count": 34,
   "id": "a41907d0-e9c0-427f-a734-1a2707aeeddb",
   "metadata": {
    "tags": []
   },
   "outputs": [],
   "source": [
    "from collections import deque\n",
    "\n",
    "def solution(people, limit):\n",
    "    \n",
    "    people.sort(reverse=True)\n",
    "    people = deque(people)\n",
    "    big = 0\n",
    "    answer = 0\n",
    "    \n",
    "    while people:\n",
    "        if big == 0:\n",
    "            big = people.popleft()\n",
    "            if not people:\n",
    "                answer += 1\n",
    "        else:\n",
    "            small = people.pop()\n",
    "            if big + small <= limit:\n",
    "                answer += 1\n",
    "                big = 0\n",
    "            else:\n",
    "                people.append(small)\n",
    "                answer += 1\n",
    "                big = 0\n",
    "                \n",
    "    return answer"
   ]
  },
  {
   "cell_type": "code",
   "execution_count": 35,
   "id": "97539909-a18a-42f2-8b49-e3f75600684f",
   "metadata": {
    "tags": []
   },
   "outputs": [
    {
     "data": {
      "text/plain": [
       "3"
      ]
     },
     "execution_count": 35,
     "metadata": {},
     "output_type": "execute_result"
    }
   ],
   "source": [
    "people = [70, 50, 80, 50]\n",
    "limit = 100\n",
    "#result = 3\n",
    "\n",
    "solution(people, limit)"
   ]
  },
  {
   "cell_type": "code",
   "execution_count": 36,
   "id": "83681ccf-8ab0-435f-9dd1-1026c957414a",
   "metadata": {
    "tags": []
   },
   "outputs": [
    {
     "data": {
      "text/plain": [
       "3"
      ]
     },
     "execution_count": 36,
     "metadata": {},
     "output_type": "execute_result"
    }
   ],
   "source": [
    "people = [70, 80, 50]\n",
    "limit = 100\n",
    "#result = 3\n",
    "\n",
    "solution(people, limit)"
   ]
  },
  {
   "cell_type": "code",
   "execution_count": null,
   "id": "6de4698c-4d2f-4f76-a6ed-933dc3745fa4",
   "metadata": {},
   "outputs": [],
   "source": [
    "### 모범답안\n",
    "# https://velog.io/@sem/프로그래머스-LEVEL2-구명보트-Python\n",
    "\n",
    "def solution(people, limit) :\n",
    "    answer = 0\n",
    "    people.sort()\n",
    "\n",
    "    a = 0\n",
    "    b = len(people) - 1\n",
    "    while a < b :\n",
    "        if people[b] + people[a] <= limit :\n",
    "            a += 1\n",
    "            answer += 1\n",
    "        b -= 1\n",
    "    return len(people) - answer"
   ]
  }
 ],
 "metadata": {
  "kernelspec": {
   "display_name": "Python 3",
   "language": "python",
   "name": "python3"
  },
  "language_info": {
   "codemirror_mode": {
    "name": "ipython",
    "version": 3
   },
   "file_extension": ".py",
   "mimetype": "text/x-python",
   "name": "python",
   "nbconvert_exporter": "python",
   "pygments_lexer": "ipython3",
   "version": "3.8.16"
  }
 },
 "nbformat": 4,
 "nbformat_minor": 5
}
