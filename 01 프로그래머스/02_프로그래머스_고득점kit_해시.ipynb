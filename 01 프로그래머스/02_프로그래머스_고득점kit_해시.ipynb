{
 "cells": [
  {
   "cell_type": "markdown",
   "id": "1f01480e-4ef9-4525-966b-dd277007bd5b",
   "metadata": {},
   "source": [
    "## 해시"
   ]
  },
  {
   "cell_type": "markdown",
   "id": "9793e3fb-43d2-4278-81b0-623031e0758d",
   "metadata": {},
   "source": [
    "### 1. 완주하지 못한 선수\n",
    "\n",
    "- level 1\n",
    "- 2022.12.05. 월\n",
    "- 시작 21:00\n",
    "- 끝 21:35\n",
    "- 핵심\n",
    "    - 시간복잡도 해결이 핵심"
   ]
  },
  {
   "cell_type": "code",
   "execution_count": null,
   "id": "5a8c65f6-2866-429c-9f62-0f650e647938",
   "metadata": {},
   "outputs": [],
   "source": [
    "# 내코드\n",
    "# 통과했으나 조금 느림\n",
    "\n",
    "def solution(participant, completion):\n",
    "    result = dict()\n",
    "    for x in completion:\n",
    "        if x not in result.keys():\n",
    "            result[x] = 1\n",
    "        else:\n",
    "            result[x] += 1\n",
    "    \n",
    "    for x in participant:\n",
    "        if x not in result.keys() or result[x] == 0:\n",
    "            return x\n",
    "        elif x in result.keys():\n",
    "            result[x] -= 1"
   ]
  },
  {
   "cell_type": "code",
   "execution_count": null,
   "id": "816cb9bc-623a-46e1-ad18-25442c139610",
   "metadata": {
    "jupyter": {
     "source_hidden": true
    },
    "tags": []
   },
   "outputs": [],
   "source": [
    "# 내코드\n",
    "# 통과했으나 조금 느림\n",
    "\n",
    "def solution(participant, completion):\n",
    "    result = dict() # 결과 저장용 - 완주자 dict\n",
    "    for x in completion: # 반복문을 통해 완주자를 dict에 기록\n",
    "        if x not in result.keys():\n",
    "            result[x] = 1\n",
    "        else: # 동명이인인 경우\n",
    "            result[x] += 1\n",
    "    \n",
    "    for x in participant: # 반복문을 통해 참가자를 dict에서 매칭하여 값을 수정\n",
    "        if x not in result.keys() or result[x] == 0: # 완주자 dict에 해당 이름이 없거나 해당 값이 0인 경우 (정답)\n",
    "            return x\n",
    "        elif x in result.keys(): # 있는 경우\n",
    "            result[x] -= 1"
   ]
  },
  {
   "cell_type": "code",
   "execution_count": 14,
   "id": "b302978a-86cf-4a03-aabf-7a13f9b0dbd3",
   "metadata": {},
   "outputs": [],
   "source": [
    "def solution(participant, completion):\n",
    "    participant.sort()\n",
    "    completion.sort()\n",
    "    \n",
    "    for x,y in zip(participant, completion):\n",
    "        if x != y:\n",
    "            return x\n",
    "        \n",
    "    return participant[-1]"
   ]
  },
  {
   "cell_type": "code",
   "execution_count": null,
   "id": "3d795a44-7cc4-49d4-b545-437a44496277",
   "metadata": {},
   "outputs": [],
   "source": [
    "# 모범답안\n",
    "\n",
    "import collections\n",
    "\n",
    "def solution(participant, completion):\n",
    "    answer = collections.Counter(participant) - collections.Counter(completion)\n",
    "    return list(answer.keys())[0]"
   ]
  },
  {
   "cell_type": "code",
   "execution_count": 15,
   "id": "02f09764-e85e-4ca2-980a-36e4a5c3de6e",
   "metadata": {},
   "outputs": [
    {
     "data": {
      "text/plain": [
       "5497110250706039041"
      ]
     },
     "execution_count": 15,
     "metadata": {},
     "output_type": "execute_result"
    }
   ],
   "source": [
    "hash('leeshin')"
   ]
  },
  {
   "cell_type": "code",
   "execution_count": 16,
   "id": "d796dbda-19e0-4132-a5f1-fd557a6b2499",
   "metadata": {},
   "outputs": [
    {
     "data": {
      "text/plain": [
       "int"
      ]
     },
     "execution_count": 16,
     "metadata": {},
     "output_type": "execute_result"
    }
   ],
   "source": [
    "type(hash('leeshin'))"
   ]
  },
  {
   "cell_type": "markdown",
   "id": "2b55bcb8-7625-409e-b87c-b8a2a31e82be",
   "metadata": {},
   "source": [
    "### 2. 폰켓몬\n",
    "\n",
    "- level 1\n",
    "- 2022.12.05. 월\n",
    "- 시작 21:38\n",
    "- 끝 21:51"
   ]
  },
  {
   "cell_type": "code",
   "execution_count": 17,
   "id": "d0eef409-f100-495c-805b-30e7363b3e4b",
   "metadata": {},
   "outputs": [],
   "source": [
    "nums = [3,1,2,3]"
   ]
  },
  {
   "cell_type": "code",
   "execution_count": 22,
   "id": "d6b38dc4-fd90-40f4-bfd5-6dede01c1250",
   "metadata": {},
   "outputs": [],
   "source": [
    "def solution(nums):\n",
    "    len_nums = len(nums) // 2\n",
    "    set_nums = list(set(nums))\n",
    "    if len_nums <= len(set_nums):\n",
    "        return len_nums\n",
    "    else:\n",
    "        return len(set_nums)"
   ]
  },
  {
   "cell_type": "code",
   "execution_count": 23,
   "id": "c455f3b3-30f7-4090-ab2b-c9a35a2fdf02",
   "metadata": {},
   "outputs": [],
   "source": [
    "# 예전 정답\n",
    "\n",
    "def solution(nums):\n",
    "    n = len(nums)/2\n",
    "    nums = set(nums)\n",
    "    answer = len(nums)\n",
    "    if answer > n:\n",
    "        answer = n\n",
    "    return answer"
   ]
  },
  {
   "cell_type": "code",
   "execution_count": null,
   "id": "82baf98b-a8ac-404f-ac43-fd2e0aff1ed0",
   "metadata": {},
   "outputs": [],
   "source": [
    "# 모범답안\n",
    "\n",
    "def solution(ls):\n",
    "    return min(len(ls)/2, len(set(ls)))"
   ]
  },
  {
   "cell_type": "markdown",
   "id": "1bf86bdd-07b1-4372-ae4f-bb825b544691",
   "metadata": {
    "tags": []
   },
   "source": [
    "### 2. 전화번호 목록\n",
    "\n",
    "- level 2\n",
    "- 2022.12.05. 월\n",
    "- 시작 21:57\n",
    "- 끝 22:45\n",
    "- 핵심\n",
    "    - 시간 복잡도 해결이 핵심\n",
    "    - str이 정렬되는 방법을 생각해본다면 굳이 2중 for문이 필요하지 않음을 알 수 있다."
   ]
  },
  {
   "cell_type": "code",
   "execution_count": 58,
   "id": "a7f8ce66-89b7-4dbb-b1ea-2cae6ab540a2",
   "metadata": {},
   "outputs": [],
   "source": [
    "phone_book = [\"119\", \"97674223\", \"1195524421\"]\n",
    "# phone_book = [\"123\",\"456\",\"789\"]"
   ]
  },
  {
   "cell_type": "code",
   "execution_count": 56,
   "id": "46419e4c-8ca8-4fe4-a811-e76547de397d",
   "metadata": {},
   "outputs": [],
   "source": [
    "# 효율성 테스트 3,4 시간초과\n",
    "\n",
    "def solution(phone_book):\n",
    "    phone_book = sorted(phone_book, key=lambda x: len(x))\n",
    "    \n",
    "    for idx,x in enumerate(phone_book[:-1]):\n",
    "        result = ([1 if i[:len(x)] == x else 0 for i in phone_book[idx+1:]])\n",
    "        if sum(result) >= 1:\n",
    "            return False\n",
    "\n",
    "    return True"
   ]
  },
  {
   "cell_type": "code",
   "execution_count": null,
   "id": "3f825d10-3d12-44ca-a66a-165353018d3d",
   "metadata": {},
   "outputs": [],
   "source": [
    "# 마찬가지\n",
    "\n",
    "def solution(phone_book):\n",
    "    phone_book = sorted(phone_book, key=lambda x: len(x))\n",
    "    \n",
    "    for idx,x in enumerate(phone_book[:-1]):\n",
    "        for i in phone_book[idx+1:]:\n",
    "            if i[:len(x)] == x:\n",
    "                return False\n",
    "            \n",
    "    return True"
   ]
  },
  {
   "cell_type": "code",
   "execution_count": null,
   "id": "88886ad9-6fc5-412b-8481-207a390d30c4",
   "metadata": {},
   "outputs": [],
   "source": [
    "def solution(phone_book):\n",
    "    phone_book.sort()\n",
    "    \n",
    "    for idx,x in enumerate(phone_book[:-1]):\n",
    "        if x == phone_book[idx+1][:len(x)]:\n",
    "            return False\n",
    "            \n",
    "    return True"
   ]
  },
  {
   "cell_type": "code",
   "execution_count": 61,
   "id": "886a2e06-8bad-48ec-a375-22b764fbfb7d",
   "metadata": {},
   "outputs": [
    {
     "data": {
      "text/plain": [
       "['119', '1195524421', '97674223']"
      ]
     },
     "execution_count": 61,
     "metadata": {},
     "output_type": "execute_result"
    }
   ],
   "source": [
    "sorted(phone_book)"
   ]
  },
  {
   "cell_type": "code",
   "execution_count": null,
   "id": "47217f01-9606-4876-b5c2-5d7ab07e6bca",
   "metadata": {},
   "outputs": [],
   "source": [
    "# 모범답안\n",
    "\n",
    "def solution(phoneBook):\n",
    "    phoneBook = sorted(phoneBook)\n",
    "\n",
    "    for p1, p2 in zip(phoneBook, phoneBook[1:]):\n",
    "        if p2.startswith(p1):\n",
    "            return False\n",
    "    return True"
   ]
  }
 ],
 "metadata": {
  "kernelspec": {
   "display_name": "Python 3",
   "language": "python",
   "name": "python3"
  },
  "language_info": {
   "codemirror_mode": {
    "name": "ipython",
    "version": 3
   },
   "file_extension": ".py",
   "mimetype": "text/x-python",
   "name": "python",
   "nbconvert_exporter": "python",
   "pygments_lexer": "ipython3",
   "version": "3.6.10"
  }
 },
 "nbformat": 4,
 "nbformat_minor": 5
}
